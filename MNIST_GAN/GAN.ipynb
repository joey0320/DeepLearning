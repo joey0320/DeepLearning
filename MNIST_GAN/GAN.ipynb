{
  "nbformat": 4,
  "nbformat_minor": 0,
  "metadata": {
    "colab": {
      "name": "GAN.ipynb",
      "provenance": []
    },
    "kernelspec": {
      "name": "python3",
      "display_name": "Python 3"
    },
    "accelerator": "GPU"
  },
  "cells": [
    {
      "cell_type": "code",
      "metadata": {
        "id": "frUOPOZEH6f1",
        "colab_type": "code",
        "colab": {}
      },
      "source": [
        "import torch\n",
        "import torch.nn as nn\n",
        "import torch.optim as optim\n",
        "from torch.utils.data import DataLoader\n",
        "import torchvision\n",
        "import torchvision.transforms as transforms\n",
        "import os\n",
        "from tqdm import trange\n",
        "import numpy as np\n",
        "import matplotlib.pyplot as plt\n"
      ],
      "execution_count": 0,
      "outputs": []
    },
    {
      "cell_type": "code",
      "metadata": {
        "id": "Ee-LQKXIIPgS",
        "colab_type": "code",
        "colab": {
          "base_uri": "https://localhost:8080/",
          "height": 34
        },
        "outputId": "b659729a-2f8c-498e-ccef-ef5334468695"
      },
      "source": [
        "if torch.cuda.is_available():\n",
        "  device = 'cuda'\n",
        "else:\n",
        "  device = 'cpu'\n",
        "print(device)"
      ],
      "execution_count": 3,
      "outputs": [
        {
          "output_type": "stream",
          "text": [
            "cuda\n"
          ],
          "name": "stdout"
        }
      ]
    },
    {
      "cell_type": "code",
      "metadata": {
        "id": "-7YeVTb1IcAd",
        "colab_type": "code",
        "colab": {}
      },
      "source": [
        "transform = transforms.Compose([transforms.ToTensor(), transforms.Normalize((0.5,), (1.0,))])\n",
        "\n",
        "from torchvision.datasets import MNIST\n",
        "download_root = './MNIST_DATASET'\n",
        "\n",
        "batch_size = 32\n",
        "train_dataset = MNIST(download_root, transform=transform, train=True, download=True)\n",
        "train_loader = DataLoader(train_dataset, batch_size=batch_size, shuffle=True)"
      ],
      "execution_count": 0,
      "outputs": []
    },
    {
      "cell_type": "code",
      "metadata": {
        "id": "1D9VljJwJABX",
        "colab_type": "code",
        "colab": {
          "base_uri": "https://localhost:8080/",
          "height": 282
        },
        "outputId": "a66f0bb1-d0a4-497d-b891-41c5b57d0f78"
      },
      "source": [
        "def imshow(img):\n",
        "  img = img * 1.0 + 0.5\n",
        "  img = img.numpy().reshape(28, 28)\n",
        "  plt.imshow(img, cmap='gray')\n",
        "  plt.show()\n",
        "\n",
        "for num, data in enumerate(train_loader):\n",
        "  x, y = data\n",
        "  print(y[0])\n",
        "  imshow(x[0])\n",
        "  break"
      ],
      "execution_count": 25,
      "outputs": [
        {
          "output_type": "stream",
          "text": [
            "tensor(2)\n"
          ],
          "name": "stdout"
        },
        {
          "output_type": "display_data",
          "data": {
            "image/png": "[encoded data removed]",
            "text/plain": [
              "<Figure size 432x288 with 1 Axes>"
            ]
          },
          "metadata": {
            "tags": [],
            "needs_background": "light"
          }
        }
      ]
    },
    {
      "cell_type": "code",
      "metadata": {
        "id": "DBYvCp8wKxLS",
        "colab_type": "code",
        "colab": {}
      },
      "source": [
        "class generator(nn.Module):\n",
        "  def __init__(self):\n",
        "    super().__init__()\n",
        "\n",
        "    self.fcc = nn.Sequential(\n",
        "      nn.Linear(256, 512),\n",
        "      nn.ReLU(),\n",
        "      nn.Linear(512, 1024),\n",
        "      nn.ReLU(),\n",
        "      nn.Linear(1024, 784),\n",
        "      nn.Tanh()\n",
        "    )\n",
        "\n",
        "  def forward(self, x):\n",
        "    g_x = self.fcc(x)\n",
        "    return g_x\n",
        "\n",
        "class discriminator(nn.Module):\n",
        "  def __init__(self):\n",
        "    super().__init__()\n",
        "\n",
        "    self.fcc = nn.Sequential(\n",
        "        nn.Linear(784, 1024),\n",
        "        nn.LeakyReLU(0.2),\n",
        "        nn.Linear(1024, 512),\n",
        "        nn.LeakyReLU(0.2),\n",
        "        nn.Linear(512, 1),\n",
        "        nn.Sigmoid()\n",
        "    )\n",
        "\n",
        "  def forward(self, x):\n",
        "    d_x = self.fcc(x)\n",
        "    return d_x\n",
        "\n",
        "class GAN(nn.Module):\n",
        "  def __init__(self, gen, dis):\n",
        "    super().__init__()\n",
        "\n",
        "    self.gen = gen\n",
        "    self.dis = dis\n",
        "\n",
        "  def forward(self, x):\n",
        "    self.dis.eval()\n",
        "    g_x = self.gen(x)\n",
        "    d_g_x = self.dis(g_x)\n",
        "    return d_g_x"
      ],
      "execution_count": 0,
      "outputs": []
    },
    {
      "cell_type": "code",
      "metadata": {
        "id": "oWMO7eqSRqxS",
        "colab_type": "code",
        "colab": {}
      },
      "source": [
        "gen = generator()\n",
        "dis = discriminator()\n",
        "gan = GAN(gen, dis)"
      ],
      "execution_count": 0,
      "outputs": []
    },
    {
      "cell_type": "code",
      "metadata": {
        "id": "BFW0_PueR27Z",
        "colab_type": "code",
        "colab": {}
      },
      "source": [
        "gen.to(device)\n",
        "dis.to(device)\n",
        "gan.to(device)\n",
        "\n",
        "dis_optimizer = optim.Adam(dis.parameters(), lr=4e-4)\n",
        "gen_optimizer = optim.Adam(gen.parameters(), lr=4e-4)\n",
        "\n",
        "loss_fn = nn.BCELoss()\n",
        "\n",
        "def train_epoch(epoch):\n",
        "  gen_losses = []\n",
        "  dis_losses = []\n",
        "  for step, data in enumerate(train_loader):\n",
        "    x, y = data\n",
        "    x = x.view([-1, 784]).to(device)\n",
        "    \n",
        "    z = np.random.normal(0, 1, size=[batch_size, 256])\n",
        "    z = torch.from_numpy(z).float().to(device)\n",
        "    g_z = gen(z)\n",
        "    x = torch.cat([x, g_z], dim=0)\n",
        "    y = torch.zeros([2 * batch_size, 1], dtype=torch.float)\n",
        "    y[:batch_size,] = 0.9\n",
        "    x = x.to(device)\n",
        "    y = y.to(device)\n",
        "    y_ = dis(x)\n",
        "\n",
        "    gen.eval()\n",
        "    dis.train()\n",
        "    dis_optimizer.zero_grad()\n",
        "    dis_loss = loss_fn(y_, y)\n",
        "    dis_loss.backward()\n",
        "    dis_optimizer.step()\n",
        "\n",
        "\n",
        "    z = np.random.normal(0, 1, size=[batch_size, 256])\n",
        "    z = torch.from_numpy(z).float().to(device)\n",
        "    z = z.to(device)\n",
        "    y = torch.ones([batch_size, 1], dtype=torch.float)\n",
        "    y = y.to(device)\n",
        "    f_g_z = gan(z)\n",
        "\n",
        "    dis.eval()\n",
        "    gen.train()\n",
        "    gen_optimizer.zero_grad()\n",
        "    gen_loss = loss_fn(f_g_z, y)\n",
        "    gen_loss.backward()\n",
        "    gen_optimizer.step()\n",
        "\n",
        "    dis_losses.append(dis_loss.item())\n",
        "    gen_losses.append(gen_loss.item())\n",
        "\n",
        "  avg_dis_loss = np.mean(np.array(dis_losses))\n",
        "  avg_gen_loss = np.mean(np.array(gen_losses))\n",
        "  \n",
        "  return avg_dis_loss, avg_gen_loss\n",
        "\n",
        "\n"
      ],
      "execution_count": 0,
      "outputs": []
    },
    {
      "cell_type": "code",
      "metadata": {
        "id": "7vqBI53LYxxX",
        "colab_type": "code",
        "colab": {}
      },
      "source": [
        "def train(epochs):\n",
        "  for epoch in trange(epochs):\n",
        "    avg_dis_loss, avg_gen_loss = train_epoch(epoch)\n",
        "    print(f'epoch {epoch} finished   ============> discriminator loss : {avg_dis_loss} ,  generator loss : {avg_gen_loss}')\n",
        "    "
      ],
      "execution_count": 0,
      "outputs": []
    },
    {
      "cell_type": "code",
      "metadata": {
        "id": "jqs0-yzdZT2U",
        "colab_type": "code",
        "colab": {
          "base_uri": "https://localhost:8080/",
          "height": 1000
        },
        "outputId": "455ee187-81db-4f5d-a725-3afab69d8a3e"
      },
      "source": [
        "train(50)"
      ],
      "execution_count": 89,
      "outputs": [
        {
          "output_type": "stream",
          "text": [
            "\n",
            "\n",
            "\n",
            "  0%|          | 0/50 [00:00<?, ?it/s]\u001b[A\u001b[A\u001b[A\n",
            "\n",
            "\n",
            "  2%|▏         | 1/50 [00:16<13:36, 16.67s/it]\u001b[A\u001b[A\u001b[A"
          ],
          "name": "stderr"
        },
        {
          "output_type": "stream",
          "text": [
            "epoch 0 finished   ============> discriminator loss : 0.36959082079728445 ,  generator loss : 3.191073444112142\n"
          ],
          "name": "stdout"
        },
        {
          "output_type": "stream",
          "text": [
            "\n",
            "\n",
            "\n",
            "  4%|▍         | 2/50 [00:33<13:18, 16.64s/it]\u001b[A\u001b[A\u001b[A"
          ],
          "name": "stderr"
        },
        {
          "output_type": "stream",
          "text": [
            "epoch 1 finished   ============> discriminator loss : 0.35848773404757184 ,  generator loss : 3.2444339449564614\n"
          ],
          "name": "stdout"
        },
        {
          "output_type": "stream",
          "text": [
            "\n",
            "\n",
            "\n",
            "  6%|▌         | 3/50 [00:49<13:02, 16.64s/it]\u001b[A\u001b[A\u001b[A"
          ],
          "name": "stderr"
        },
        {
          "output_type": "stream",
          "text": [
            "epoch 2 finished   ============> discriminator loss : 0.35911864114602404 ,  generator loss : 3.274993815612793\n"
          ],
          "name": "stdout"
        },
        {
          "output_type": "stream",
          "text": [
            "\n",
            "\n",
            "\n",
            "  8%|▊         | 4/50 [01:06<12:46, 16.66s/it]\u001b[A\u001b[A\u001b[A"
          ],
          "name": "stderr"
        },
        {
          "output_type": "stream",
          "text": [
            "epoch 3 finished   ============> discriminator loss : 0.36131184260845184 ,  generator loss : 3.3787074055989583\n"
          ],
          "name": "stdout"
        },
        {
          "output_type": "stream",
          "text": [
            "\n",
            "\n",
            "\n",
            " 10%|█         | 5/50 [01:23<12:28, 16.64s/it]\u001b[A\u001b[A\u001b[A"
          ],
          "name": "stderr"
        },
        {
          "output_type": "stream",
          "text": [
            "epoch 4 finished   ============> discriminator loss : 0.3447928335348765 ,  generator loss : 3.5598043317159016\n"
          ],
          "name": "stdout"
        },
        {
          "output_type": "stream",
          "text": [
            "\n",
            "\n",
            "\n",
            " 12%|█▏        | 6/50 [01:39<12:09, 16.59s/it]\u001b[A\u001b[A\u001b[A"
          ],
          "name": "stderr"
        },
        {
          "output_type": "stream",
          "text": [
            "epoch 5 finished   ============> discriminator loss : 0.3437870421806971 ,  generator loss : 3.683852800432841\n"
          ],
          "name": "stdout"
        },
        {
          "output_type": "stream",
          "text": [
            "\n",
            "\n",
            "\n",
            " 14%|█▍        | 7/50 [01:56<11:52, 16.57s/it]\u001b[A\u001b[A\u001b[A"
          ],
          "name": "stderr"
        },
        {
          "output_type": "stream",
          "text": [
            "epoch 6 finished   ============> discriminator loss : 0.34558870565891264 ,  generator loss : 3.587820207818349\n"
          ],
          "name": "stdout"
        },
        {
          "output_type": "stream",
          "text": [
            "\n",
            "\n",
            "\n",
            " 16%|█▌        | 8/50 [02:12<11:37, 16.60s/it]\u001b[A\u001b[A\u001b[A"
          ],
          "name": "stderr"
        },
        {
          "output_type": "stream",
          "text": [
            "epoch 7 finished   ============> discriminator loss : 0.3340362421512604 ,  generator loss : 3.8652395369847614\n"
          ],
          "name": "stdout"
        },
        {
          "output_type": "stream",
          "text": [
            "\n",
            "\n",
            "\n",
            " 18%|█▊        | 9/50 [02:29<11:20, 16.60s/it]\u001b[A\u001b[A\u001b[A"
          ],
          "name": "stderr"
        },
        {
          "output_type": "stream",
          "text": [
            "epoch 8 finished   ============> discriminator loss : 0.3382368808825811 ,  generator loss : 3.6690419907887777\n"
          ],
          "name": "stdout"
        },
        {
          "output_type": "stream",
          "text": [
            "\n",
            "\n",
            "\n",
            " 20%|██        | 10/50 [02:45<11:02, 16.57s/it]\u001b[A\u001b[A\u001b[A"
          ],
          "name": "stderr"
        },
        {
          "output_type": "stream",
          "text": [
            "epoch 9 finished   ============> discriminator loss : 0.3385858075618744 ,  generator loss : 3.8194588357925414\n"
          ],
          "name": "stdout"
        },
        {
          "output_type": "stream",
          "text": [
            "\n",
            "\n",
            "\n",
            " 22%|██▏       | 11/50 [03:02<10:50, 16.69s/it]\u001b[A\u001b[A\u001b[A"
          ],
          "name": "stderr"
        },
        {
          "output_type": "stream",
          "text": [
            "epoch 10 finished   ============> discriminator loss : 0.34785610127449035 ,  generator loss : 3.6783736831029255\n"
          ],
          "name": "stdout"
        },
        {
          "output_type": "stream",
          "text": [
            "\n",
            "\n",
            "\n",
            " 24%|██▍       | 12/50 [03:19<10:30, 16.60s/it]\u001b[A\u001b[A\u001b[A"
          ],
          "name": "stderr"
        },
        {
          "output_type": "stream",
          "text": [
            "epoch 11 finished   ============> discriminator loss : 0.35357405784130097 ,  generator loss : 3.5101806701660156\n"
          ],
          "name": "stdout"
        },
        {
          "output_type": "stream",
          "text": [
            "\n",
            "\n",
            "\n",
            " 26%|██▌       | 13/50 [03:35<10:13, 16.59s/it]\u001b[A\u001b[A\u001b[A"
          ],
          "name": "stderr"
        },
        {
          "output_type": "stream",
          "text": [
            "epoch 12 finished   ============> discriminator loss : 0.35132737038930256 ,  generator loss : 3.6057301537831625\n"
          ],
          "name": "stdout"
        },
        {
          "output_type": "stream",
          "text": [
            "\n",
            "\n",
            "\n",
            " 28%|██▊       | 14/50 [03:52<09:56, 16.58s/it]\u001b[A\u001b[A\u001b[A"
          ],
          "name": "stderr"
        },
        {
          "output_type": "stream",
          "text": [
            "epoch 13 finished   ============> discriminator loss : 0.3478829884052277 ,  generator loss : 3.651593582566579\n"
          ],
          "name": "stdout"
        },
        {
          "output_type": "stream",
          "text": [
            "\n",
            "\n",
            "\n",
            " 30%|███       | 15/50 [04:08<09:38, 16.54s/it]\u001b[A\u001b[A\u001b[A"
          ],
          "name": "stderr"
        },
        {
          "output_type": "stream",
          "text": [
            "epoch 14 finished   ============> discriminator loss : 0.3498559666554133 ,  generator loss : 3.6050499027252196\n"
          ],
          "name": "stdout"
        },
        {
          "output_type": "stream",
          "text": [
            "\n",
            "\n",
            "\n",
            " 32%|███▏      | 16/50 [04:25<09:20, 16.50s/it]\u001b[A\u001b[A\u001b[A"
          ],
          "name": "stderr"
        },
        {
          "output_type": "stream",
          "text": [
            "epoch 15 finished   ============> discriminator loss : 0.3505083286523819 ,  generator loss : 3.5799777072906496\n"
          ],
          "name": "stdout"
        },
        {
          "output_type": "stream",
          "text": [
            "\n",
            "\n",
            "\n",
            " 34%|███▍      | 17/50 [04:41<09:03, 16.48s/it]\u001b[A\u001b[A\u001b[A"
          ],
          "name": "stderr"
        },
        {
          "output_type": "stream",
          "text": [
            "epoch 16 finished   ============> discriminator loss : 0.35514107637405395 ,  generator loss : 3.626491071828206\n"
          ],
          "name": "stdout"
        },
        {
          "output_type": "stream",
          "text": [
            "\n",
            "\n",
            "\n",
            " 36%|███▌      | 18/50 [04:58<08:49, 16.55s/it]\u001b[A\u001b[A\u001b[A"
          ],
          "name": "stderr"
        },
        {
          "output_type": "stream",
          "text": [
            "epoch 17 finished   ============> discriminator loss : 0.365710790125529 ,  generator loss : 3.5104841885884603\n"
          ],
          "name": "stdout"
        },
        {
          "output_type": "stream",
          "text": [
            "\n",
            "\n",
            "\n",
            " 38%|███▊      | 19/50 [05:14<08:33, 16.55s/it]\u001b[A\u001b[A\u001b[A"
          ],
          "name": "stderr"
        },
        {
          "output_type": "stream",
          "text": [
            "epoch 18 finished   ============> discriminator loss : 0.3635370376586914 ,  generator loss : 3.506605707327525\n"
          ],
          "name": "stdout"
        },
        {
          "output_type": "stream",
          "text": [
            "\n",
            "\n",
            "\n",
            " 40%|████      | 20/50 [05:31<08:16, 16.55s/it]\u001b[A\u001b[A\u001b[A"
          ],
          "name": "stderr"
        },
        {
          "output_type": "stream",
          "text": [
            "epoch 19 finished   ============> discriminator loss : 0.3526536432902018 ,  generator loss : 3.550261170641581\n"
          ],
          "name": "stdout"
        },
        {
          "output_type": "stream",
          "text": [
            "\n",
            "\n",
            "\n",
            " 42%|████▏     | 21/50 [05:47<07:58, 16.51s/it]\u001b[A\u001b[A\u001b[A"
          ],
          "name": "stderr"
        },
        {
          "output_type": "stream",
          "text": [
            "epoch 20 finished   ============> discriminator loss : 0.3532055457512538 ,  generator loss : 3.5982156253178914\n"
          ],
          "name": "stdout"
        },
        {
          "output_type": "stream",
          "text": [
            "\n",
            "\n",
            "\n",
            " 44%|████▍     | 22/50 [06:04<07:41, 16.48s/it]\u001b[A\u001b[A\u001b[A"
          ],
          "name": "stderr"
        },
        {
          "output_type": "stream",
          "text": [
            "epoch 21 finished   ============> discriminator loss : 0.3501310779571533 ,  generator loss : 3.6137417209625244\n"
          ],
          "name": "stdout"
        },
        {
          "output_type": "stream",
          "text": [
            "\n",
            "\n",
            "\n",
            " 46%|████▌     | 23/50 [06:20<07:25, 16.51s/it]\u001b[A\u001b[A\u001b[A"
          ],
          "name": "stderr"
        },
        {
          "output_type": "stream",
          "text": [
            "epoch 22 finished   ============> discriminator loss : 0.35367623845736185 ,  generator loss : 3.4807484160105386\n"
          ],
          "name": "stdout"
        },
        {
          "output_type": "stream",
          "text": [
            "\n",
            "\n",
            "\n",
            " 48%|████▊     | 24/50 [06:37<07:08, 16.48s/it]\u001b[A\u001b[A\u001b[A"
          ],
          "name": "stderr"
        },
        {
          "output_type": "stream",
          "text": [
            "epoch 23 finished   ============> discriminator loss : 0.3560707566022873 ,  generator loss : 3.468041355514526\n"
          ],
          "name": "stdout"
        },
        {
          "output_type": "stream",
          "text": [
            "\n",
            "\n",
            "\n",
            " 50%|█████     | 25/50 [06:53<06:51, 16.46s/it]\u001b[A\u001b[A\u001b[A"
          ],
          "name": "stderr"
        },
        {
          "output_type": "stream",
          "text": [
            "epoch 24 finished   ============> discriminator loss : 0.36148977200190224 ,  generator loss : 3.4339320152282715\n"
          ],
          "name": "stdout"
        },
        {
          "output_type": "stream",
          "text": [
            "\n",
            "\n",
            "\n",
            " 52%|█████▏    | 26/50 [07:10<06:35, 16.47s/it]\u001b[A\u001b[A\u001b[A"
          ],
          "name": "stderr"
        },
        {
          "output_type": "stream",
          "text": [
            "epoch 25 finished   ============> discriminator loss : 0.36415187908013663 ,  generator loss : 3.378564603106181\n"
          ],
          "name": "stdout"
        },
        {
          "output_type": "stream",
          "text": [
            "\n",
            "\n",
            "\n",
            " 54%|█████▍    | 27/50 [07:26<06:19, 16.50s/it]\u001b[A\u001b[A\u001b[A"
          ],
          "name": "stderr"
        },
        {
          "output_type": "stream",
          "text": [
            "epoch 26 finished   ============> discriminator loss : 0.3563995519955953 ,  generator loss : 3.4978362084706625\n"
          ],
          "name": "stdout"
        },
        {
          "output_type": "stream",
          "text": [
            "\n",
            "\n",
            "\n",
            " 56%|█████▌    | 28/50 [07:43<06:04, 16.57s/it]\u001b[A\u001b[A\u001b[A"
          ],
          "name": "stderr"
        },
        {
          "output_type": "stream",
          "text": [
            "epoch 27 finished   ============> discriminator loss : 0.35415223513444266 ,  generator loss : 3.4109006045659385\n"
          ],
          "name": "stdout"
        },
        {
          "output_type": "stream",
          "text": [
            "\n",
            "\n",
            "\n",
            " 58%|█████▊    | 29/50 [08:00<05:47, 16.55s/it]\u001b[A\u001b[A\u001b[A"
          ],
          "name": "stderr"
        },
        {
          "output_type": "stream",
          "text": [
            "epoch 28 finished   ============> discriminator loss : 0.3592173204342524 ,  generator loss : 3.3706510254542033\n"
          ],
          "name": "stdout"
        },
        {
          "output_type": "stream",
          "text": [
            "\n",
            "\n",
            "\n",
            " 60%|██████    | 30/50 [08:16<05:32, 16.64s/it]\u001b[A\u001b[A\u001b[A"
          ],
          "name": "stderr"
        },
        {
          "output_type": "stream",
          "text": [
            "epoch 29 finished   ============> discriminator loss : 0.36100848768552146 ,  generator loss : 3.3868972403844197\n"
          ],
          "name": "stdout"
        },
        {
          "output_type": "stream",
          "text": [
            "\n",
            "\n",
            "\n",
            " 62%|██████▏   | 31/50 [08:33<05:15, 16.60s/it]\u001b[A\u001b[A\u001b[A"
          ],
          "name": "stderr"
        },
        {
          "output_type": "stream",
          "text": [
            "epoch 30 finished   ============> discriminator loss : 0.35805986309846244 ,  generator loss : 3.313282735125224\n"
          ],
          "name": "stdout"
        },
        {
          "output_type": "stream",
          "text": [
            "\n",
            "\n",
            "\n",
            " 64%|██████▍   | 32/50 [08:49<04:57, 16.53s/it]\u001b[A\u001b[A\u001b[A"
          ],
          "name": "stderr"
        },
        {
          "output_type": "stream",
          "text": [
            "epoch 31 finished   ============> discriminator loss : 0.3590769296725591 ,  generator loss : 3.3835681674957274\n"
          ],
          "name": "stdout"
        },
        {
          "output_type": "stream",
          "text": [
            "\n",
            "\n",
            "\n",
            " 66%|██████▌   | 33/50 [09:06<04:41, 16.54s/it]\u001b[A\u001b[A\u001b[A"
          ],
          "name": "stderr"
        },
        {
          "output_type": "stream",
          "text": [
            "epoch 32 finished   ============> discriminator loss : 0.3570276493469874 ,  generator loss : 3.3631996498743693\n"
          ],
          "name": "stdout"
        },
        {
          "output_type": "stream",
          "text": [
            "\n",
            "\n",
            "\n",
            " 68%|██████▊   | 34/50 [09:22<04:23, 16.48s/it]\u001b[A\u001b[A\u001b[A"
          ],
          "name": "stderr"
        },
        {
          "output_type": "stream",
          "text": [
            "epoch 33 finished   ============> discriminator loss : 0.35087210383415224 ,  generator loss : 3.4146476081848145\n"
          ],
          "name": "stdout"
        },
        {
          "output_type": "stream",
          "text": [
            "\n",
            "\n",
            "\n",
            " 70%|███████   | 35/50 [09:39<04:07, 16.48s/it]\u001b[A\u001b[A\u001b[A"
          ],
          "name": "stderr"
        },
        {
          "output_type": "stream",
          "text": [
            "epoch 34 finished   ============> discriminator loss : 0.3598105952739716 ,  generator loss : 3.2507442178726196\n"
          ],
          "name": "stdout"
        },
        {
          "output_type": "stream",
          "text": [
            "\n",
            "\n",
            "\n",
            " 72%|███████▏  | 36/50 [09:55<03:50, 16.46s/it]\u001b[A\u001b[A\u001b[A"
          ],
          "name": "stderr"
        },
        {
          "output_type": "stream",
          "text": [
            "epoch 35 finished   ============> discriminator loss : 0.35257731278737386 ,  generator loss : 3.406141533788045\n"
          ],
          "name": "stdout"
        },
        {
          "output_type": "stream",
          "text": [
            "\n",
            "\n",
            "\n",
            " 74%|███████▍  | 37/50 [10:12<03:33, 16.46s/it]\u001b[A\u001b[A\u001b[A"
          ],
          "name": "stderr"
        },
        {
          "output_type": "stream",
          "text": [
            "epoch 36 finished   ============> discriminator loss : 0.3546697632948558 ,  generator loss : 3.3010983486175536\n"
          ],
          "name": "stdout"
        },
        {
          "output_type": "stream",
          "text": [
            "\n",
            "\n",
            "\n",
            " 76%|███████▌  | 38/50 [10:28<03:18, 16.50s/it]\u001b[A\u001b[A\u001b[A"
          ],
          "name": "stderr"
        },
        {
          "output_type": "stream",
          "text": [
            "epoch 37 finished   ============> discriminator loss : 0.35577051474253335 ,  generator loss : 3.3002708729426065\n"
          ],
          "name": "stdout"
        },
        {
          "output_type": "stream",
          "text": [
            "\n",
            "\n",
            "\n",
            " 78%|███████▊  | 39/50 [10:45<03:01, 16.48s/it]\u001b[A\u001b[A\u001b[A"
          ],
          "name": "stderr"
        },
        {
          "output_type": "stream",
          "text": [
            "epoch 38 finished   ============> discriminator loss : 0.3582133907477061 ,  generator loss : 3.2201601167678833\n"
          ],
          "name": "stdout"
        },
        {
          "output_type": "stream",
          "text": [
            "\n",
            "\n",
            "\n",
            " 80%|████████  | 40/50 [11:01<02:44, 16.46s/it]\u001b[A\u001b[A\u001b[A"
          ],
          "name": "stderr"
        },
        {
          "output_type": "stream",
          "text": [
            "epoch 39 finished   ============> discriminator loss : 0.35575064670244855 ,  generator loss : 3.2969978902816774\n"
          ],
          "name": "stdout"
        },
        {
          "output_type": "stream",
          "text": [
            "\n",
            "\n",
            "\n",
            " 82%|████████▏ | 41/50 [11:17<02:28, 16.47s/it]\u001b[A\u001b[A\u001b[A"
          ],
          "name": "stderr"
        },
        {
          "output_type": "stream",
          "text": [
            "epoch 40 finished   ============> discriminator loss : 0.35557888412475586 ,  generator loss : 3.3542873964945477\n"
          ],
          "name": "stdout"
        },
        {
          "output_type": "stream",
          "text": [
            "\n",
            "\n",
            "\n",
            " 84%|████████▍ | 42/50 [11:34<02:11, 16.47s/it]\u001b[A\u001b[A\u001b[A"
          ],
          "name": "stderr"
        },
        {
          "output_type": "stream",
          "text": [
            "epoch 41 finished   ============> discriminator loss : 0.3542333778858185 ,  generator loss : 3.2845235597610474\n"
          ],
          "name": "stdout"
        },
        {
          "output_type": "stream",
          "text": [
            "\n",
            "\n",
            "\n",
            " 86%|████████▌ | 43/50 [11:50<01:55, 16.49s/it]\u001b[A\u001b[A\u001b[A"
          ],
          "name": "stderr"
        },
        {
          "output_type": "stream",
          "text": [
            "epoch 42 finished   ============> discriminator loss : 0.3548484158595403 ,  generator loss : 3.257998995335897\n"
          ],
          "name": "stdout"
        },
        {
          "output_type": "stream",
          "text": [
            "\n",
            "\n",
            "\n",
            " 88%|████████▊ | 44/50 [12:07<01:38, 16.46s/it]\u001b[A\u001b[A\u001b[A"
          ],
          "name": "stderr"
        },
        {
          "output_type": "stream",
          "text": [
            "epoch 43 finished   ============> discriminator loss : 0.3522347055673599 ,  generator loss : 3.2853147563298544\n"
          ],
          "name": "stdout"
        },
        {
          "output_type": "stream",
          "text": [
            "\n",
            "\n",
            "\n",
            " 90%|█████████ | 45/50 [12:23<01:22, 16.51s/it]\u001b[A\u001b[A\u001b[A"
          ],
          "name": "stderr"
        },
        {
          "output_type": "stream",
          "text": [
            "epoch 44 finished   ============> discriminator loss : 0.35352860253651935 ,  generator loss : 3.2999862140655516\n"
          ],
          "name": "stdout"
        },
        {
          "output_type": "stream",
          "text": [
            "\n",
            "\n",
            "\n",
            " 92%|█████████▏| 46/50 [12:40<01:05, 16.50s/it]\u001b[A\u001b[A\u001b[A"
          ],
          "name": "stderr"
        },
        {
          "output_type": "stream",
          "text": [
            "epoch 45 finished   ============> discriminator loss : 0.3495595553000768 ,  generator loss : 3.3894673184076947\n"
          ],
          "name": "stdout"
        },
        {
          "output_type": "stream",
          "text": [
            "\n",
            "\n",
            "\n",
            " 94%|█████████▍| 47/50 [12:56<00:49, 16.51s/it]\u001b[A\u001b[A\u001b[A"
          ],
          "name": "stderr"
        },
        {
          "output_type": "stream",
          "text": [
            "epoch 46 finished   ============> discriminator loss : 0.3520625392993291 ,  generator loss : 3.325262381998698\n"
          ],
          "name": "stdout"
        },
        {
          "output_type": "stream",
          "text": [
            "\n",
            "\n",
            "\n",
            " 96%|█████████▌| 48/50 [13:13<00:33, 16.56s/it]\u001b[A\u001b[A\u001b[A"
          ],
          "name": "stderr"
        },
        {
          "output_type": "stream",
          "text": [
            "epoch 47 finished   ============> discriminator loss : 0.35280281127293905 ,  generator loss : 3.2453757324854533\n"
          ],
          "name": "stdout"
        },
        {
          "output_type": "stream",
          "text": [
            "\n",
            "\n",
            "\n",
            " 98%|█████████▊| 49/50 [13:30<00:16, 16.65s/it]\u001b[A\u001b[A\u001b[A"
          ],
          "name": "stderr"
        },
        {
          "output_type": "stream",
          "text": [
            "epoch 48 finished   ============> discriminator loss : 0.3489015999396642 ,  generator loss : 3.3178805452982583\n"
          ],
          "name": "stdout"
        },
        {
          "output_type": "stream",
          "text": [
            "\n",
            "\n",
            "\n",
            "100%|██████████| 50/50 [13:46<00:00, 16.54s/it]"
          ],
          "name": "stderr"
        },
        {
          "output_type": "stream",
          "text": [
            "epoch 49 finished   ============> discriminator loss : 0.3508651894569397 ,  generator loss : 3.27093058274587\n"
          ],
          "name": "stdout"
        },
        {
          "output_type": "stream",
          "text": [
            "\n"
          ],
          "name": "stderr"
        }
      ]
    },
    {
      "cell_type": "code",
      "metadata": {
        "id": "YpoPnTH6ZU8d",
        "colab_type": "code",
        "colab": {
          "base_uri": "https://localhost:8080/",
          "height": 265
        },
        "outputId": "cdf24e13-dee6-4e79-cd18-29946a9dfce4"
      },
      "source": [
        "z = np.random.normal(0, 1, size=[1, 256])\n",
        "z = torch.from_numpy(z).float().to(device)\n",
        "\n",
        "g_z = gen(z)\n",
        "imshow(g_z.to('cpu').detach())"
      ],
      "execution_count": 94,
      "outputs": [
        {
          "output_type": "display_data",
          "data": {
            "image/png": "[encoded data removed]",
            "text/plain": [
              "<Figure size 432x288 with 1 Axes>"
            ]
          },
          "metadata": {
            "tags": [],
            "needs_background": "light"
          }
        }
      ]
    },
    {
      "cell_type": "code",
      "metadata": {
        "id": "qxncqvY8dS-r",
        "colab_type": "code",
        "colab": {}
      },
      "source": [
        ""
      ],
      "execution_count": 0,
      "outputs": []
    }
  ]
}