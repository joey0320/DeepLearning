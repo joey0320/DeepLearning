{
 "cells": [
  {
   "cell_type": "code",
   "execution_count": 2,
   "metadata": {},
   "outputs": [],
   "source": [
    "import os\n",
    "import cv2\n",
    "import numpy as np\n",
    "from tqdm import tqdm\n",
    "\n",
    "REBULID_DATA = False"
   ]
  },
  {
   "cell_type": "code",
   "execution_count": 3,
   "metadata": {},
   "outputs": [
    {
     "name": "stderr",
     "output_type": "stream",
     "text": [
      "  0%|                                                                              | 18/12501 [00:00<01:09, 178.68it/s]"
     ]
    },
    {
     "name": "stdout",
     "output_type": "stream",
     "text": [
      "PetImages/Cat\n"
     ]
    },
    {
     "name": "stderr",
     "output_type": "stream",
     "text": [
      "100%|███████████████████████████████████████████████████████████████████████████| 12501/12501 [00:49<00:00, 254.67it/s]\n",
      "  0%|▏                                                                             | 29/12501 [00:00<00:43, 287.90it/s]"
     ]
    },
    {
     "name": "stdout",
     "output_type": "stream",
     "text": [
      "PetImages/Dog\n"
     ]
    },
    {
     "name": "stderr",
     "output_type": "stream",
     "text": [
      "100%|███████████████████████████████████████████████████████████████████████████| 12501/12501 [00:43<00:00, 287.42it/s]\n"
     ]
    },
    {
     "name": "stdout",
     "output_type": "stream",
     "text": [
      "Cats: 12476\n",
      "Dogs: 12470\n"
     ]
    }
   ],
   "source": [
    "class DogsVSCats():\n",
    "    imgsize = 48\n",
    "    CATS = \"PetImages/Cat\"\n",
    "    DOGS = \"PetImages/Dog\"   #directory names for data\n",
    "    \n",
    "    LABELS = {CATS: 0, DOGS: 1}  #labels for the data\n",
    "    \n",
    "    training_data = []\n",
    "    catcount = 0\n",
    "    dogcount = 0\n",
    "    \n",
    "    def make_training_data(self):\n",
    "        for label in self.LABELS:\n",
    "            print(label)\n",
    "            for f in tqdm(os.listdir(label)): #f is a file name in the label(directory)\n",
    "                try: #weird data 가 들어올 수 있음\n",
    "                    path = os.path.join(label, f)\n",
    "                    img = cv2.imread(path, cv2.IMREAD_GRAYSCALE)\n",
    "                    img = cv2.resize(img, (self.imgsize, self.imgsize))\n",
    "                    self.training_data.append([np.array(img), np.eye(2)[self.LABELS[label]]])\n",
    "\n",
    "                    if label == self.CATS:\n",
    "                        self.catcount += 1\n",
    "                    elif label == self.DOGS:\n",
    "                        self.dogcount += 1\n",
    "                except Exception as e:\n",
    "                    pass\n",
    "                        #print(str(excetion))\n",
    "        np.random.shuffle(self.training_data)\n",
    "        np.save(\"training_date.npy\", self.training_data)\n",
    "        print(\"Cats:\", self.catcount)\n",
    "        print(\"Dogs:\", self.dogcount)\n",
    "if REBULID_DATA:\n",
    "    dogsvcats = DogsVSCats()\n",
    "    dogsvcats.make_training_data()"
   ]
  },
  {
   "cell_type": "code",
   "execution_count": 4,
   "metadata": {},
   "outputs": [],
   "source": [
    "training_data = np.load(\"training_date.npy\", allow_pickle=True)"
   ]
  },
  {
   "cell_type": "code",
   "execution_count": 5,
   "metadata": {},
   "outputs": [
    {
     "name": "stdout",
     "output_type": "stream",
     "text": [
      "24946\n"
     ]
    }
   ],
   "source": [
    "print(len(training_data))"
   ]
  },
  {
   "cell_type": "code",
   "execution_count": 6,
   "metadata": {},
   "outputs": [
    {
     "name": "stdout",
     "output_type": "stream",
     "text": [
      "[array([[109, 107, 106, ..., 104,  96,  97],\n",
      "       [108, 106, 108, ..., 104, 101,  97],\n",
      "       [110, 108, 110, ..., 102, 100, 100],\n",
      "       ...,\n",
      "       [124, 128, 130, ..., 119, 112, 113],\n",
      "       [126, 125, 130, ..., 111, 108, 113],\n",
      "       [121, 131, 128, ..., 107, 111, 111]], dtype=uint8)\n",
      " array([0., 1.])]\n"
     ]
    }
   ],
   "source": [
    "print(training_data[1])"
   ]
  },
  {
   "cell_type": "code",
   "execution_count": 7,
   "metadata": {},
   "outputs": [
    {
     "data": {
      "text/plain": [
       "<Figure size 640x480 with 1 Axes>"
      ]
     },
     "metadata": {},
     "output_type": "display_data"
    }
   ],
   "source": [
    "import matplotlib.pyplot as plt\n",
    "\n",
    "plt.imshow(training_data[1][0], cmap=\"gray\")\n",
    "plt.show()"
   ]
  },
  {
   "cell_type": "code",
   "execution_count": 8,
   "metadata": {},
   "outputs": [],
   "source": [
    "import torch\n",
    "import torch.nn as nn\n",
    "import torch.nn.functional as F\n",
    "\n",
    "class Net(nn.Module):\n",
    "    def __init__(self):\n",
    "        super().__init__()\n",
    "        \n",
    "        self.cnn = nn.Sequential(\n",
    "            nn.Conv2d(1, 32, kernel_size=3, padding=1),\n",
    "            nn.ReLU(),\n",
    "            nn.MaxPool2d(2, 2),\n",
    "            #24, 24, 32\n",
    "            \n",
    "            nn.Conv2d(32, 32, kernel_size=3, padding=1),\n",
    "            nn.ReLU(),\n",
    "            nn.MaxPool2d(2, 2),\n",
    "            #12, 12, 32\n",
    "            \n",
    "            nn.Conv2d(32, 64, kernel_size=3, padding=1),\n",
    "            nn.ReLU(),\n",
    "            nn.MaxPool2d(2, 2),\n",
    "            #6, 6, 64\n",
    "            \n",
    "            nn.Conv2d(64, 64, kernel_size=3, padding=1),\n",
    "            nn.ReLU(),\n",
    "            nn.MaxPool2d(2, 2),\n",
    "            #3, 3, 64\n",
    "        )\n",
    "        self.fcc = nn.Sequential(\n",
    "            nn.Linear(576, 32),\n",
    "            nn.ReLU(),\n",
    "            nn.Linear(32, 2)\n",
    "        )\n",
    "    def forward(self, x):\n",
    "        x = self.cnn(x)\n",
    "        x = x.view(x.size(0), -1)\n",
    "        x = self.fcc(x)\n",
    "        x = F.softmax(x, dim=1)\n",
    "        return x\n",
    "\n",
    "net = Net()"
   ]
  },
  {
   "cell_type": "code",
   "execution_count": 9,
   "metadata": {},
   "outputs": [],
   "source": [
    "import torch.optim as optim\n",
    "optimizer = optim.Adam(net.parameters(), lr=1e-3)\n",
    "loss_function  = nn.MSELoss()\n",
    "\n",
    "X = torch.Tensor([i[0] for i in training_data]).view(-1, 48, 48)\n",
    "X = X/255.0\n",
    "y = torch.Tensor([i[1] for i in training_data])\n",
    "\n",
    "VAL_PCT = 0.1\n",
    "val_size = int(len(X)*VAL_PCT)\n"
   ]
  },
  {
   "cell_type": "code",
   "execution_count": 10,
   "metadata": {},
   "outputs": [
    {
     "name": "stdout",
     "output_type": "stream",
     "text": [
      "22452\n",
      "2494\n"
     ]
    }
   ],
   "source": [
    "train_x = X[:-val_size]\n",
    "train_y = y[:-val_size]\n",
    "\n",
    "test_x = X[-val_size:]\n",
    "test_y = y[-val_size:]\n",
    "\n",
    "print(len(train_x))\n",
    "print(len(test_x))"
   ]
  },
  {
   "cell_type": "code",
   "execution_count": 11,
   "metadata": {},
   "outputs": [
    {
     "name": "stderr",
     "output_type": "stream",
     "text": [
      "  0%|▎                                                                                 | 1/225 [00:00<02:11,  1.70it/s]"
     ]
    },
    {
     "name": "stdout",
     "output_type": "stream",
     "text": [
      "0  th batch loss :  tensor(0.2412, grad_fn=<MseLossBackward>)\n"
     ]
    },
    {
     "name": "stderr",
     "output_type": "stream",
     "text": [
      "\r",
      "  1%|▋                                                                                 | 2/225 [00:01<02:07,  1.75it/s]"
     ]
    },
    {
     "name": "stdout",
     "output_type": "stream",
     "text": [
      "100  th batch loss :  tensor(0.2541, grad_fn=<MseLossBackward>)\n"
     ]
    },
    {
     "name": "stderr",
     "output_type": "stream",
     "text": [
      "\r",
      "  1%|█                                                                                 | 3/225 [00:01<01:59,  1.86it/s]"
     ]
    },
    {
     "name": "stdout",
     "output_type": "stream",
     "text": [
      "200  th batch loss :  tensor(0.2518, grad_fn=<MseLossBackward>)\n"
     ]
    },
    {
     "name": "stderr",
     "output_type": "stream",
     "text": [
      "\r",
      "  2%|█▍                                                                                | 4/225 [00:02<02:06,  1.75it/s]"
     ]
    },
    {
     "name": "stdout",
     "output_type": "stream",
     "text": [
      "300  th batch loss :  tensor(0.2505, grad_fn=<MseLossBackward>)\n"
     ]
    },
    {
     "name": "stderr",
     "output_type": "stream",
     "text": [
      "\r",
      "  2%|█▊                                                                                | 5/225 [00:02<02:07,  1.73it/s]"
     ]
    },
    {
     "name": "stdout",
     "output_type": "stream",
     "text": [
      "400  th batch loss :  tensor(0.2570, grad_fn=<MseLossBackward>)\n"
     ]
    },
    {
     "name": "stderr",
     "output_type": "stream",
     "text": [
      "\r",
      "  3%|██▏                                                                               | 6/225 [00:03<01:59,  1.83it/s]"
     ]
    },
    {
     "name": "stdout",
     "output_type": "stream",
     "text": [
      "500  th batch loss :  tensor(0.2562, grad_fn=<MseLossBackward>)\n"
     ]
    },
    {
     "name": "stderr",
     "output_type": "stream",
     "text": [
      "\r",
      "  3%|██▌                                                                               | 7/225 [00:03<01:57,  1.85it/s]"
     ]
    },
    {
     "name": "stdout",
     "output_type": "stream",
     "text": [
      "600  th batch loss :  tensor(0.2492, grad_fn=<MseLossBackward>)\n"
     ]
    },
    {
     "name": "stderr",
     "output_type": "stream",
     "text": [
      "\r",
      "  4%|██▉                                                                               | 8/225 [00:04<01:52,  1.92it/s]"
     ]
    },
    {
     "name": "stdout",
     "output_type": "stream",
     "text": [
      "700  th batch loss :  tensor(0.2469, grad_fn=<MseLossBackward>)\n"
     ]
    },
    {
     "name": "stderr",
     "output_type": "stream",
     "text": [
      "\r",
      "  4%|███▎                                                                              | 9/225 [00:04<01:49,  1.98it/s]"
     ]
    },
    {
     "name": "stdout",
     "output_type": "stream",
     "text": [
      "800  th batch loss :  tensor(0.2560, grad_fn=<MseLossBackward>)\n"
     ]
    },
    {
     "name": "stderr",
     "output_type": "stream",
     "text": [
      "\r",
      "  4%|███▌                                                                             | 10/225 [00:05<01:44,  2.06it/s]"
     ]
    },
    {
     "name": "stdout",
     "output_type": "stream",
     "text": [
      "900  th batch loss :  tensor(0.2506, grad_fn=<MseLossBackward>)\n"
     ]
    },
    {
     "name": "stderr",
     "output_type": "stream",
     "text": [
      "\r",
      "  5%|███▉                                                                             | 11/225 [00:05<01:43,  2.07it/s]"
     ]
    },
    {
     "name": "stdout",
     "output_type": "stream",
     "text": [
      "1000  th batch loss :  tensor(0.2449, grad_fn=<MseLossBackward>)\n"
     ]
    },
    {
     "name": "stderr",
     "output_type": "stream",
     "text": [
      "\r",
      "  5%|████▎                                                                            | 12/225 [00:06<01:41,  2.10it/s]"
     ]
    },
    {
     "name": "stdout",
     "output_type": "stream",
     "text": [
      "1100  th batch loss :  tensor(0.2499, grad_fn=<MseLossBackward>)\n"
     ]
    },
    {
     "name": "stderr",
     "output_type": "stream",
     "text": [
      "\r",
      "  6%|████▋                                                                            | 13/225 [00:06<01:49,  1.94it/s]"
     ]
    },
    {
     "name": "stdout",
     "output_type": "stream",
     "text": [
      "1200  th batch loss :  tensor(0.2491, grad_fn=<MseLossBackward>)\n"
     ]
    },
    {
     "name": "stderr",
     "output_type": "stream",
     "text": [
      "\r",
      "  6%|█████                                                                            | 14/225 [00:07<01:47,  1.97it/s]"
     ]
    },
    {
     "name": "stdout",
     "output_type": "stream",
     "text": [
      "1300  th batch loss :  tensor(0.2559, grad_fn=<MseLossBackward>)\n"
     ]
    },
    {
     "name": "stderr",
     "output_type": "stream",
     "text": [
      "\r",
      "  7%|█████▍                                                                           | 15/225 [00:07<01:43,  2.04it/s]"
     ]
    },
    {
     "name": "stdout",
     "output_type": "stream",
     "text": [
      "1400  th batch loss :  tensor(0.2549, grad_fn=<MseLossBackward>)\n"
     ]
    },
    {
     "name": "stderr",
     "output_type": "stream",
     "text": [
      "\r",
      "  7%|█████▊                                                                           | 16/225 [00:08<01:42,  2.04it/s]"
     ]
    },
    {
     "name": "stdout",
     "output_type": "stream",
     "text": [
      "1500  th batch loss :  tensor(0.2467, grad_fn=<MseLossBackward>)\n"
     ]
    },
    {
     "name": "stderr",
     "output_type": "stream",
     "text": [
      "\r",
      "  8%|██████                                                                           | 17/225 [00:08<01:39,  2.09it/s]"
     ]
    },
    {
     "name": "stdout",
     "output_type": "stream",
     "text": [
      "1600  th batch loss :  tensor(0.2475, grad_fn=<MseLossBackward>)\n"
     ]
    },
    {
     "name": "stderr",
     "output_type": "stream",
     "text": [
      "\r",
      "  8%|██████▍                                                                          | 18/225 [00:09<01:35,  2.17it/s]"
     ]
    },
    {
     "name": "stdout",
     "output_type": "stream",
     "text": [
      "1700  th batch loss :  tensor(0.2554, grad_fn=<MseLossBackward>)\n"
     ]
    },
    {
     "name": "stderr",
     "output_type": "stream",
     "text": [
      "\r",
      "  8%|██████▊                                                                          | 19/225 [00:09<01:35,  2.16it/s]"
     ]
    },
    {
     "name": "stdout",
     "output_type": "stream",
     "text": [
      "1800  th batch loss :  tensor(0.2534, grad_fn=<MseLossBackward>)\n"
     ]
    },
    {
     "name": "stderr",
     "output_type": "stream",
     "text": [
      "\r",
      "  9%|███████▏                                                                         | 20/225 [00:10<01:36,  2.13it/s]"
     ]
    },
    {
     "name": "stdout",
     "output_type": "stream",
     "text": [
      "1900  th batch loss :  tensor(0.2495, grad_fn=<MseLossBackward>)\n"
     ]
    },
    {
     "name": "stderr",
     "output_type": "stream",
     "text": [
      "\r",
      "  9%|███████▌                                                                         | 21/225 [00:10<01:38,  2.07it/s]"
     ]
    },
    {
     "name": "stdout",
     "output_type": "stream",
     "text": [
      "2000  th batch loss :  tensor(0.2488, grad_fn=<MseLossBackward>)\n"
     ]
    },
    {
     "name": "stderr",
     "output_type": "stream",
     "text": [
      "\r",
      " 10%|███████▉                                                                         | 22/225 [00:10<01:36,  2.10it/s]"
     ]
    },
    {
     "name": "stdout",
     "output_type": "stream",
     "text": [
      "2100  th batch loss :  tensor(0.2498, grad_fn=<MseLossBackward>)\n"
     ]
    },
    {
     "name": "stderr",
     "output_type": "stream",
     "text": [
      "\r",
      " 10%|████████▎                                                                        | 23/225 [00:11<01:39,  2.03it/s]"
     ]
    },
    {
     "name": "stdout",
     "output_type": "stream",
     "text": [
      "2200  th batch loss :  tensor(0.2530, grad_fn=<MseLossBackward>)\n"
     ]
    },
    {
     "name": "stderr",
     "output_type": "stream",
     "text": [
      "\r",
      " 11%|████████▋                                                                        | 24/225 [00:12<01:39,  2.03it/s]"
     ]
    },
    {
     "name": "stdout",
     "output_type": "stream",
     "text": [
      "2300  th batch loss :  tensor(0.2499, grad_fn=<MseLossBackward>)\n"
     ]
    },
    {
     "name": "stderr",
     "output_type": "stream",
     "text": [
      "\r",
      " 11%|█████████                                                                        | 25/225 [00:12<01:37,  2.06it/s]"
     ]
    },
    {
     "name": "stdout",
     "output_type": "stream",
     "text": [
      "2400  th batch loss :  tensor(0.2493, grad_fn=<MseLossBackward>)\n"
     ]
    },
    {
     "name": "stderr",
     "output_type": "stream",
     "text": [
      "\r",
      " 12%|█████████▎                                                                       | 26/225 [00:12<01:33,  2.12it/s]"
     ]
    },
    {
     "name": "stdout",
     "output_type": "stream",
     "text": [
      "2500  th batch loss :  tensor(0.2505, grad_fn=<MseLossBackward>)\n"
     ]
    },
    {
     "name": "stderr",
     "output_type": "stream",
     "text": [
      "\r",
      " 12%|█████████▋                                                                       | 27/225 [00:13<01:36,  2.05it/s]"
     ]
    },
    {
     "name": "stdout",
     "output_type": "stream",
     "text": [
      "2600  th batch loss :  tensor(0.2500, grad_fn=<MseLossBackward>)\n"
     ]
    },
    {
     "name": "stderr",
     "output_type": "stream",
     "text": [
      "\r",
      " 12%|██████████                                                                       | 28/225 [00:13<01:34,  2.09it/s]"
     ]
    },
    {
     "name": "stdout",
     "output_type": "stream",
     "text": [
      "2700  th batch loss :  tensor(0.2500, grad_fn=<MseLossBackward>)\n"
     ]
    },
    {
     "name": "stderr",
     "output_type": "stream",
     "text": [
      "\r",
      " 13%|██████████▍                                                                      | 29/225 [00:14<01:33,  2.09it/s]"
     ]
    },
    {
     "name": "stdout",
     "output_type": "stream",
     "text": [
      "2800  th batch loss :  tensor(0.2509, grad_fn=<MseLossBackward>)\n"
     ]
    },
    {
     "name": "stderr",
     "output_type": "stream",
     "text": [
      "\r",
      " 13%|██████████▊                                                                      | 30/225 [00:14<01:36,  2.02it/s]"
     ]
    },
    {
     "name": "stdout",
     "output_type": "stream",
     "text": [
      "2900  th batch loss :  tensor(0.2500, grad_fn=<MseLossBackward>)\n"
     ]
    },
    {
     "name": "stderr",
     "output_type": "stream",
     "text": [
      "\r",
      " 14%|███████████▏                                                                     | 31/225 [00:15<01:36,  2.01it/s]"
     ]
    },
    {
     "name": "stdout",
     "output_type": "stream",
     "text": [
      "3000  th batch loss :  tensor(0.2492, grad_fn=<MseLossBackward>)\n"
     ]
    },
    {
     "name": "stderr",
     "output_type": "stream",
     "text": [
      "\r",
      " 14%|███████████▌                                                                     | 32/225 [00:15<01:35,  2.02it/s]"
     ]
    },
    {
     "name": "stdout",
     "output_type": "stream",
     "text": [
      "3100  th batch loss :  tensor(0.2490, grad_fn=<MseLossBackward>)\n"
     ]
    },
    {
     "name": "stderr",
     "output_type": "stream",
     "text": [
      "\r",
      " 15%|███████████▉                                                                     | 33/225 [00:16<01:34,  2.02it/s]"
     ]
    },
    {
     "name": "stdout",
     "output_type": "stream",
     "text": [
      "3200  th batch loss :  tensor(0.2519, grad_fn=<MseLossBackward>)\n"
     ]
    },
    {
     "name": "stderr",
     "output_type": "stream",
     "text": [
      "\r",
      " 15%|████████████▏                                                                    | 34/225 [00:16<01:35,  2.01it/s]"
     ]
    },
    {
     "name": "stdout",
     "output_type": "stream",
     "text": [
      "3300  th batch loss :  tensor(0.2513, grad_fn=<MseLossBackward>)\n"
     ]
    },
    {
     "name": "stderr",
     "output_type": "stream",
     "text": [
      "\r",
      " 16%|████████████▌                                                                    | 35/225 [00:17<01:34,  2.01it/s]"
     ]
    },
    {
     "name": "stdout",
     "output_type": "stream",
     "text": [
      "3400  th batch loss :  tensor(0.2504, grad_fn=<MseLossBackward>)\n"
     ]
    },
    {
     "name": "stderr",
     "output_type": "stream",
     "text": [
      "\r",
      " 16%|████████████▉                                                                    | 36/225 [00:17<01:34,  2.00it/s]"
     ]
    },
    {
     "name": "stdout",
     "output_type": "stream",
     "text": [
      "3500  th batch loss :  tensor(0.2505, grad_fn=<MseLossBackward>)\n"
     ]
    },
    {
     "name": "stderr",
     "output_type": "stream",
     "text": [
      "\r",
      " 16%|█████████████▎                                                                   | 37/225 [00:18<01:41,  1.85it/s]"
     ]
    },
    {
     "name": "stdout",
     "output_type": "stream",
     "text": [
      "3600  th batch loss :  tensor(0.2498, grad_fn=<MseLossBackward>)\n"
     ]
    },
    {
     "name": "stderr",
     "output_type": "stream",
     "text": [
      "\r",
      " 17%|█████████████▋                                                                   | 38/225 [00:19<01:44,  1.79it/s]"
     ]
    },
    {
     "name": "stdout",
     "output_type": "stream",
     "text": [
      "3700  th batch loss :  tensor(0.2494, grad_fn=<MseLossBackward>)\n"
     ]
    },
    {
     "name": "stderr",
     "output_type": "stream",
     "text": [
      "\r",
      " 17%|██████████████                                                                   | 39/225 [00:19<01:43,  1.80it/s]"
     ]
    },
    {
     "name": "stdout",
     "output_type": "stream",
     "text": [
      "3800  th batch loss :  tensor(0.2490, grad_fn=<MseLossBackward>)\n"
     ]
    },
    {
     "name": "stderr",
     "output_type": "stream",
     "text": [
      "\r",
      " 18%|██████████████▍                                                                  | 40/225 [00:20<01:41,  1.82it/s]"
     ]
    },
    {
     "name": "stdout",
     "output_type": "stream",
     "text": [
      "3900  th batch loss :  tensor(0.2485, grad_fn=<MseLossBackward>)\n"
     ]
    },
    {
     "name": "stderr",
     "output_type": "stream",
     "text": [
      "\r",
      " 18%|██████████████▊                                                                  | 41/225 [00:20<01:38,  1.86it/s]"
     ]
    },
    {
     "name": "stdout",
     "output_type": "stream",
     "text": [
      "4000  th batch loss :  tensor(0.2519, grad_fn=<MseLossBackward>)\n"
     ]
    },
    {
     "name": "stderr",
     "output_type": "stream",
     "text": [
      "\r",
      " 19%|███████████████                                                                  | 42/225 [00:21<01:39,  1.84it/s]"
     ]
    },
    {
     "name": "stdout",
     "output_type": "stream",
     "text": [
      "4100  th batch loss :  tensor(0.2514, grad_fn=<MseLossBackward>)\n"
     ]
    },
    {
     "name": "stderr",
     "output_type": "stream",
     "text": [
      "\r",
      " 19%|███████████████▍                                                                 | 43/225 [00:22<01:51,  1.64it/s]"
     ]
    },
    {
     "name": "stdout",
     "output_type": "stream",
     "text": [
      "4200  th batch loss :  tensor(0.2503, grad_fn=<MseLossBackward>)\n"
     ]
    },
    {
     "name": "stderr",
     "output_type": "stream",
     "text": [
      "\r",
      " 20%|███████████████▊                                                                 | 44/225 [00:22<01:48,  1.67it/s]"
     ]
    },
    {
     "name": "stdout",
     "output_type": "stream",
     "text": [
      "4300  th batch loss :  tensor(0.2493, grad_fn=<MseLossBackward>)\n"
     ]
    },
    {
     "name": "stderr",
     "output_type": "stream",
     "text": [
      "\r",
      " 20%|████████████████▏                                                                | 45/225 [00:23<01:59,  1.50it/s]"
     ]
    },
    {
     "name": "stdout",
     "output_type": "stream",
     "text": [
      "4400  th batch loss :  tensor(0.2518, grad_fn=<MseLossBackward>)\n"
     ]
    },
    {
     "name": "stderr",
     "output_type": "stream",
     "text": [
      "\r",
      " 20%|████████████████▌                                                                | 46/225 [00:24<01:58,  1.51it/s]"
     ]
    },
    {
     "name": "stdout",
     "output_type": "stream",
     "text": [
      "4500  th batch loss :  tensor(0.2510, grad_fn=<MseLossBackward>)\n"
     ]
    },
    {
     "name": "stderr",
     "output_type": "stream",
     "text": [
      "\r",
      " 21%|████████████████▉                                                                | 47/225 [00:24<01:48,  1.64it/s]"
     ]
    },
    {
     "name": "stdout",
     "output_type": "stream",
     "text": [
      "4600  th batch loss :  tensor(0.2492, grad_fn=<MseLossBackward>)\n"
     ]
    },
    {
     "name": "stderr",
     "output_type": "stream",
     "text": [
      "\r",
      " 21%|█████████████████▎                                                               | 48/225 [00:25<01:41,  1.75it/s]"
     ]
    },
    {
     "name": "stdout",
     "output_type": "stream",
     "text": [
      "4700  th batch loss :  tensor(0.2483, grad_fn=<MseLossBackward>)\n"
     ]
    },
    {
     "name": "stderr",
     "output_type": "stream",
     "text": [
      "\r",
      " 22%|█████████████████▋                                                               | 49/225 [00:25<01:35,  1.84it/s]"
     ]
    },
    {
     "name": "stdout",
     "output_type": "stream",
     "text": [
      "4800  th batch loss :  tensor(0.2491, grad_fn=<MseLossBackward>)\n"
     ]
    },
    {
     "name": "stderr",
     "output_type": "stream",
     "text": [
      "\r",
      " 22%|██████████████████                                                               | 50/225 [00:25<01:29,  1.95it/s]"
     ]
    },
    {
     "name": "stdout",
     "output_type": "stream",
     "text": [
      "4900  th batch loss :  tensor(0.2486, grad_fn=<MseLossBackward>)\n"
     ]
    },
    {
     "name": "stderr",
     "output_type": "stream",
     "text": [
      "\r",
      " 23%|██████████████████▎                                                              | 51/225 [00:26<01:27,  2.00it/s]"
     ]
    },
    {
     "name": "stdout",
     "output_type": "stream",
     "text": [
      "5000  th batch loss :  tensor(0.2485, grad_fn=<MseLossBackward>)\n"
     ]
    },
    {
     "name": "stderr",
     "output_type": "stream",
     "text": [
      "\r",
      " 23%|██████████████████▋                                                              | 52/225 [00:26<01:26,  1.99it/s]"
     ]
    },
    {
     "name": "stdout",
     "output_type": "stream",
     "text": [
      "5100  th batch loss :  tensor(0.2516, grad_fn=<MseLossBackward>)\n"
     ]
    },
    {
     "name": "stderr",
     "output_type": "stream",
     "text": [
      "\r",
      " 24%|███████████████████                                                              | 53/225 [00:27<01:24,  2.03it/s]"
     ]
    },
    {
     "name": "stdout",
     "output_type": "stream",
     "text": [
      "5200  th batch loss :  tensor(0.2500, grad_fn=<MseLossBackward>)\n"
     ]
    },
    {
     "name": "stderr",
     "output_type": "stream",
     "text": [
      "\r",
      " 24%|███████████████████▍                                                             | 54/225 [00:27<01:23,  2.04it/s]"
     ]
    },
    {
     "name": "stdout",
     "output_type": "stream",
     "text": [
      "5300  th batch loss :  tensor(0.2467, grad_fn=<MseLossBackward>)\n"
     ]
    },
    {
     "name": "stderr",
     "output_type": "stream",
     "text": [
      "\r",
      " 24%|███████████████████▊                                                             | 55/225 [00:28<01:21,  2.08it/s]"
     ]
    },
    {
     "name": "stdout",
     "output_type": "stream",
     "text": [
      "5400  th batch loss :  tensor(0.2496, grad_fn=<MseLossBackward>)\n"
     ]
    },
    {
     "name": "stderr",
     "output_type": "stream",
     "text": [
      "\r",
      " 25%|████████████████████▏                                                            | 56/225 [00:28<01:18,  2.15it/s]"
     ]
    },
    {
     "name": "stdout",
     "output_type": "stream",
     "text": [
      "5500  th batch loss :  tensor(0.2506, grad_fn=<MseLossBackward>)\n"
     ]
    },
    {
     "name": "stderr",
     "output_type": "stream",
     "text": [
      "\r",
      " 25%|████████████████████▌                                                            | 57/225 [00:29<01:16,  2.19it/s]"
     ]
    },
    {
     "name": "stdout",
     "output_type": "stream",
     "text": [
      "5600  th batch loss :  tensor(0.2487, grad_fn=<MseLossBackward>)\n"
     ]
    },
    {
     "name": "stderr",
     "output_type": "stream",
     "text": [
      "\r",
      " 26%|████████████████████▉                                                            | 58/225 [00:29<01:16,  2.18it/s]"
     ]
    },
    {
     "name": "stdout",
     "output_type": "stream",
     "text": [
      "5700  th batch loss :  tensor(0.2477, grad_fn=<MseLossBackward>)\n"
     ]
    },
    {
     "name": "stderr",
     "output_type": "stream",
     "text": [
      "\r",
      " 26%|█████████████████████▏                                                           | 59/225 [00:30<01:21,  2.04it/s]"
     ]
    },
    {
     "name": "stdout",
     "output_type": "stream",
     "text": [
      "5800  th batch loss :  tensor(0.2466, grad_fn=<MseLossBackward>)\n"
     ]
    },
    {
     "name": "stderr",
     "output_type": "stream",
     "text": [
      "\r",
      " 27%|█████████████████████▌                                                           | 60/225 [00:30<01:18,  2.11it/s]"
     ]
    },
    {
     "name": "stdout",
     "output_type": "stream",
     "text": [
      "5900  th batch loss :  tensor(0.2472, grad_fn=<MseLossBackward>)\n"
     ]
    },
    {
     "name": "stderr",
     "output_type": "stream",
     "text": [
      "\r",
      " 27%|█████████████████████▉                                                           | 61/225 [00:31<01:16,  2.15it/s]"
     ]
    },
    {
     "name": "stdout",
     "output_type": "stream",
     "text": [
      "6000  th batch loss :  tensor(0.2472, grad_fn=<MseLossBackward>)\n"
     ]
    },
    {
     "name": "stderr",
     "output_type": "stream",
     "text": [
      "\r",
      " 28%|██████████████████████▎                                                          | 62/225 [00:31<01:16,  2.14it/s]"
     ]
    },
    {
     "name": "stdout",
     "output_type": "stream",
     "text": [
      "6100  th batch loss :  tensor(0.2484, grad_fn=<MseLossBackward>)\n"
     ]
    },
    {
     "name": "stderr",
     "output_type": "stream",
     "text": [
      "\r",
      " 28%|██████████████████████▋                                                          | 63/225 [00:32<01:14,  2.16it/s]"
     ]
    },
    {
     "name": "stdout",
     "output_type": "stream",
     "text": [
      "6200  th batch loss :  tensor(0.2467, grad_fn=<MseLossBackward>)\n"
     ]
    },
    {
     "name": "stderr",
     "output_type": "stream",
     "text": [
      "\r",
      " 28%|███████████████████████                                                          | 64/225 [00:32<01:14,  2.15it/s]"
     ]
    },
    {
     "name": "stdout",
     "output_type": "stream",
     "text": [
      "6300  th batch loss :  tensor(0.2441, grad_fn=<MseLossBackward>)\n"
     ]
    },
    {
     "name": "stderr",
     "output_type": "stream",
     "text": [
      "\r",
      " 29%|███████████████████████▍                                                         | 65/225 [00:32<01:12,  2.19it/s]"
     ]
    },
    {
     "name": "stdout",
     "output_type": "stream",
     "text": [
      "6400  th batch loss :  tensor(0.2472, grad_fn=<MseLossBackward>)\n"
     ]
    },
    {
     "name": "stderr",
     "output_type": "stream",
     "text": [
      "\r",
      " 29%|███████████████████████▊                                                         | 66/225 [00:33<01:12,  2.20it/s]"
     ]
    },
    {
     "name": "stdout",
     "output_type": "stream",
     "text": [
      "6500  th batch loss :  tensor(0.2382, grad_fn=<MseLossBackward>)\n"
     ]
    },
    {
     "name": "stderr",
     "output_type": "stream",
     "text": [
      "\r",
      " 30%|████████████████████████                                                         | 67/225 [00:33<01:11,  2.20it/s]"
     ]
    },
    {
     "name": "stdout",
     "output_type": "stream",
     "text": [
      "6600  th batch loss :  tensor(0.2547, grad_fn=<MseLossBackward>)\n"
     ]
    },
    {
     "name": "stderr",
     "output_type": "stream",
     "text": [
      "\r",
      " 30%|████████████████████████▍                                                        | 68/225 [00:34<01:21,  1.93it/s]"
     ]
    },
    {
     "name": "stdout",
     "output_type": "stream",
     "text": [
      "6700  th batch loss :  tensor(0.2452, grad_fn=<MseLossBackward>)\n"
     ]
    },
    {
     "name": "stderr",
     "output_type": "stream",
     "text": [
      "\r",
      " 31%|████████████████████████▊                                                        | 69/225 [00:35<01:17,  2.01it/s]"
     ]
    },
    {
     "name": "stdout",
     "output_type": "stream",
     "text": [
      "6800  th batch loss :  tensor(0.2462, grad_fn=<MseLossBackward>)\n"
     ]
    },
    {
     "name": "stderr",
     "output_type": "stream",
     "text": [
      "\r",
      " 31%|█████████████████████████▏                                                       | 70/225 [00:35<01:20,  1.93it/s]"
     ]
    },
    {
     "name": "stdout",
     "output_type": "stream",
     "text": [
      "6900  th batch loss :  tensor(0.2458, grad_fn=<MseLossBackward>)\n"
     ]
    },
    {
     "name": "stderr",
     "output_type": "stream",
     "text": [
      "\r",
      " 32%|█████████████████████████▌                                                       | 71/225 [00:36<01:18,  1.96it/s]"
     ]
    },
    {
     "name": "stdout",
     "output_type": "stream",
     "text": [
      "7000  th batch loss :  tensor(0.2349, grad_fn=<MseLossBackward>)\n"
     ]
    },
    {
     "name": "stderr",
     "output_type": "stream",
     "text": [
      "\r",
      " 32%|█████████████████████████▉                                                       | 72/225 [00:36<01:17,  1.97it/s]"
     ]
    },
    {
     "name": "stdout",
     "output_type": "stream",
     "text": [
      "7100  th batch loss :  tensor(0.2398, grad_fn=<MseLossBackward>)\n"
     ]
    },
    {
     "name": "stderr",
     "output_type": "stream",
     "text": [
      "\r",
      " 32%|██████████████████████████▎                                                      | 73/225 [00:37<01:17,  1.96it/s]"
     ]
    },
    {
     "name": "stdout",
     "output_type": "stream",
     "text": [
      "7200  th batch loss :  tensor(0.2460, grad_fn=<MseLossBackward>)\n"
     ]
    },
    {
     "name": "stderr",
     "output_type": "stream",
     "text": [
      "\r",
      " 33%|██████████████████████████▋                                                      | 74/225 [00:37<01:15,  1.99it/s]"
     ]
    },
    {
     "name": "stdout",
     "output_type": "stream",
     "text": [
      "7300  th batch loss :  tensor(0.2462, grad_fn=<MseLossBackward>)\n"
     ]
    },
    {
     "name": "stderr",
     "output_type": "stream",
     "text": [
      "\r",
      " 33%|███████████████████████████                                                      | 75/225 [00:38<01:15,  1.98it/s]"
     ]
    },
    {
     "name": "stdout",
     "output_type": "stream",
     "text": [
      "7400  th batch loss :  tensor(0.2489, grad_fn=<MseLossBackward>)\n"
     ]
    },
    {
     "name": "stderr",
     "output_type": "stream",
     "text": [
      "\r",
      " 34%|███████████████████████████▎                                                     | 76/225 [00:38<01:14,  2.01it/s]"
     ]
    },
    {
     "name": "stdout",
     "output_type": "stream",
     "text": [
      "7500  th batch loss :  tensor(0.2531, grad_fn=<MseLossBackward>)\n"
     ]
    },
    {
     "name": "stderr",
     "output_type": "stream",
     "text": [
      "\r",
      " 34%|███████████████████████████▋                                                     | 77/225 [00:39<01:11,  2.06it/s]"
     ]
    },
    {
     "name": "stdout",
     "output_type": "stream",
     "text": [
      "7600  th batch loss :  tensor(0.2392, grad_fn=<MseLossBackward>)\n"
     ]
    },
    {
     "name": "stderr",
     "output_type": "stream",
     "text": [
      "\r",
      " 35%|████████████████████████████                                                     | 78/225 [00:39<01:10,  2.08it/s]"
     ]
    },
    {
     "name": "stdout",
     "output_type": "stream",
     "text": [
      "7700  th batch loss :  tensor(0.2496, grad_fn=<MseLossBackward>)\n"
     ]
    },
    {
     "name": "stderr",
     "output_type": "stream",
     "text": [
      "\r",
      " 35%|████████████████████████████▍                                                    | 79/225 [00:39<01:08,  2.13it/s]"
     ]
    },
    {
     "name": "stdout",
     "output_type": "stream",
     "text": [
      "7800  th batch loss :  tensor(0.2433, grad_fn=<MseLossBackward>)\n"
     ]
    },
    {
     "name": "stderr",
     "output_type": "stream",
     "text": [
      "\r",
      " 36%|████████████████████████████▊                                                    | 80/225 [00:40<01:07,  2.14it/s]"
     ]
    },
    {
     "name": "stdout",
     "output_type": "stream",
     "text": [
      "7900  th batch loss :  tensor(0.2409, grad_fn=<MseLossBackward>)\n"
     ]
    },
    {
     "name": "stderr",
     "output_type": "stream",
     "text": [
      "\r",
      " 36%|█████████████████████████████▏                                                   | 81/225 [00:40<01:05,  2.20it/s]"
     ]
    },
    {
     "name": "stdout",
     "output_type": "stream",
     "text": [
      "8000  th batch loss :  tensor(0.2436, grad_fn=<MseLossBackward>)\n"
     ]
    },
    {
     "name": "stderr",
     "output_type": "stream",
     "text": [
      "\r",
      " 36%|█████████████████████████████▌                                                   | 82/225 [00:41<01:05,  2.20it/s]"
     ]
    },
    {
     "name": "stdout",
     "output_type": "stream",
     "text": [
      "8100  th batch loss :  tensor(0.2463, grad_fn=<MseLossBackward>)\n"
     ]
    },
    {
     "name": "stderr",
     "output_type": "stream",
     "text": [
      "\r",
      " 37%|█████████████████████████████▉                                                   | 83/225 [00:41<01:05,  2.17it/s]"
     ]
    },
    {
     "name": "stdout",
     "output_type": "stream",
     "text": [
      "8200  th batch loss :  tensor(0.2469, grad_fn=<MseLossBackward>)\n"
     ]
    },
    {
     "name": "stderr",
     "output_type": "stream",
     "text": [
      "\r",
      " 37%|██████████████████████████████▏                                                  | 84/225 [00:42<01:05,  2.16it/s]"
     ]
    },
    {
     "name": "stdout",
     "output_type": "stream",
     "text": [
      "8300  th batch loss :  tensor(0.2356, grad_fn=<MseLossBackward>)\n"
     ]
    },
    {
     "name": "stderr",
     "output_type": "stream",
     "text": [
      "\r",
      " 38%|██████████████████████████████▌                                                  | 85/225 [00:42<01:04,  2.18it/s]"
     ]
    },
    {
     "name": "stdout",
     "output_type": "stream",
     "text": [
      "8400  th batch loss :  tensor(0.2454, grad_fn=<MseLossBackward>)\n"
     ]
    },
    {
     "name": "stderr",
     "output_type": "stream",
     "text": [
      "\r",
      " 38%|██████████████████████████████▉                                                  | 86/225 [00:43<01:02,  2.21it/s]"
     ]
    },
    {
     "name": "stdout",
     "output_type": "stream",
     "text": [
      "8500  th batch loss :  tensor(0.2416, grad_fn=<MseLossBackward>)\n"
     ]
    },
    {
     "name": "stderr",
     "output_type": "stream",
     "text": [
      "\r",
      " 39%|███████████████████████████████▎                                                 | 87/225 [00:43<01:02,  2.23it/s]"
     ]
    },
    {
     "name": "stdout",
     "output_type": "stream",
     "text": [
      "8600  th batch loss :  tensor(0.2287, grad_fn=<MseLossBackward>)\n"
     ]
    },
    {
     "name": "stderr",
     "output_type": "stream",
     "text": [
      "\r",
      " 39%|███████████████████████████████▋                                                 | 88/225 [00:43<01:01,  2.24it/s]"
     ]
    },
    {
     "name": "stdout",
     "output_type": "stream",
     "text": [
      "8700  th batch loss :  tensor(0.2480, grad_fn=<MseLossBackward>)\n"
     ]
    },
    {
     "name": "stderr",
     "output_type": "stream",
     "text": [
      "\r",
      " 40%|████████████████████████████████                                                 | 89/225 [00:44<01:00,  2.23it/s]"
     ]
    },
    {
     "name": "stdout",
     "output_type": "stream",
     "text": [
      "8800  th batch loss :  tensor(0.2358, grad_fn=<MseLossBackward>)\n"
     ]
    },
    {
     "name": "stderr",
     "output_type": "stream",
     "text": [
      "\r",
      " 40%|████████████████████████████████▍                                                | 90/225 [00:44<00:59,  2.26it/s]"
     ]
    },
    {
     "name": "stdout",
     "output_type": "stream",
     "text": [
      "8900  th batch loss :  tensor(0.2336, grad_fn=<MseLossBackward>)\n"
     ]
    },
    {
     "name": "stderr",
     "output_type": "stream",
     "text": [
      "\r",
      " 40%|████████████████████████████████▊                                                | 91/225 [00:45<00:59,  2.27it/s]"
     ]
    },
    {
     "name": "stdout",
     "output_type": "stream",
     "text": [
      "9000  th batch loss :  tensor(0.2306, grad_fn=<MseLossBackward>)\n"
     ]
    },
    {
     "name": "stderr",
     "output_type": "stream",
     "text": [
      "\r",
      " 41%|█████████████████████████████████                                                | 92/225 [00:45<00:58,  2.26it/s]"
     ]
    },
    {
     "name": "stdout",
     "output_type": "stream",
     "text": [
      "9100  th batch loss :  tensor(0.2471, grad_fn=<MseLossBackward>)\n"
     ]
    },
    {
     "name": "stderr",
     "output_type": "stream",
     "text": [
      "\r",
      " 41%|█████████████████████████████████▍                                               | 93/225 [00:46<00:59,  2.23it/s]"
     ]
    },
    {
     "name": "stdout",
     "output_type": "stream",
     "text": [
      "9200  th batch loss :  tensor(0.2443, grad_fn=<MseLossBackward>)\n"
     ]
    },
    {
     "name": "stderr",
     "output_type": "stream",
     "text": [
      "\r",
      " 42%|█████████████████████████████████▊                                               | 94/225 [00:46<00:59,  2.20it/s]"
     ]
    },
    {
     "name": "stdout",
     "output_type": "stream",
     "text": [
      "9300  th batch loss :  tensor(0.2640, grad_fn=<MseLossBackward>)\n"
     ]
    },
    {
     "name": "stderr",
     "output_type": "stream",
     "text": [
      "\r",
      " 42%|██████████████████████████████████▏                                              | 95/225 [00:47<00:57,  2.26it/s]"
     ]
    },
    {
     "name": "stdout",
     "output_type": "stream",
     "text": [
      "9400  th batch loss :  tensor(0.2346, grad_fn=<MseLossBackward>)\n"
     ]
    },
    {
     "name": "stderr",
     "output_type": "stream",
     "text": [
      "\r",
      " 43%|██████████████████████████████████▌                                              | 96/225 [00:47<00:56,  2.29it/s]"
     ]
    },
    {
     "name": "stdout",
     "output_type": "stream",
     "text": [
      "9500  th batch loss :  tensor(0.2383, grad_fn=<MseLossBackward>)\n"
     ]
    },
    {
     "name": "stderr",
     "output_type": "stream",
     "text": [
      "\r",
      " 43%|██████████████████████████████████▉                                              | 97/225 [00:47<00:55,  2.30it/s]"
     ]
    },
    {
     "name": "stdout",
     "output_type": "stream",
     "text": [
      "9600  th batch loss :  tensor(0.2355, grad_fn=<MseLossBackward>)\n"
     ]
    },
    {
     "name": "stderr",
     "output_type": "stream",
     "text": [
      "\r",
      " 44%|███████████████████████████████████▎                                             | 98/225 [00:48<00:56,  2.24it/s]"
     ]
    },
    {
     "name": "stdout",
     "output_type": "stream",
     "text": [
      "9700  th batch loss :  tensor(0.2471, grad_fn=<MseLossBackward>)\n"
     ]
    },
    {
     "name": "stderr",
     "output_type": "stream",
     "text": [
      "\r",
      " 44%|███████████████████████████████████▋                                             | 99/225 [00:48<00:59,  2.12it/s]"
     ]
    },
    {
     "name": "stdout",
     "output_type": "stream",
     "text": [
      "9800  th batch loss :  tensor(0.2501, grad_fn=<MseLossBackward>)\n"
     ]
    },
    {
     "name": "stderr",
     "output_type": "stream",
     "text": [
      "\r",
      " 44%|███████████████████████████████████▌                                            | 100/225 [00:49<00:58,  2.14it/s]"
     ]
    },
    {
     "name": "stdout",
     "output_type": "stream",
     "text": [
      "9900  th batch loss :  tensor(0.2374, grad_fn=<MseLossBackward>)\n"
     ]
    },
    {
     "name": "stderr",
     "output_type": "stream",
     "text": [
      "\r",
      " 45%|███████████████████████████████████▉                                            | 101/225 [00:49<00:57,  2.15it/s]"
     ]
    },
    {
     "name": "stdout",
     "output_type": "stream",
     "text": [
      "10000  th batch loss :  tensor(0.2430, grad_fn=<MseLossBackward>)\n"
     ]
    },
    {
     "name": "stderr",
     "output_type": "stream",
     "text": [
      "\r",
      " 45%|████████████████████████████████████▎                                           | 102/225 [00:50<00:57,  2.13it/s]"
     ]
    },
    {
     "name": "stdout",
     "output_type": "stream",
     "text": [
      "10100  th batch loss :  tensor(0.2406, grad_fn=<MseLossBackward>)\n"
     ]
    },
    {
     "name": "stderr",
     "output_type": "stream",
     "text": [
      "\r",
      " 46%|████████████████████████████████████▌                                           | 103/225 [00:50<00:57,  2.14it/s]"
     ]
    },
    {
     "name": "stdout",
     "output_type": "stream",
     "text": [
      "10200  th batch loss :  tensor(0.2323, grad_fn=<MseLossBackward>)\n"
     ]
    },
    {
     "name": "stderr",
     "output_type": "stream",
     "text": [
      "\r",
      " 46%|████████████████████████████████████▉                                           | 104/225 [00:51<00:55,  2.17it/s]"
     ]
    },
    {
     "name": "stdout",
     "output_type": "stream",
     "text": [
      "10300  th batch loss :  tensor(0.2366, grad_fn=<MseLossBackward>)\n"
     ]
    },
    {
     "name": "stderr",
     "output_type": "stream",
     "text": [
      "\r",
      " 47%|█████████████████████████████████████▎                                          | 105/225 [00:51<00:56,  2.13it/s]"
     ]
    },
    {
     "name": "stdout",
     "output_type": "stream",
     "text": [
      "10400  th batch loss :  tensor(0.2292, grad_fn=<MseLossBackward>)\n"
     ]
    },
    {
     "name": "stderr",
     "output_type": "stream",
     "text": [
      "\r",
      " 47%|█████████████████████████████████████▋                                          | 106/225 [00:52<00:55,  2.16it/s]"
     ]
    },
    {
     "name": "stdout",
     "output_type": "stream",
     "text": [
      "10500  th batch loss :  tensor(0.2327, grad_fn=<MseLossBackward>)\n"
     ]
    },
    {
     "name": "stderr",
     "output_type": "stream",
     "text": [
      "\r",
      " 48%|██████████████████████████████████████                                          | 107/225 [00:52<00:54,  2.16it/s]"
     ]
    },
    {
     "name": "stdout",
     "output_type": "stream",
     "text": [
      "10600  th batch loss :  tensor(0.2369, grad_fn=<MseLossBackward>)\n"
     ]
    },
    {
     "name": "stderr",
     "output_type": "stream",
     "text": [
      "\r",
      " 48%|██████████████████████████████████████▍                                         | 108/225 [00:53<00:54,  2.15it/s]"
     ]
    },
    {
     "name": "stdout",
     "output_type": "stream",
     "text": [
      "10700  th batch loss :  tensor(0.2214, grad_fn=<MseLossBackward>)\n"
     ]
    },
    {
     "name": "stderr",
     "output_type": "stream",
     "text": [
      "\r",
      " 48%|██████████████████████████████████████▊                                         | 109/225 [00:53<00:53,  2.18it/s]"
     ]
    },
    {
     "name": "stdout",
     "output_type": "stream",
     "text": [
      "10800  th batch loss :  tensor(0.2375, grad_fn=<MseLossBackward>)\n"
     ]
    },
    {
     "name": "stderr",
     "output_type": "stream",
     "text": [
      "\r",
      " 49%|███████████████████████████████████████                                         | 110/225 [00:54<00:53,  2.15it/s]"
     ]
    },
    {
     "name": "stdout",
     "output_type": "stream",
     "text": [
      "10900  th batch loss :  tensor(0.2807, grad_fn=<MseLossBackward>)\n"
     ]
    },
    {
     "name": "stderr",
     "output_type": "stream",
     "text": [
      "\r",
      " 49%|███████████████████████████████████████▍                                        | 111/225 [00:54<00:53,  2.14it/s]"
     ]
    },
    {
     "name": "stdout",
     "output_type": "stream",
     "text": [
      "11000  th batch loss :  tensor(0.2296, grad_fn=<MseLossBackward>)\n"
     ]
    },
    {
     "name": "stderr",
     "output_type": "stream",
     "text": [
      "\r",
      " 50%|███████████████████████████████████████▊                                        | 112/225 [00:54<00:51,  2.19it/s]"
     ]
    },
    {
     "name": "stdout",
     "output_type": "stream",
     "text": [
      "11100  th batch loss :  tensor(0.2554, grad_fn=<MseLossBackward>)\n"
     ]
    },
    {
     "name": "stderr",
     "output_type": "stream",
     "text": [
      "\r",
      " 50%|████████████████████████████████████████▏                                       | 113/225 [00:55<00:51,  2.18it/s]"
     ]
    },
    {
     "name": "stdout",
     "output_type": "stream",
     "text": [
      "11200  th batch loss :  tensor(0.2345, grad_fn=<MseLossBackward>)\n"
     ]
    },
    {
     "name": "stderr",
     "output_type": "stream",
     "text": [
      "\r",
      " 51%|████████████████████████████████████████▌                                       | 114/225 [00:55<00:51,  2.16it/s]"
     ]
    },
    {
     "name": "stdout",
     "output_type": "stream",
     "text": [
      "11300  th batch loss :  tensor(0.2211, grad_fn=<MseLossBackward>)\n"
     ]
    },
    {
     "name": "stderr",
     "output_type": "stream",
     "text": [
      "\r",
      " 51%|████████████████████████████████████████▉                                       | 115/225 [00:56<00:51,  2.15it/s]"
     ]
    },
    {
     "name": "stdout",
     "output_type": "stream",
     "text": [
      "11400  th batch loss :  tensor(0.2315, grad_fn=<MseLossBackward>)\n"
     ]
    },
    {
     "name": "stderr",
     "output_type": "stream",
     "text": [
      "\r",
      " 52%|█████████████████████████████████████████▏                                      | 116/225 [00:56<00:51,  2.12it/s]"
     ]
    },
    {
     "name": "stdout",
     "output_type": "stream",
     "text": [
      "11500  th batch loss :  tensor(0.2397, grad_fn=<MseLossBackward>)\n"
     ]
    },
    {
     "name": "stderr",
     "output_type": "stream",
     "text": [
      "\r",
      " 52%|█████████████████████████████████████████▌                                      | 117/225 [00:57<00:49,  2.19it/s]"
     ]
    },
    {
     "name": "stdout",
     "output_type": "stream",
     "text": [
      "11600  th batch loss :  tensor(0.2391, grad_fn=<MseLossBackward>)\n"
     ]
    },
    {
     "name": "stderr",
     "output_type": "stream",
     "text": [
      "\r",
      " 52%|█████████████████████████████████████████▉                                      | 118/225 [00:57<00:48,  2.20it/s]"
     ]
    },
    {
     "name": "stdout",
     "output_type": "stream",
     "text": [
      "11700  th batch loss :  tensor(0.2378, grad_fn=<MseLossBackward>)\n"
     ]
    },
    {
     "name": "stderr",
     "output_type": "stream",
     "text": [
      "\r",
      " 53%|██████████████████████████████████████████▎                                     | 119/225 [00:58<00:47,  2.23it/s]"
     ]
    },
    {
     "name": "stdout",
     "output_type": "stream",
     "text": [
      "11800  th batch loss :  tensor(0.2526, grad_fn=<MseLossBackward>)\n"
     ]
    },
    {
     "name": "stderr",
     "output_type": "stream",
     "text": [
      "\r",
      " 53%|██████████████████████████████████████████▋                                     | 120/225 [00:58<00:47,  2.23it/s]"
     ]
    },
    {
     "name": "stdout",
     "output_type": "stream",
     "text": [
      "11900  th batch loss :  tensor(0.2291, grad_fn=<MseLossBackward>)\n"
     ]
    },
    {
     "name": "stderr",
     "output_type": "stream",
     "text": [
      "\r",
      " 54%|███████████████████████████████████████████                                     | 121/225 [00:59<00:45,  2.29it/s]"
     ]
    },
    {
     "name": "stdout",
     "output_type": "stream",
     "text": [
      "12000  th batch loss :  tensor(0.2310, grad_fn=<MseLossBackward>)\n"
     ]
    },
    {
     "name": "stderr",
     "output_type": "stream",
     "text": [
      "\r",
      " 54%|███████████████████████████████████████████▍                                    | 122/225 [00:59<00:45,  2.27it/s]"
     ]
    },
    {
     "name": "stdout",
     "output_type": "stream",
     "text": [
      "12100  th batch loss :  tensor(0.2272, grad_fn=<MseLossBackward>)\n"
     ]
    },
    {
     "name": "stderr",
     "output_type": "stream",
     "text": [
      "\r",
      " 55%|███████████████████████████████████████████▋                                    | 123/225 [00:59<00:45,  2.25it/s]"
     ]
    },
    {
     "name": "stdout",
     "output_type": "stream",
     "text": [
      "12200  th batch loss :  tensor(0.2170, grad_fn=<MseLossBackward>)\n"
     ]
    },
    {
     "name": "stderr",
     "output_type": "stream",
     "text": [
      "\r",
      " 55%|████████████████████████████████████████████                                    | 124/225 [01:00<00:44,  2.28it/s]"
     ]
    },
    {
     "name": "stdout",
     "output_type": "stream",
     "text": [
      "12300  th batch loss :  tensor(0.2471, grad_fn=<MseLossBackward>)\n"
     ]
    },
    {
     "name": "stderr",
     "output_type": "stream",
     "text": [
      "\r",
      " 56%|████████████████████████████████████████████▍                                   | 125/225 [01:00<00:44,  2.25it/s]"
     ]
    },
    {
     "name": "stdout",
     "output_type": "stream",
     "text": [
      "12400  th batch loss :  tensor(0.2286, grad_fn=<MseLossBackward>)\n"
     ]
    },
    {
     "name": "stderr",
     "output_type": "stream",
     "text": [
      "\r",
      " 56%|████████████████████████████████████████████▊                                   | 126/225 [01:01<00:43,  2.26it/s]"
     ]
    },
    {
     "name": "stdout",
     "output_type": "stream",
     "text": [
      "12500  th batch loss :  tensor(0.2389, grad_fn=<MseLossBackward>)\n"
     ]
    },
    {
     "name": "stderr",
     "output_type": "stream",
     "text": [
      "\r",
      " 56%|█████████████████████████████████████████████▏                                  | 127/225 [01:01<00:44,  2.20it/s]"
     ]
    },
    {
     "name": "stdout",
     "output_type": "stream",
     "text": [
      "12600  th batch loss :  tensor(0.2450, grad_fn=<MseLossBackward>)\n"
     ]
    },
    {
     "name": "stderr",
     "output_type": "stream",
     "text": [
      "\r",
      " 57%|█████████████████████████████████████████████▌                                  | 128/225 [01:02<00:44,  2.20it/s]"
     ]
    },
    {
     "name": "stdout",
     "output_type": "stream",
     "text": [
      "12700  th batch loss :  tensor(0.2326, grad_fn=<MseLossBackward>)\n"
     ]
    },
    {
     "name": "stderr",
     "output_type": "stream",
     "text": [
      "\r",
      " 57%|█████████████████████████████████████████████▊                                  | 129/225 [01:02<00:44,  2.16it/s]"
     ]
    },
    {
     "name": "stdout",
     "output_type": "stream",
     "text": [
      "12800  th batch loss :  tensor(0.2414, grad_fn=<MseLossBackward>)\n"
     ]
    },
    {
     "name": "stderr",
     "output_type": "stream",
     "text": [
      "\r",
      " 58%|██████████████████████████████████████████████▏                                 | 130/225 [01:03<00:43,  2.19it/s]"
     ]
    },
    {
     "name": "stdout",
     "output_type": "stream",
     "text": [
      "12900  th batch loss :  tensor(0.2475, grad_fn=<MseLossBackward>)\n"
     ]
    },
    {
     "name": "stderr",
     "output_type": "stream",
     "text": [
      "\r",
      " 58%|██████████████████████████████████████████████▌                                 | 131/225 [01:03<00:42,  2.21it/s]"
     ]
    },
    {
     "name": "stdout",
     "output_type": "stream",
     "text": [
      "13000  th batch loss :  tensor(0.2281, grad_fn=<MseLossBackward>)\n"
     ]
    },
    {
     "name": "stderr",
     "output_type": "stream",
     "text": [
      "\r",
      " 59%|██████████████████████████████████████████████▉                                 | 132/225 [01:04<00:42,  2.18it/s]"
     ]
    },
    {
     "name": "stdout",
     "output_type": "stream",
     "text": [
      "13100  th batch loss :  tensor(0.2361, grad_fn=<MseLossBackward>)\n"
     ]
    },
    {
     "name": "stderr",
     "output_type": "stream",
     "text": [
      "\r",
      " 59%|███████████████████████████████████████████████▎                                | 133/225 [01:04<00:41,  2.20it/s]"
     ]
    },
    {
     "name": "stdout",
     "output_type": "stream",
     "text": [
      "13200  th batch loss :  tensor(0.2222, grad_fn=<MseLossBackward>)\n"
     ]
    },
    {
     "name": "stderr",
     "output_type": "stream",
     "text": [
      "\r",
      " 60%|███████████████████████████████████████████████▋                                | 134/225 [01:04<00:40,  2.24it/s]"
     ]
    },
    {
     "name": "stdout",
     "output_type": "stream",
     "text": [
      "13300  th batch loss :  tensor(0.2302, grad_fn=<MseLossBackward>)\n"
     ]
    },
    {
     "name": "stderr",
     "output_type": "stream",
     "text": [
      "\r",
      " 60%|████████████████████████████████████████████████                                | 135/225 [01:05<00:40,  2.20it/s]"
     ]
    },
    {
     "name": "stdout",
     "output_type": "stream",
     "text": [
      "13400  th batch loss :  tensor(0.2254, grad_fn=<MseLossBackward>)\n"
     ]
    },
    {
     "name": "stderr",
     "output_type": "stream",
     "text": [
      "\r",
      " 60%|████████████████████████████████████████████████▎                               | 136/225 [01:05<00:40,  2.22it/s]"
     ]
    },
    {
     "name": "stdout",
     "output_type": "stream",
     "text": [
      "13500  th batch loss :  tensor(0.2345, grad_fn=<MseLossBackward>)\n"
     ]
    },
    {
     "name": "stderr",
     "output_type": "stream",
     "text": [
      "\r",
      " 61%|████████████████████████████████████████████████▋                               | 137/225 [01:06<00:39,  2.25it/s]"
     ]
    },
    {
     "name": "stdout",
     "output_type": "stream",
     "text": [
      "13600  th batch loss :  tensor(0.2144, grad_fn=<MseLossBackward>)\n"
     ]
    },
    {
     "name": "stderr",
     "output_type": "stream",
     "text": [
      "\r",
      " 61%|█████████████████████████████████████████████████                               | 138/225 [01:06<00:40,  2.17it/s]"
     ]
    },
    {
     "name": "stdout",
     "output_type": "stream",
     "text": [
      "13700  th batch loss :  tensor(0.2592, grad_fn=<MseLossBackward>)\n"
     ]
    },
    {
     "name": "stderr",
     "output_type": "stream",
     "text": [
      "\r",
      " 62%|█████████████████████████████████████████████████▍                              | 139/225 [01:07<00:38,  2.23it/s]"
     ]
    },
    {
     "name": "stdout",
     "output_type": "stream",
     "text": [
      "13800  th batch loss :  tensor(0.2385, grad_fn=<MseLossBackward>)\n"
     ]
    },
    {
     "name": "stderr",
     "output_type": "stream",
     "text": [
      "\r",
      " 62%|█████████████████████████████████████████████████▊                              | 140/225 [01:07<00:37,  2.25it/s]"
     ]
    },
    {
     "name": "stdout",
     "output_type": "stream",
     "text": [
      "13900  th batch loss :  tensor(0.2328, grad_fn=<MseLossBackward>)\n"
     ]
    },
    {
     "name": "stderr",
     "output_type": "stream",
     "text": [
      "\r",
      " 63%|██████████████████████████████████████████████████▏                             | 141/225 [01:08<00:37,  2.22it/s]"
     ]
    },
    {
     "name": "stdout",
     "output_type": "stream",
     "text": [
      "14000  th batch loss :  tensor(0.2282, grad_fn=<MseLossBackward>)\n"
     ]
    },
    {
     "name": "stderr",
     "output_type": "stream",
     "text": [
      "\r",
      " 63%|██████████████████████████████████████████████████▍                             | 142/225 [01:08<00:41,  1.98it/s]"
     ]
    },
    {
     "name": "stdout",
     "output_type": "stream",
     "text": [
      "14100  th batch loss :  tensor(0.2428, grad_fn=<MseLossBackward>)\n"
     ]
    },
    {
     "name": "stderr",
     "output_type": "stream",
     "text": [
      "\r",
      " 64%|██████████████████████████████████████████████████▊                             | 143/225 [01:09<00:39,  2.06it/s]"
     ]
    },
    {
     "name": "stdout",
     "output_type": "stream",
     "text": [
      "14200  th batch loss :  tensor(0.2330, grad_fn=<MseLossBackward>)\n"
     ]
    },
    {
     "name": "stderr",
     "output_type": "stream",
     "text": [
      "\r",
      " 64%|███████████████████████████████████████████████████▏                            | 144/225 [01:09<00:40,  2.01it/s]"
     ]
    },
    {
     "name": "stdout",
     "output_type": "stream",
     "text": [
      "14300  th batch loss :  tensor(0.2478, grad_fn=<MseLossBackward>)\n"
     ]
    },
    {
     "name": "stderr",
     "output_type": "stream",
     "text": [
      "\r",
      " 64%|███████████████████████████████████████████████████▌                            | 145/225 [01:10<00:39,  2.02it/s]"
     ]
    },
    {
     "name": "stdout",
     "output_type": "stream",
     "text": [
      "14400  th batch loss :  tensor(0.2329, grad_fn=<MseLossBackward>)\n"
     ]
    },
    {
     "name": "stderr",
     "output_type": "stream",
     "text": [
      "\r",
      " 65%|███████████████████████████████████████████████████▉                            | 146/225 [01:10<00:38,  2.05it/s]"
     ]
    },
    {
     "name": "stdout",
     "output_type": "stream",
     "text": [
      "14500  th batch loss :  tensor(0.2315, grad_fn=<MseLossBackward>)\n"
     ]
    },
    {
     "name": "stderr",
     "output_type": "stream",
     "text": [
      "\r",
      " 65%|████████████████████████████████████████████████████▎                           | 147/225 [01:11<00:37,  2.09it/s]"
     ]
    },
    {
     "name": "stdout",
     "output_type": "stream",
     "text": [
      "14600  th batch loss :  tensor(0.2364, grad_fn=<MseLossBackward>)\n"
     ]
    },
    {
     "name": "stderr",
     "output_type": "stream",
     "text": [
      "\r",
      " 66%|████████████████████████████████████████████████████▌                           | 148/225 [01:11<00:36,  2.13it/s]"
     ]
    },
    {
     "name": "stdout",
     "output_type": "stream",
     "text": [
      "14700  th batch loss :  tensor(0.2278, grad_fn=<MseLossBackward>)\n"
     ]
    },
    {
     "name": "stderr",
     "output_type": "stream",
     "text": [
      "\r",
      " 66%|████████████████████████████████████████████████████▉                           | 149/225 [01:11<00:36,  2.11it/s]"
     ]
    },
    {
     "name": "stdout",
     "output_type": "stream",
     "text": [
      "14800  th batch loss :  tensor(0.2408, grad_fn=<MseLossBackward>)\n"
     ]
    },
    {
     "name": "stderr",
     "output_type": "stream",
     "text": [
      "\r",
      " 67%|█████████████████████████████████████████████████████▎                          | 150/225 [01:12<00:35,  2.14it/s]"
     ]
    },
    {
     "name": "stdout",
     "output_type": "stream",
     "text": [
      "14900  th batch loss :  tensor(0.2428, grad_fn=<MseLossBackward>)\n"
     ]
    },
    {
     "name": "stderr",
     "output_type": "stream",
     "text": [
      "\r",
      " 67%|█████████████████████████████████████████████████████▋                          | 151/225 [01:12<00:34,  2.16it/s]"
     ]
    },
    {
     "name": "stdout",
     "output_type": "stream",
     "text": [
      "15000  th batch loss :  tensor(0.2442, grad_fn=<MseLossBackward>)\n"
     ]
    },
    {
     "name": "stderr",
     "output_type": "stream",
     "text": [
      "\r",
      " 68%|██████████████████████████████████████████████████████                          | 152/225 [01:13<00:33,  2.18it/s]"
     ]
    },
    {
     "name": "stdout",
     "output_type": "stream",
     "text": [
      "15100  th batch loss :  tensor(0.2425, grad_fn=<MseLossBackward>)\n"
     ]
    },
    {
     "name": "stderr",
     "output_type": "stream",
     "text": [
      "\r",
      " 68%|██████████████████████████████████████████████████████▍                         | 153/225 [01:13<00:32,  2.19it/s]"
     ]
    },
    {
     "name": "stdout",
     "output_type": "stream",
     "text": [
      "15200  th batch loss :  tensor(0.2308, grad_fn=<MseLossBackward>)\n"
     ]
    },
    {
     "name": "stderr",
     "output_type": "stream",
     "text": [
      "\r",
      " 68%|██████████████████████████████████████████████████████▊                         | 154/225 [01:14<00:32,  2.19it/s]"
     ]
    },
    {
     "name": "stdout",
     "output_type": "stream",
     "text": [
      "15300  th batch loss :  tensor(0.2297, grad_fn=<MseLossBackward>)\n"
     ]
    },
    {
     "name": "stderr",
     "output_type": "stream",
     "text": [
      "\r",
      " 69%|███████████████████████████████████████████████████████                         | 155/225 [01:14<00:31,  2.22it/s]"
     ]
    },
    {
     "name": "stdout",
     "output_type": "stream",
     "text": [
      "15400  th batch loss :  tensor(0.2266, grad_fn=<MseLossBackward>)\n"
     ]
    },
    {
     "name": "stderr",
     "output_type": "stream",
     "text": [
      "\r",
      " 69%|███████████████████████████████████████████████████████▍                        | 156/225 [01:15<00:31,  2.21it/s]"
     ]
    },
    {
     "name": "stdout",
     "output_type": "stream",
     "text": [
      "15500  th batch loss :  tensor(0.2481, grad_fn=<MseLossBackward>)\n"
     ]
    },
    {
     "name": "stderr",
     "output_type": "stream",
     "text": [
      "\r",
      " 70%|███████████████████████████████████████████████████████▊                        | 157/225 [01:15<00:30,  2.22it/s]"
     ]
    },
    {
     "name": "stdout",
     "output_type": "stream",
     "text": [
      "15600  th batch loss :  tensor(0.2366, grad_fn=<MseLossBackward>)\n"
     ]
    },
    {
     "name": "stderr",
     "output_type": "stream",
     "text": [
      "\r",
      " 70%|████████████████████████████████████████████████████████▏                       | 158/225 [01:16<00:30,  2.23it/s]"
     ]
    },
    {
     "name": "stdout",
     "output_type": "stream",
     "text": [
      "15700  th batch loss :  tensor(0.2210, grad_fn=<MseLossBackward>)\n"
     ]
    },
    {
     "name": "stderr",
     "output_type": "stream",
     "text": [
      "\r",
      " 71%|████████████████████████████████████████████████████████▌                       | 159/225 [01:16<00:29,  2.22it/s]"
     ]
    },
    {
     "name": "stdout",
     "output_type": "stream",
     "text": [
      "15800  th batch loss :  tensor(0.2164, grad_fn=<MseLossBackward>)\n"
     ]
    },
    {
     "name": "stderr",
     "output_type": "stream",
     "text": [
      "\r",
      " 71%|████████████████████████████████████████████████████████▉                       | 160/225 [01:16<00:29,  2.18it/s]"
     ]
    },
    {
     "name": "stdout",
     "output_type": "stream",
     "text": [
      "15900  th batch loss :  tensor(0.2239, grad_fn=<MseLossBackward>)\n"
     ]
    },
    {
     "name": "stderr",
     "output_type": "stream",
     "text": [
      "\r",
      " 72%|█████████████████████████████████████████████████████████▏                      | 161/225 [01:17<00:29,  2.20it/s]"
     ]
    },
    {
     "name": "stdout",
     "output_type": "stream",
     "text": [
      "16000  th batch loss :  tensor(0.2189, grad_fn=<MseLossBackward>)\n"
     ]
    },
    {
     "name": "stderr",
     "output_type": "stream",
     "text": [
      "\r",
      " 72%|█████████████████████████████████████████████████████████▌                      | 162/225 [01:17<00:28,  2.20it/s]"
     ]
    },
    {
     "name": "stdout",
     "output_type": "stream",
     "text": [
      "16100  th batch loss :  tensor(0.2525, grad_fn=<MseLossBackward>)\n"
     ]
    },
    {
     "name": "stderr",
     "output_type": "stream",
     "text": [
      "\r",
      " 72%|█████████████████████████████████████████████████████████▉                      | 163/225 [01:18<00:28,  2.18it/s]"
     ]
    },
    {
     "name": "stdout",
     "output_type": "stream",
     "text": [
      "16200  th batch loss :  tensor(0.2272, grad_fn=<MseLossBackward>)\n"
     ]
    },
    {
     "name": "stderr",
     "output_type": "stream",
     "text": [
      "\r",
      " 73%|██████████████████████████████████████████████████████████▎                     | 164/225 [01:18<00:28,  2.17it/s]"
     ]
    },
    {
     "name": "stdout",
     "output_type": "stream",
     "text": [
      "16300  th batch loss :  tensor(0.2077, grad_fn=<MseLossBackward>)\n"
     ]
    },
    {
     "name": "stderr",
     "output_type": "stream",
     "text": [
      "\r",
      " 73%|██████████████████████████████████████████████████████████▋                     | 165/225 [01:19<00:28,  2.11it/s]"
     ]
    },
    {
     "name": "stdout",
     "output_type": "stream",
     "text": [
      "16400  th batch loss :  tensor(0.2345, grad_fn=<MseLossBackward>)\n"
     ]
    },
    {
     "name": "stderr",
     "output_type": "stream",
     "text": [
      "\r",
      " 74%|███████████████████████████████████████████████████████████                     | 166/225 [01:19<00:27,  2.13it/s]"
     ]
    },
    {
     "name": "stdout",
     "output_type": "stream",
     "text": [
      "16500  th batch loss :  tensor(0.2212, grad_fn=<MseLossBackward>)\n"
     ]
    },
    {
     "name": "stderr",
     "output_type": "stream",
     "text": [
      "\r",
      " 74%|███████████████████████████████████████████████████████████▍                    | 167/225 [01:20<00:27,  2.15it/s]"
     ]
    },
    {
     "name": "stdout",
     "output_type": "stream",
     "text": [
      "16600  th batch loss :  tensor(0.2399, grad_fn=<MseLossBackward>)\n"
     ]
    },
    {
     "name": "stderr",
     "output_type": "stream",
     "text": [
      "\r",
      " 75%|███████████████████████████████████████████████████████████▋                    | 168/225 [01:20<00:26,  2.13it/s]"
     ]
    },
    {
     "name": "stdout",
     "output_type": "stream",
     "text": [
      "16700  th batch loss :  tensor(0.2287, grad_fn=<MseLossBackward>)\n"
     ]
    },
    {
     "name": "stderr",
     "output_type": "stream",
     "text": [
      "\r",
      " 75%|████████████████████████████████████████████████████████████                    | 169/225 [01:21<00:27,  2.03it/s]"
     ]
    },
    {
     "name": "stdout",
     "output_type": "stream",
     "text": [
      "16800  th batch loss :  tensor(0.2222, grad_fn=<MseLossBackward>)\n"
     ]
    },
    {
     "name": "stderr",
     "output_type": "stream",
     "text": [
      "\r",
      " 76%|████████████████████████████████████████████████████████████▍                   | 170/225 [01:22<00:31,  1.73it/s]"
     ]
    },
    {
     "name": "stdout",
     "output_type": "stream",
     "text": [
      "16900  th batch loss :  tensor(0.2340, grad_fn=<MseLossBackward>)\n"
     ]
    },
    {
     "name": "stderr",
     "output_type": "stream",
     "text": [
      "\r",
      " 76%|████████████████████████████████████████████████████████████▊                   | 171/225 [01:22<00:29,  1.84it/s]"
     ]
    },
    {
     "name": "stdout",
     "output_type": "stream",
     "text": [
      "17000  th batch loss :  tensor(0.2343, grad_fn=<MseLossBackward>)\n"
     ]
    },
    {
     "name": "stderr",
     "output_type": "stream",
     "text": [
      "\r",
      " 76%|█████████████████████████████████████████████████████████████▏                  | 172/225 [01:23<00:29,  1.82it/s]"
     ]
    },
    {
     "name": "stdout",
     "output_type": "stream",
     "text": [
      "17100  th batch loss :  tensor(0.2278, grad_fn=<MseLossBackward>)\n"
     ]
    },
    {
     "name": "stderr",
     "output_type": "stream",
     "text": [
      "\r",
      " 77%|█████████████████████████████████████████████████████████████▌                  | 173/225 [01:23<00:27,  1.91it/s]"
     ]
    },
    {
     "name": "stdout",
     "output_type": "stream",
     "text": [
      "17200  th batch loss :  tensor(0.2273, grad_fn=<MseLossBackward>)\n"
     ]
    },
    {
     "name": "stderr",
     "output_type": "stream",
     "text": [
      "\r",
      " 77%|█████████████████████████████████████████████████████████████▊                  | 174/225 [01:24<00:26,  1.96it/s]"
     ]
    },
    {
     "name": "stdout",
     "output_type": "stream",
     "text": [
      "17300  th batch loss :  tensor(0.2275, grad_fn=<MseLossBackward>)\n"
     ]
    },
    {
     "name": "stderr",
     "output_type": "stream",
     "text": [
      "\r",
      " 78%|██████████████████████████████████████████████████████████████▏                 | 175/225 [01:24<00:24,  2.02it/s]"
     ]
    },
    {
     "name": "stdout",
     "output_type": "stream",
     "text": [
      "17400  th batch loss :  tensor(0.2308, grad_fn=<MseLossBackward>)\n"
     ]
    },
    {
     "name": "stderr",
     "output_type": "stream",
     "text": [
      "\r",
      " 78%|██████████████████████████████████████████████████████████████▌                 | 176/225 [01:24<00:23,  2.06it/s]"
     ]
    },
    {
     "name": "stdout",
     "output_type": "stream",
     "text": [
      "17500  th batch loss :  tensor(0.2294, grad_fn=<MseLossBackward>)\n"
     ]
    },
    {
     "name": "stderr",
     "output_type": "stream",
     "text": [
      "\r",
      " 79%|██████████████████████████████████████████████████████████████▉                 | 177/225 [01:25<00:22,  2.12it/s]"
     ]
    },
    {
     "name": "stdout",
     "output_type": "stream",
     "text": [
      "17600  th batch loss :  tensor(0.2122, grad_fn=<MseLossBackward>)\n"
     ]
    },
    {
     "name": "stderr",
     "output_type": "stream",
     "text": [
      "\r",
      " 79%|███████████████████████████████████████████████████████████████▎                | 178/225 [01:25<00:22,  2.09it/s]"
     ]
    },
    {
     "name": "stdout",
     "output_type": "stream",
     "text": [
      "17700  th batch loss :  tensor(0.2496, grad_fn=<MseLossBackward>)\n"
     ]
    },
    {
     "name": "stderr",
     "output_type": "stream",
     "text": [
      "\r",
      " 80%|███████████████████████████████████████████████████████████████▋                | 179/225 [01:26<00:21,  2.12it/s]"
     ]
    },
    {
     "name": "stdout",
     "output_type": "stream",
     "text": [
      "17800  th batch loss :  tensor(0.2409, grad_fn=<MseLossBackward>)\n"
     ]
    },
    {
     "name": "stderr",
     "output_type": "stream",
     "text": [
      "\r",
      " 80%|████████████████████████████████████████████████████████████████                | 180/225 [01:26<00:21,  2.05it/s]"
     ]
    },
    {
     "name": "stdout",
     "output_type": "stream",
     "text": [
      "17900  th batch loss :  tensor(0.2284, grad_fn=<MseLossBackward>)\n"
     ]
    },
    {
     "name": "stderr",
     "output_type": "stream",
     "text": [
      "\r",
      " 80%|████████████████████████████████████████████████████████████████▎               | 181/225 [01:27<00:20,  2.12it/s]"
     ]
    },
    {
     "name": "stdout",
     "output_type": "stream",
     "text": [
      "18000  th batch loss :  tensor(0.2129, grad_fn=<MseLossBackward>)\n"
     ]
    },
    {
     "name": "stderr",
     "output_type": "stream",
     "text": [
      "\r",
      " 81%|████████████████████████████████████████████████████████████████▋               | 182/225 [01:27<00:20,  2.11it/s]"
     ]
    },
    {
     "name": "stdout",
     "output_type": "stream",
     "text": [
      "18100  th batch loss :  tensor(0.2202, grad_fn=<MseLossBackward>)\n"
     ]
    },
    {
     "name": "stderr",
     "output_type": "stream",
     "text": [
      "\r",
      " 81%|█████████████████████████████████████████████████████████████████               | 183/225 [01:28<00:20,  2.05it/s]"
     ]
    },
    {
     "name": "stdout",
     "output_type": "stream",
     "text": [
      "18200  th batch loss :  tensor(0.2146, grad_fn=<MseLossBackward>)\n"
     ]
    },
    {
     "name": "stderr",
     "output_type": "stream",
     "text": [
      "\r",
      " 82%|█████████████████████████████████████████████████████████████████▍              | 184/225 [01:28<00:20,  1.97it/s]"
     ]
    },
    {
     "name": "stdout",
     "output_type": "stream",
     "text": [
      "18300  th batch loss :  tensor(0.2187, grad_fn=<MseLossBackward>)\n"
     ]
    },
    {
     "name": "stderr",
     "output_type": "stream",
     "text": [
      "\r",
      " 82%|█████████████████████████████████████████████████████████████████▊              | 185/225 [01:29<00:20,  1.99it/s]"
     ]
    },
    {
     "name": "stdout",
     "output_type": "stream",
     "text": [
      "18400  th batch loss :  tensor(0.2080, grad_fn=<MseLossBackward>)\n"
     ]
    },
    {
     "name": "stderr",
     "output_type": "stream",
     "text": [
      "\r",
      " 83%|██████████████████████████████████████████████████████████████████▏             | 186/225 [01:29<00:19,  1.96it/s]"
     ]
    },
    {
     "name": "stdout",
     "output_type": "stream",
     "text": [
      "18500  th batch loss :  tensor(0.2154, grad_fn=<MseLossBackward>)\n"
     ]
    },
    {
     "name": "stderr",
     "output_type": "stream",
     "text": [
      "\r",
      " 83%|██████████████████████████████████████████████████████████████████▍             | 187/225 [01:30<00:20,  1.87it/s]"
     ]
    },
    {
     "name": "stdout",
     "output_type": "stream",
     "text": [
      "18600  th batch loss :  tensor(0.2255, grad_fn=<MseLossBackward>)\n"
     ]
    },
    {
     "name": "stderr",
     "output_type": "stream",
     "text": [
      "\r",
      " 84%|██████████████████████████████████████████████████████████████████▊             | 188/225 [01:30<00:19,  1.91it/s]"
     ]
    },
    {
     "name": "stdout",
     "output_type": "stream",
     "text": [
      "18700  th batch loss :  tensor(0.2199, grad_fn=<MseLossBackward>)\n"
     ]
    },
    {
     "name": "stderr",
     "output_type": "stream",
     "text": [
      "\r",
      " 84%|███████████████████████████████████████████████████████████████████▏            | 189/225 [01:31<00:18,  1.95it/s]"
     ]
    },
    {
     "name": "stdout",
     "output_type": "stream",
     "text": [
      "18800  th batch loss :  tensor(0.2087, grad_fn=<MseLossBackward>)\n"
     ]
    },
    {
     "name": "stderr",
     "output_type": "stream",
     "text": [
      "\r",
      " 84%|███████████████████████████████████████████████████████████████████▌            | 190/225 [01:32<00:19,  1.78it/s]"
     ]
    },
    {
     "name": "stdout",
     "output_type": "stream",
     "text": [
      "18900  th batch loss :  tensor(0.2064, grad_fn=<MseLossBackward>)\n"
     ]
    },
    {
     "name": "stderr",
     "output_type": "stream",
     "text": [
      "\r",
      " 85%|███████████████████████████████████████████████████████████████████▉            | 191/225 [01:32<00:18,  1.84it/s]"
     ]
    },
    {
     "name": "stdout",
     "output_type": "stream",
     "text": [
      "19000  th batch loss :  tensor(0.2272, grad_fn=<MseLossBackward>)\n"
     ]
    },
    {
     "name": "stderr",
     "output_type": "stream",
     "text": [
      "\r",
      " 85%|████████████████████████████████████████████████████████████████████▎           | 192/225 [01:33<00:17,  1.89it/s]"
     ]
    },
    {
     "name": "stdout",
     "output_type": "stream",
     "text": [
      "19100  th batch loss :  tensor(0.2335, grad_fn=<MseLossBackward>)\n"
     ]
    },
    {
     "name": "stderr",
     "output_type": "stream",
     "text": [
      "\r",
      " 86%|████████████████████████████████████████████████████████████████████▌           | 193/225 [01:33<00:17,  1.86it/s]"
     ]
    },
    {
     "name": "stdout",
     "output_type": "stream",
     "text": [
      "19200  th batch loss :  tensor(0.1844, grad_fn=<MseLossBackward>)\n"
     ]
    },
    {
     "name": "stderr",
     "output_type": "stream",
     "text": [
      "\r",
      " 86%|████████████████████████████████████████████████████████████████████▉           | 194/225 [01:34<00:16,  1.92it/s]"
     ]
    },
    {
     "name": "stdout",
     "output_type": "stream",
     "text": [
      "19300  th batch loss :  tensor(0.2127, grad_fn=<MseLossBackward>)\n"
     ]
    },
    {
     "name": "stderr",
     "output_type": "stream",
     "text": [
      "\r",
      " 87%|█████████████████████████████████████████████████████████████████████▎          | 195/225 [01:34<00:15,  1.99it/s]"
     ]
    },
    {
     "name": "stdout",
     "output_type": "stream",
     "text": [
      "19400  th batch loss :  tensor(0.2198, grad_fn=<MseLossBackward>)\n"
     ]
    },
    {
     "name": "stderr",
     "output_type": "stream",
     "text": [
      "\r",
      " 87%|█████████████████████████████████████████████████████████████████████▋          | 196/225 [01:35<00:14,  2.04it/s]"
     ]
    },
    {
     "name": "stdout",
     "output_type": "stream",
     "text": [
      "19500  th batch loss :  tensor(0.2305, grad_fn=<MseLossBackward>)\n"
     ]
    },
    {
     "name": "stderr",
     "output_type": "stream",
     "text": [
      "\r",
      " 88%|██████████████████████████████████████████████████████████████████████          | 197/225 [01:35<00:13,  2.03it/s]"
     ]
    },
    {
     "name": "stdout",
     "output_type": "stream",
     "text": [
      "19600  th batch loss :  tensor(0.1853, grad_fn=<MseLossBackward>)\n"
     ]
    },
    {
     "name": "stderr",
     "output_type": "stream",
     "text": [
      "\r",
      " 88%|██████████████████████████████████████████████████████████████████████▍         | 198/225 [01:36<00:14,  1.92it/s]"
     ]
    },
    {
     "name": "stdout",
     "output_type": "stream",
     "text": [
      "19700  th batch loss :  tensor(0.2207, grad_fn=<MseLossBackward>)\n"
     ]
    },
    {
     "name": "stderr",
     "output_type": "stream",
     "text": [
      "\r",
      " 88%|██████████████████████████████████████████████████████████████████████▊         | 199/225 [01:36<00:14,  1.82it/s]"
     ]
    },
    {
     "name": "stdout",
     "output_type": "stream",
     "text": [
      "19800  th batch loss :  tensor(0.2469, grad_fn=<MseLossBackward>)\n"
     ]
    },
    {
     "name": "stderr",
     "output_type": "stream",
     "text": [
      "\r",
      " 89%|███████████████████████████████████████████████████████████████████████         | 200/225 [01:37<00:12,  1.92it/s]"
     ]
    },
    {
     "name": "stdout",
     "output_type": "stream",
     "text": [
      "19900  th batch loss :  tensor(0.1873, grad_fn=<MseLossBackward>)\n"
     ]
    },
    {
     "name": "stderr",
     "output_type": "stream",
     "text": [
      "\r",
      " 89%|███████████████████████████████████████████████████████████████████████▍        | 201/225 [01:37<00:11,  2.02it/s]"
     ]
    },
    {
     "name": "stdout",
     "output_type": "stream",
     "text": [
      "20000  th batch loss :  tensor(0.2115, grad_fn=<MseLossBackward>)\n"
     ]
    },
    {
     "name": "stderr",
     "output_type": "stream",
     "text": [
      "\r",
      " 90%|███████████████████████████████████████████████████████████████████████▊        | 202/225 [01:38<00:11,  1.92it/s]"
     ]
    },
    {
     "name": "stdout",
     "output_type": "stream",
     "text": [
      "20100  th batch loss :  tensor(0.2213, grad_fn=<MseLossBackward>)\n"
     ]
    },
    {
     "name": "stderr",
     "output_type": "stream",
     "text": [
      "\r",
      " 90%|████████████████████████████████████████████████████████████████████████▏       | 203/225 [01:38<00:11,  1.92it/s]"
     ]
    },
    {
     "name": "stdout",
     "output_type": "stream",
     "text": [
      "20200  th batch loss :  tensor(0.2187, grad_fn=<MseLossBackward>)\n"
     ]
    },
    {
     "name": "stderr",
     "output_type": "stream",
     "text": [
      "\r",
      " 91%|████████████████████████████████████████████████████████████████████████▌       | 204/225 [01:39<00:10,  1.92it/s]"
     ]
    },
    {
     "name": "stdout",
     "output_type": "stream",
     "text": [
      "20300  th batch loss :  tensor(0.2115, grad_fn=<MseLossBackward>)\n"
     ]
    },
    {
     "name": "stderr",
     "output_type": "stream",
     "text": [
      "\r",
      " 91%|████████████████████████████████████████████████████████████████████████▉       | 205/225 [01:39<00:10,  1.91it/s]"
     ]
    },
    {
     "name": "stdout",
     "output_type": "stream",
     "text": [
      "20400  th batch loss :  tensor(0.2235, grad_fn=<MseLossBackward>)\n"
     ]
    },
    {
     "name": "stderr",
     "output_type": "stream",
     "text": [
      "\r",
      " 92%|█████████████████████████████████████████████████████████████████████████▏      | 206/225 [01:40<00:09,  1.98it/s]"
     ]
    },
    {
     "name": "stdout",
     "output_type": "stream",
     "text": [
      "20500  th batch loss :  tensor(0.2147, grad_fn=<MseLossBackward>)\n"
     ]
    },
    {
     "name": "stderr",
     "output_type": "stream",
     "text": [
      "\r",
      " 92%|█████████████████████████████████████████████████████████████████████████▌      | 207/225 [01:40<00:09,  1.98it/s]"
     ]
    },
    {
     "name": "stdout",
     "output_type": "stream",
     "text": [
      "20600  th batch loss :  tensor(0.2220, grad_fn=<MseLossBackward>)\n"
     ]
    },
    {
     "name": "stderr",
     "output_type": "stream",
     "text": [
      "\r",
      " 92%|█████████████████████████████████████████████████████████████████████████▉      | 208/225 [01:41<00:08,  2.04it/s]"
     ]
    },
    {
     "name": "stdout",
     "output_type": "stream",
     "text": [
      "20700  th batch loss :  tensor(0.2332, grad_fn=<MseLossBackward>)\n"
     ]
    },
    {
     "name": "stderr",
     "output_type": "stream",
     "text": [
      "\r",
      " 93%|██████████████████████████████████████████████████████████████████████████▎     | 209/225 [01:41<00:07,  2.05it/s]"
     ]
    },
    {
     "name": "stdout",
     "output_type": "stream",
     "text": [
      "20800  th batch loss :  tensor(0.2143, grad_fn=<MseLossBackward>)\n"
     ]
    },
    {
     "name": "stderr",
     "output_type": "stream",
     "text": [
      "\r",
      " 93%|██████████████████████████████████████████████████████████████████████████▋     | 210/225 [01:42<00:07,  2.04it/s]"
     ]
    },
    {
     "name": "stdout",
     "output_type": "stream",
     "text": [
      "20900  th batch loss :  tensor(0.2131, grad_fn=<MseLossBackward>)\n"
     ]
    },
    {
     "name": "stderr",
     "output_type": "stream",
     "text": [
      "\r",
      " 94%|███████████████████████████████████████████████████████████████████████████     | 211/225 [01:42<00:06,  2.06it/s]"
     ]
    },
    {
     "name": "stdout",
     "output_type": "stream",
     "text": [
      "21000  th batch loss :  tensor(0.2195, grad_fn=<MseLossBackward>)\n"
     ]
    },
    {
     "name": "stderr",
     "output_type": "stream",
     "text": [
      "\r",
      " 94%|███████████████████████████████████████████████████████████████████████████▍    | 212/225 [01:43<00:06,  2.10it/s]"
     ]
    },
    {
     "name": "stdout",
     "output_type": "stream",
     "text": [
      "21100  th batch loss :  tensor(0.2221, grad_fn=<MseLossBackward>)\n"
     ]
    },
    {
     "name": "stderr",
     "output_type": "stream",
     "text": [
      "\r",
      " 95%|███████████████████████████████████████████████████████████████████████████▋    | 213/225 [01:43<00:05,  2.11it/s]"
     ]
    },
    {
     "name": "stdout",
     "output_type": "stream",
     "text": [
      "21200  th batch loss :  tensor(0.2450, grad_fn=<MseLossBackward>)\n"
     ]
    },
    {
     "name": "stderr",
     "output_type": "stream",
     "text": [
      "\r",
      " 95%|████████████████████████████████████████████████████████████████████████████    | 214/225 [01:44<00:05,  2.14it/s]"
     ]
    },
    {
     "name": "stdout",
     "output_type": "stream",
     "text": [
      "21300  th batch loss :  tensor(0.1957, grad_fn=<MseLossBackward>)\n"
     ]
    },
    {
     "name": "stderr",
     "output_type": "stream",
     "text": [
      "\r",
      " 96%|████████████████████████████████████████████████████████████████████████████▍   | 215/225 [01:44<00:04,  2.17it/s]"
     ]
    },
    {
     "name": "stdout",
     "output_type": "stream",
     "text": [
      "21400  th batch loss :  tensor(0.2252, grad_fn=<MseLossBackward>)\n"
     ]
    },
    {
     "name": "stderr",
     "output_type": "stream",
     "text": [
      "\r",
      " 96%|████████████████████████████████████████████████████████████████████████████▊   | 216/225 [01:44<00:04,  2.19it/s]"
     ]
    },
    {
     "name": "stdout",
     "output_type": "stream",
     "text": [
      "21500  th batch loss :  tensor(0.2282, grad_fn=<MseLossBackward>)\n"
     ]
    },
    {
     "name": "stderr",
     "output_type": "stream",
     "text": [
      "\r",
      " 96%|█████████████████████████████████████████████████████████████████████████████▏  | 217/225 [01:45<00:03,  2.19it/s]"
     ]
    },
    {
     "name": "stdout",
     "output_type": "stream",
     "text": [
      "21600  th batch loss :  tensor(0.2152, grad_fn=<MseLossBackward>)\n"
     ]
    },
    {
     "name": "stderr",
     "output_type": "stream",
     "text": [
      "\r",
      " 97%|█████████████████████████████████████████████████████████████████████████████▌  | 218/225 [01:45<00:03,  2.20it/s]"
     ]
    },
    {
     "name": "stdout",
     "output_type": "stream",
     "text": [
      "21700  th batch loss :  tensor(0.2294, grad_fn=<MseLossBackward>)\n"
     ]
    },
    {
     "name": "stderr",
     "output_type": "stream",
     "text": [
      "\r",
      " 97%|█████████████████████████████████████████████████████████████████████████████▊  | 219/225 [01:46<00:02,  2.18it/s]"
     ]
    },
    {
     "name": "stdout",
     "output_type": "stream",
     "text": [
      "21800  th batch loss :  tensor(0.2096, grad_fn=<MseLossBackward>)\n"
     ]
    },
    {
     "name": "stderr",
     "output_type": "stream",
     "text": [
      "\r",
      " 98%|██████████████████████████████████████████████████████████████████████████████▏ | 220/225 [01:46<00:02,  2.18it/s]"
     ]
    },
    {
     "name": "stdout",
     "output_type": "stream",
     "text": [
      "21900  th batch loss :  tensor(0.2142, grad_fn=<MseLossBackward>)\n"
     ]
    },
    {
     "name": "stderr",
     "output_type": "stream",
     "text": [
      "\r",
      " 98%|██████████████████████████████████████████████████████████████████████████████▌ | 221/225 [01:47<00:01,  2.13it/s]"
     ]
    },
    {
     "name": "stdout",
     "output_type": "stream",
     "text": [
      "22000  th batch loss :  tensor(0.2313, grad_fn=<MseLossBackward>)\n"
     ]
    },
    {
     "name": "stderr",
     "output_type": "stream",
     "text": [
      "\r",
      " 99%|██████████████████████████████████████████████████████████████████████████████▉ | 222/225 [01:47<00:01,  2.11it/s]"
     ]
    },
    {
     "name": "stdout",
     "output_type": "stream",
     "text": [
      "22100  th batch loss :  tensor(0.2271, grad_fn=<MseLossBackward>)\n"
     ]
    },
    {
     "name": "stderr",
     "output_type": "stream",
     "text": [
      "\r",
      " 99%|███████████████████████████████████████████████████████████████████████████████▎| 223/225 [01:48<00:00,  2.11it/s]"
     ]
    },
    {
     "name": "stdout",
     "output_type": "stream",
     "text": [
      "22200  th batch loss :  tensor(0.2231, grad_fn=<MseLossBackward>)\n"
     ]
    },
    {
     "name": "stderr",
     "output_type": "stream",
     "text": [
      "\r",
      "100%|███████████████████████████████████████████████████████████████████████████████▋| 224/225 [01:48<00:00,  2.02it/s]"
     ]
    },
    {
     "name": "stdout",
     "output_type": "stream",
     "text": [
      "22300  th batch loss :  tensor(0.2225, grad_fn=<MseLossBackward>)\n"
     ]
    },
    {
     "name": "stderr",
     "output_type": "stream",
     "text": [
      "100%|████████████████████████████████████████████████████████████████████████████████| 225/225 [01:48<00:00,  2.06it/s]"
     ]
    },
    {
     "name": "stdout",
     "output_type": "stream",
     "text": [
      "22400  th batch loss :  tensor(0.2438, grad_fn=<MseLossBackward>)\n"
     ]
    },
    {
     "name": "stderr",
     "output_type": "stream",
     "text": [
      "\n"
     ]
    }
   ],
   "source": [
    "batch_size = 100\n",
    "EPOCHS = 1\n",
    "\n",
    "for epochs in range(EPOCHS):\n",
    "    for i in tqdm(range(0, len(train_x), batch_size)):\n",
    "        batch_x = train_x[i:i+batch_size].view(-1, 1,48,48)\n",
    "        batch_y = train_y[i:i+batch_size]\n",
    "        \n",
    "        net.zero_grad()\n",
    "        outputs = net(batch_x)\n",
    "        loss = loss_function(outputs, batch_y)\n",
    "        loss.backward()\n",
    "        optimizer.step()\n",
    "        \n",
    "        if i%10 == 0:\n",
    "            print(i, \" th batch loss : \", loss)\n",
    "        \n",
    "        \n",
    "        "
   ]
  },
  {
   "cell_type": "code",
   "execution_count": 12,
   "metadata": {},
   "outputs": [
    {
     "name": "stdout",
     "output_type": "stream",
     "text": [
      "tensor([[0.4215, 0.5785]])\n",
      "tensor([[0.5181, 0.4819]])\n",
      "tensor([[0.2832, 0.7168]])\n",
      "tensor([[0.5287, 0.4713]])\n",
      "tensor([[0.7200, 0.2800]])\n",
      "tensor([[0.3577, 0.6423]])\n",
      "tensor([[0.4767, 0.5233]])\n",
      "tensor([[0.4131, 0.5869]])\n",
      "tensor([[0.4190, 0.5810]])\n",
      "tensor([[0.5396, 0.4604]])\n",
      "tensor([[0.3961, 0.6039]])\n",
      "tensor([[0.2035, 0.7965]])\n",
      "tensor([[0.3015, 0.6985]])\n",
      "tensor([[0.2632, 0.7368]])\n",
      "tensor([[0.2628, 0.7372]])\n",
      "tensor([[0.2436, 0.7564]])\n",
      "tensor([[0.2641, 0.7359]])\n",
      "tensor([[0.3977, 0.6023]])\n",
      "tensor([[0.3753, 0.6247]])\n",
      "tensor([[0.3225, 0.6775]])\n",
      "tensor([[0.5242, 0.4758]])\n",
      "tensor([[0.3733, 0.6267]])\n",
      "tensor([[0.4740, 0.5260]])\n",
      "tensor([[0.2677, 0.7323]])\n",
      "tensor([[0.5018, 0.4982]])\n",
      "tensor([[0.2807, 0.7193]])\n",
      "tensor([[0.4403, 0.5597]])\n",
      "tensor([[0.5876, 0.4124]])\n",
      "tensor([[0.4519, 0.5481]])\n",
      "tensor([[0.2986, 0.7014]])\n",
      "tensor([[0.3067, 0.6933]])\n",
      "tensor([[0.2913, 0.7087]])\n",
      "tensor([[0.6429, 0.3571]])\n",
      "tensor([[0.5266, 0.4734]])\n",
      "tensor([[0.3811, 0.6189]])\n",
      "tensor([[0.3075, 0.6925]])\n",
      "tensor([[0.6548, 0.3452]])\n",
      "tensor([[0.2960, 0.7040]])\n",
      "tensor([[0.5513, 0.4487]])\n",
      "tensor([[0.2963, 0.7037]])\n",
      "tensor([[0.5805, 0.4195]])\n",
      "tensor([[0.3196, 0.6804]])\n",
      "tensor([[0.3514, 0.6486]])\n",
      "tensor([[0.1881, 0.8119]])\n",
      "tensor([[0.5096, 0.4904]])\n",
      "tensor([[0.3180, 0.6820]])\n",
      "tensor([[0.3441, 0.6559]])\n",
      "tensor([[0.2763, 0.7237]])\n",
      "tensor([[0.2283, 0.7717]])\n",
      "tensor([[0.6382, 0.3618]])\n",
      "tensor([[0.2828, 0.7172]])\n",
      "tensor([[0.5151, 0.4849]])\n",
      "tensor([[0.2397, 0.7603]])\n",
      "tensor([[0.7601, 0.2399]])\n",
      "tensor([[0.4675, 0.5325]])\n",
      "tensor([[0.3291, 0.6709]])\n",
      "tensor([[0.2522, 0.7478]])\n",
      "tensor([[0.4579, 0.5421]])\n",
      "tensor([[0.4187, 0.5813]])\n",
      "tensor([[0.4030, 0.5970]])\n",
      "tensor([[0.3730, 0.6270]])\n",
      "tensor([[0.3548, 0.6452]])\n",
      "tensor([[0.4158, 0.5842]])\n",
      "tensor([[0.3354, 0.6646]])\n",
      "tensor([[0.2756, 0.7244]])\n",
      "tensor([[0.5735, 0.4265]])\n",
      "tensor([[0.3603, 0.6397]])\n",
      "tensor([[0.4333, 0.5667]])\n",
      "tensor([[0.6635, 0.3365]])\n",
      "tensor([[0.4025, 0.5975]])\n",
      "tensor([[0.2484, 0.7516]])\n",
      "tensor([[0.2695, 0.7305]])\n",
      "tensor([[0.2633, 0.7367]])\n",
      "tensor([[0.4399, 0.5601]])\n",
      "tensor([[0.2962, 0.7038]])\n",
      "tensor([[0.1937, 0.8063]])\n",
      "tensor([[0.4091, 0.5909]])\n",
      "tensor([[0.3611, 0.6389]])\n",
      "tensor([[0.3565, 0.6435]])\n",
      "tensor([[0.4959, 0.5041]])\n",
      "tensor([[0.4280, 0.5720]])\n",
      "tensor([[0.2977, 0.7023]])\n",
      "tensor([[0.4645, 0.5355]])\n",
      "tensor([[0.2708, 0.7292]])\n",
      "tensor([[0.3233, 0.6767]])\n",
      "tensor([[0.2705, 0.7295]])\n",
      "tensor([[0.4917, 0.5083]])\n",
      "tensor([[0.6361, 0.3639]])\n",
      "tensor([[0.2992, 0.7008]])\n",
      "tensor([[0.7385, 0.2615]])\n",
      "tensor([[0.6300, 0.3700]])\n",
      "tensor([[0.2948, 0.7052]])\n",
      "tensor([[0.2357, 0.7643]])\n",
      "tensor([[0.2526, 0.7474]])\n",
      "tensor([[0.1834, 0.8166]])\n",
      "tensor([[0.2911, 0.7089]])\n",
      "tensor([[0.4278, 0.5722]])\n",
      "tensor([[0.5907, 0.4093]])\n",
      "tensor([[0.3066, 0.6934]])\n",
      "tensor([[0.3829, 0.6171]])\n",
      "tensor([[0.4185, 0.5815]])\n",
      "tensor([[0.6181, 0.3819]])\n",
      "tensor([[0.3477, 0.6523]])\n",
      "tensor([[0.2488, 0.7512]])\n",
      "tensor([[0.3430, 0.6570]])\n",
      "tensor([[0.2988, 0.7012]])\n",
      "tensor([[0.4422, 0.5578]])\n",
      "tensor([[0.2810, 0.7190]])\n",
      "tensor([[0.2322, 0.7678]])\n",
      "tensor([[0.2464, 0.7536]])\n",
      "tensor([[0.3875, 0.6125]])\n",
      "tensor([[0.3280, 0.6720]])\n",
      "tensor([[0.4257, 0.5743]])\n",
      "tensor([[0.4617, 0.5383]])\n",
      "tensor([[0.3717, 0.6283]])\n",
      "tensor([[0.4346, 0.5654]])\n",
      "tensor([[0.5517, 0.4483]])\n",
      "tensor([[0.3775, 0.6225]])\n",
      "tensor([[0.5969, 0.4031]])\n",
      "tensor([[0.4028, 0.5972]])\n",
      "tensor([[0.4559, 0.5441]])\n",
      "tensor([[0.5081, 0.4919]])\n",
      "tensor([[0.4707, 0.5293]])\n",
      "tensor([[0.4880, 0.5120]])\n",
      "tensor([[0.5107, 0.4893]])\n",
      "tensor([[0.2349, 0.7651]])\n",
      "tensor([[0.4107, 0.5893]])\n",
      "tensor([[0.3051, 0.6949]])\n",
      "tensor([[0.2850, 0.7150]])\n",
      "tensor([[0.2877, 0.7123]])\n",
      "tensor([[0.4503, 0.5497]])\n",
      "tensor([[0.3984, 0.6016]])\n",
      "tensor([[0.4179, 0.5821]])\n",
      "tensor([[0.4580, 0.5420]])\n",
      "tensor([[0.4239, 0.5761]])\n",
      "tensor([[0.5827, 0.4173]])\n",
      "tensor([[0.3946, 0.6054]])\n",
      "tensor([[0.3267, 0.6733]])\n",
      "tensor([[0.2881, 0.7119]])\n",
      "tensor([[0.5076, 0.4924]])\n",
      "tensor([[0.4292, 0.5708]])\n",
      "tensor([[0.2331, 0.7669]])\n",
      "tensor([[0.6534, 0.3466]])\n",
      "tensor([[0.6259, 0.3741]])\n",
      "tensor([[0.5469, 0.4531]])\n",
      "tensor([[0.2500, 0.7500]])\n",
      "tensor([[0.6143, 0.3857]])\n",
      "tensor([[0.3755, 0.6245]])\n",
      "tensor([[0.1722, 0.8278]])\n",
      "tensor([[0.5970, 0.4030]])\n",
      "tensor([[0.3249, 0.6751]])\n",
      "tensor([[0.5193, 0.4807]])\n",
      "tensor([[0.5697, 0.4303]])\n",
      "tensor([[0.5679, 0.4321]])\n",
      "tensor([[0.4592, 0.5408]])\n",
      "tensor([[0.6071, 0.3929]])\n",
      "tensor([[0.3953, 0.6047]])\n",
      "tensor([[0.2203, 0.7797]])\n",
      "tensor([[0.5274, 0.4726]])\n",
      "tensor([[0.5331, 0.4669]])\n",
      "tensor([[0.4318, 0.5682]])\n",
      "tensor([[0.2824, 0.7176]])\n",
      "tensor([[0.4401, 0.5599]])\n",
      "tensor([[0.5669, 0.4331]])\n",
      "tensor([[0.3021, 0.6979]])\n",
      "tensor([[0.4817, 0.5183]])\n",
      "tensor([[0.4562, 0.5438]])\n",
      "tensor([[0.4444, 0.5556]])\n",
      "tensor([[0.2610, 0.7390]])\n",
      "tensor([[0.3289, 0.6711]])\n",
      "tensor([[0.3881, 0.6119]])\n",
      "tensor([[0.2881, 0.7119]])\n",
      "tensor([[0.5361, 0.4639]])\n",
      "tensor([[0.5513, 0.4487]])\n",
      "tensor([[0.2772, 0.7228]])\n",
      "tensor([[0.2242, 0.7758]])\n",
      "tensor([[0.2915, 0.7085]])\n",
      "tensor([[0.4181, 0.5819]])\n",
      "tensor([[0.5514, 0.4486]])\n",
      "tensor([[0.5301, 0.4699]])\n",
      "tensor([[0.2497, 0.7503]])\n",
      "tensor([[0.6342, 0.3658]])\n",
      "tensor([[0.4065, 0.5935]])\n",
      "tensor([[0.6998, 0.3002]])\n",
      "tensor([[0.3867, 0.6133]])\n",
      "tensor([[0.3681, 0.6319]])\n",
      "tensor([[0.5212, 0.4788]])\n",
      "tensor([[0.4275, 0.5725]])\n",
      "tensor([[0.3558, 0.6442]])\n",
      "tensor([[0.3602, 0.6398]])\n",
      "tensor([[0.4540, 0.5460]])\n",
      "tensor([[0.5215, 0.4785]])\n",
      "tensor([[0.5454, 0.4546]])\n",
      "tensor([[0.4209, 0.5791]])\n",
      "tensor([[0.5602, 0.4398]])\n",
      "tensor([[0.3687, 0.6313]])\n",
      "tensor([[0.4789, 0.5211]])\n",
      "tensor([[0.5963, 0.4037]])\n",
      "tensor([[0.2388, 0.7612]])\n",
      "tensor([[0.3428, 0.6572]])\n",
      "tensor([[0.3258, 0.6742]])\n",
      "tensor([[0.3120, 0.6880]])\n",
      "tensor([[0.5651, 0.4349]])\n",
      "tensor([[0.4775, 0.5225]])\n",
      "tensor([[0.3943, 0.6057]])\n",
      "tensor([[0.5011, 0.4989]])\n",
      "tensor([[0.3304, 0.6696]])\n",
      "tensor([[0.5990, 0.4010]])\n",
      "tensor([[0.3206, 0.6794]])\n",
      "tensor([[0.3305, 0.6695]])\n",
      "tensor([[0.4987, 0.5013]])\n",
      "tensor([[0.4156, 0.5844]])\n",
      "tensor([[0.2455, 0.7545]])\n",
      "tensor([[0.2691, 0.7309]])\n",
      "tensor([[0.3684, 0.6316]])\n",
      "tensor([[0.6020, 0.3980]])\n",
      "tensor([[0.4811, 0.5189]])\n",
      "tensor([[0.3773, 0.6227]])\n",
      "tensor([[0.4560, 0.5440]])\n",
      "tensor([[0.3402, 0.6598]])\n",
      "tensor([[0.3332, 0.6668]])\n",
      "tensor([[0.3342, 0.6658]])\n",
      "tensor([[0.4238, 0.5762]])\n",
      "tensor([[0.3072, 0.6928]])\n",
      "tensor([[0.4378, 0.5622]])\n",
      "tensor([[0.3985, 0.6015]])\n",
      "tensor([[0.4212, 0.5788]])\n",
      "tensor([[0.2126, 0.7874]])\n",
      "tensor([[0.3841, 0.6159]])\n",
      "tensor([[0.2378, 0.7622]])\n",
      "tensor([[0.4326, 0.5674]])\n",
      "tensor([[0.4539, 0.5461]])\n",
      "tensor([[0.3813, 0.6187]])\n",
      "tensor([[0.2775, 0.7225]])\n",
      "tensor([[0.5889, 0.4111]])\n",
      "tensor([[0.3551, 0.6449]])\n",
      "tensor([[0.4534, 0.5466]])\n",
      "tensor([[0.2342, 0.7658]])\n",
      "tensor([[0.3396, 0.6604]])\n",
      "tensor([[0.5386, 0.4614]])\n",
      "tensor([[0.3512, 0.6488]])\n",
      "tensor([[0.4169, 0.5831]])\n",
      "tensor([[0.4774, 0.5226]])\n",
      "tensor([[0.6875, 0.3125]])\n",
      "tensor([[0.5029, 0.4971]])\n",
      "tensor([[0.2699, 0.7301]])\n",
      "tensor([[0.3804, 0.6196]])\n",
      "tensor([[0.3130, 0.6870]])\n",
      "tensor([[0.3712, 0.6288]])\n",
      "tensor([[0.5081, 0.4919]])\n",
      "tensor([[0.5977, 0.4023]])\n",
      "tensor([[0.5488, 0.4512]])\n",
      "tensor([[0.3780, 0.6220]])\n",
      "tensor([[0.2295, 0.7705]])\n",
      "tensor([[0.8792, 0.1208]])\n",
      "tensor([[0.2349, 0.7651]])\n",
      "tensor([[0.3550, 0.6450]])\n",
      "tensor([[0.2844, 0.7156]])\n",
      "tensor([[0.4017, 0.5983]])\n",
      "tensor([[0.4636, 0.5364]])\n",
      "tensor([[0.2060, 0.7940]])\n",
      "tensor([[0.5222, 0.4778]])\n",
      "tensor([[0.5157, 0.4843]])\n",
      "tensor([[0.5738, 0.4262]])\n",
      "tensor([[0.5205, 0.4795]])\n",
      "tensor([[0.2673, 0.7327]])\n",
      "tensor([[0.2066, 0.7934]])\n",
      "tensor([[0.2750, 0.7250]])\n",
      "tensor([[0.4957, 0.5043]])\n",
      "tensor([[0.3411, 0.6589]])\n",
      "tensor([[0.5343, 0.4657]])\n",
      "tensor([[0.5287, 0.4713]])\n",
      "tensor([[0.2167, 0.7833]])\n",
      "tensor([[0.3151, 0.6849]])\n",
      "tensor([[0.4796, 0.5204]])\n",
      "tensor([[0.2040, 0.7960]])\n",
      "tensor([[0.5957, 0.4043]])\n",
      "tensor([[0.2746, 0.7254]])\n",
      "tensor([[0.4250, 0.5750]])\n",
      "tensor([[0.2355, 0.7645]])\n",
      "tensor([[0.3159, 0.6841]])\n",
      "tensor([[0.3389, 0.6611]])\n",
      "tensor([[0.3965, 0.6035]])\n",
      "tensor([[0.2410, 0.7590]])\n",
      "tensor([[0.5929, 0.4071]])\n",
      "tensor([[0.4356, 0.5644]])\n",
      "tensor([[0.4654, 0.5346]])\n",
      "tensor([[0.2233, 0.7767]])\n",
      "tensor([[0.2849, 0.7151]])\n",
      "tensor([[0.2636, 0.7364]])\n",
      "tensor([[0.3072, 0.6928]])\n",
      "tensor([[0.2767, 0.7233]])\n",
      "tensor([[0.4449, 0.5551]])\n",
      "tensor([[0.6005, 0.3995]])\n",
      "tensor([[0.5579, 0.4421]])\n",
      "tensor([[0.5309, 0.4691]])\n",
      "tensor([[0.4924, 0.5076]])\n",
      "tensor([[0.3008, 0.6992]])\n",
      "tensor([[0.4654, 0.5346]])\n",
      "tensor([[0.5414, 0.4586]])\n",
      "tensor([[0.2547, 0.7453]])\n",
      "tensor([[0.5532, 0.4468]])\n",
      "tensor([[0.5393, 0.4607]])\n",
      "tensor([[0.5500, 0.4500]])\n",
      "tensor([[0.4859, 0.5141]])\n",
      "tensor([[0.4239, 0.5761]])\n"
     ]
    },
    {
     "name": "stdout",
     "output_type": "stream",
     "text": [
      "tensor([[0.2594, 0.7406]])\n",
      "tensor([[0.3945, 0.6055]])\n",
      "tensor([[0.5418, 0.4582]])\n",
      "tensor([[0.4000, 0.6000]])\n",
      "tensor([[0.3505, 0.6495]])\n",
      "tensor([[0.2783, 0.7217]])\n",
      "tensor([[0.2571, 0.7429]])\n",
      "tensor([[0.3915, 0.6085]])\n",
      "tensor([[0.3878, 0.6122]])\n",
      "tensor([[0.2718, 0.7282]])\n",
      "tensor([[0.5330, 0.4670]])\n",
      "tensor([[0.5618, 0.4382]])\n",
      "tensor([[0.2321, 0.7679]])\n",
      "tensor([[0.2863, 0.7137]])\n",
      "tensor([[0.5965, 0.4035]])\n",
      "tensor([[0.3175, 0.6825]])\n",
      "tensor([[0.3733, 0.6267]])\n",
      "tensor([[0.4549, 0.5451]])\n",
      "tensor([[0.3369, 0.6631]])\n",
      "tensor([[0.2568, 0.7432]])\n",
      "tensor([[0.2052, 0.7948]])\n",
      "tensor([[0.5669, 0.4331]])\n",
      "tensor([[0.2767, 0.7233]])\n",
      "tensor([[0.5076, 0.4924]])\n",
      "tensor([[0.2608, 0.7392]])\n",
      "tensor([[0.6404, 0.3596]])\n",
      "tensor([[0.3702, 0.6298]])\n",
      "tensor([[0.3196, 0.6804]])\n",
      "tensor([[0.7567, 0.2433]])\n",
      "tensor([[0.3350, 0.6650]])\n",
      "tensor([[0.3107, 0.6893]])\n",
      "tensor([[0.5336, 0.4664]])\n",
      "tensor([[0.3898, 0.6102]])\n",
      "tensor([[0.5054, 0.4946]])\n",
      "tensor([[0.2185, 0.7815]])\n",
      "tensor([[0.2811, 0.7189]])\n",
      "tensor([[0.3945, 0.6055]])\n",
      "tensor([[0.4246, 0.5754]])\n",
      "tensor([[0.2842, 0.7158]])\n",
      "tensor([[0.4031, 0.5969]])\n",
      "tensor([[0.2487, 0.7513]])\n",
      "tensor([[0.4453, 0.5547]])\n",
      "tensor([[0.5134, 0.4866]])\n",
      "tensor([[0.4529, 0.5471]])\n",
      "tensor([[0.4087, 0.5913]])\n",
      "tensor([[0.2312, 0.7688]])\n",
      "tensor([[0.1734, 0.8266]])\n",
      "tensor([[0.4659, 0.5341]])\n",
      "tensor([[0.3538, 0.6462]])\n",
      "tensor([[0.4056, 0.5944]])\n",
      "tensor([[0.2657, 0.7343]])\n",
      "tensor([[0.4034, 0.5966]])\n",
      "tensor([[0.3755, 0.6245]])\n",
      "tensor([[0.3113, 0.6887]])\n",
      "tensor([[0.6943, 0.3057]])\n",
      "tensor([[0.4739, 0.5261]])\n",
      "tensor([[0.3871, 0.6129]])\n",
      "tensor([[0.4516, 0.5484]])\n",
      "tensor([[0.2648, 0.7352]])\n",
      "tensor([[0.2531, 0.7469]])\n",
      "tensor([[0.2854, 0.7146]])\n",
      "tensor([[0.2302, 0.7698]])\n",
      "tensor([[0.2477, 0.7523]])\n",
      "tensor([[0.3092, 0.6908]])\n",
      "tensor([[0.2397, 0.7603]])\n",
      "tensor([[0.4512, 0.5488]])\n",
      "tensor([[0.4823, 0.5177]])\n",
      "tensor([[0.4081, 0.5919]])\n",
      "tensor([[0.2634, 0.7366]])\n",
      "tensor([[0.5251, 0.4749]])\n",
      "tensor([[0.2117, 0.7883]])\n",
      "tensor([[0.4070, 0.5930]])\n",
      "tensor([[0.4577, 0.5423]])\n",
      "tensor([[0.5106, 0.4894]])\n",
      "tensor([[0.3364, 0.6636]])\n",
      "tensor([[0.3047, 0.6953]])\n",
      "tensor([[0.6611, 0.3389]])\n",
      "tensor([[0.6410, 0.3590]])\n",
      "tensor([[0.2629, 0.7371]])\n",
      "tensor([[0.4957, 0.5043]])\n",
      "tensor([[0.3662, 0.6338]])\n",
      "tensor([[0.2118, 0.7882]])\n",
      "tensor([[0.4540, 0.5460]])\n",
      "tensor([[0.3116, 0.6884]])\n",
      "tensor([[0.4484, 0.5516]])\n",
      "tensor([[0.4877, 0.5123]])\n",
      "tensor([[0.4092, 0.5908]])\n",
      "tensor([[0.2842, 0.7158]])\n",
      "tensor([[0.6286, 0.3714]])\n",
      "tensor([[0.5066, 0.4934]])\n",
      "tensor([[0.3172, 0.6828]])\n",
      "tensor([[0.3023, 0.6977]])\n",
      "tensor([[0.2472, 0.7528]])\n",
      "tensor([[0.3228, 0.6772]])\n",
      "tensor([[0.5281, 0.4719]])\n",
      "tensor([[0.4644, 0.5356]])\n",
      "tensor([[0.5541, 0.4459]])\n",
      "tensor([[0.3958, 0.6042]])\n",
      "tensor([[0.4827, 0.5173]])\n",
      "tensor([[0.2973, 0.7027]])\n",
      "tensor([[0.5241, 0.4759]])\n",
      "tensor([[0.3745, 0.6255]])\n",
      "tensor([[0.4664, 0.5336]])\n",
      "tensor([[0.2207, 0.7793]])\n",
      "tensor([[0.4497, 0.5503]])\n",
      "tensor([[0.3163, 0.6837]])\n",
      "tensor([[0.3595, 0.6405]])\n",
      "tensor([[0.2672, 0.7328]])\n",
      "tensor([[0.6374, 0.3626]])\n",
      "tensor([[0.3091, 0.6909]])\n",
      "tensor([[0.6988, 0.3012]])\n",
      "tensor([[0.6077, 0.3923]])\n",
      "tensor([[0.4165, 0.5835]])\n",
      "tensor([[0.2503, 0.7497]])\n",
      "tensor([[0.3698, 0.6302]])\n",
      "tensor([[0.4198, 0.5802]])\n",
      "tensor([[0.2788, 0.7212]])\n",
      "tensor([[0.3307, 0.6693]])\n",
      "tensor([[0.2504, 0.7496]])\n",
      "tensor([[0.4123, 0.5877]])\n",
      "tensor([[0.3005, 0.6995]])\n",
      "tensor([[0.4565, 0.5435]])\n",
      "tensor([[0.3910, 0.6090]])\n",
      "tensor([[0.3076, 0.6924]])\n",
      "tensor([[0.3651, 0.6349]])\n",
      "tensor([[0.3668, 0.6332]])\n",
      "tensor([[0.5436, 0.4564]])\n",
      "tensor([[0.3337, 0.6663]])\n",
      "tensor([[0.5395, 0.4605]])\n",
      "tensor([[0.5343, 0.4657]])\n",
      "tensor([[0.4829, 0.5171]])\n",
      "tensor([[0.5574, 0.4426]])\n",
      "tensor([[0.6279, 0.3721]])\n",
      "tensor([[0.2468, 0.7532]])\n",
      "tensor([[0.3472, 0.6528]])\n",
      "tensor([[0.3030, 0.6970]])\n",
      "tensor([[0.3416, 0.6584]])\n",
      "tensor([[0.4188, 0.5812]])\n",
      "tensor([[0.2646, 0.7354]])\n",
      "tensor([[0.6734, 0.3266]])\n",
      "tensor([[0.4162, 0.5838]])\n",
      "tensor([[0.4131, 0.5869]])\n",
      "tensor([[0.2265, 0.7735]])\n",
      "tensor([[0.2110, 0.7890]])\n",
      "tensor([[0.5834, 0.4166]])\n",
      "tensor([[0.5434, 0.4566]])\n",
      "tensor([[0.2575, 0.7425]])\n",
      "tensor([[0.4365, 0.5635]])\n",
      "tensor([[0.3514, 0.6486]])\n",
      "tensor([[0.2053, 0.7947]])\n",
      "tensor([[0.4423, 0.5577]])\n",
      "tensor([[0.4369, 0.5631]])\n",
      "tensor([[0.4467, 0.5533]])\n",
      "tensor([[0.2239, 0.7761]])\n",
      "tensor([[0.5185, 0.4815]])\n",
      "tensor([[0.3633, 0.6367]])\n",
      "tensor([[0.3475, 0.6525]])\n",
      "tensor([[0.3618, 0.6382]])\n",
      "tensor([[0.3983, 0.6017]])\n",
      "tensor([[0.7107, 0.2893]])\n",
      "tensor([[0.5596, 0.4404]])\n",
      "tensor([[0.3807, 0.6193]])\n",
      "tensor([[0.3803, 0.6197]])\n",
      "tensor([[0.3289, 0.6711]])\n",
      "tensor([[0.2226, 0.7774]])\n",
      "tensor([[0.7798, 0.2202]])\n",
      "tensor([[0.4817, 0.5183]])\n",
      "tensor([[0.2640, 0.7360]])\n",
      "tensor([[0.5982, 0.4018]])\n",
      "tensor([[0.5272, 0.4728]])\n",
      "tensor([[0.3822, 0.6178]])\n",
      "tensor([[0.3357, 0.6643]])\n",
      "tensor([[0.6748, 0.3252]])\n",
      "tensor([[0.2825, 0.7175]])\n",
      "tensor([[0.5685, 0.4315]])\n",
      "tensor([[0.4436, 0.5564]])\n",
      "tensor([[0.2793, 0.7207]])\n",
      "tensor([[0.5187, 0.4813]])\n",
      "tensor([[0.5067, 0.4933]])\n",
      "tensor([[0.5791, 0.4209]])\n",
      "tensor([[0.2356, 0.7644]])\n",
      "tensor([[0.3275, 0.6725]])\n",
      "tensor([[0.5033, 0.4967]])\n",
      "tensor([[0.2393, 0.7607]])\n",
      "tensor([[0.3263, 0.6737]])\n",
      "tensor([[0.5425, 0.4575]])\n",
      "tensor([[0.2593, 0.7407]])\n",
      "tensor([[0.3502, 0.6498]])\n",
      "tensor([[0.4139, 0.5861]])\n",
      "tensor([[0.5562, 0.4438]])\n",
      "tensor([[0.3247, 0.6753]])\n",
      "tensor([[0.2352, 0.7648]])\n",
      "tensor([[0.4768, 0.5232]])\n",
      "tensor([[0.3427, 0.6573]])\n",
      "tensor([[0.3322, 0.6678]])\n",
      "tensor([[0.4721, 0.5279]])\n",
      "tensor([[0.4519, 0.5481]])\n",
      "tensor([[0.2406, 0.7594]])\n",
      "tensor([[0.2117, 0.7883]])\n",
      "tensor([[0.4504, 0.5496]])\n",
      "tensor([[0.5299, 0.4701]])\n",
      "tensor([[0.6284, 0.3716]])\n",
      "tensor([[0.5956, 0.4044]])\n",
      "tensor([[0.3133, 0.6867]])\n",
      "tensor([[0.2757, 0.7243]])\n",
      "tensor([[0.6391, 0.3609]])\n",
      "tensor([[0.2827, 0.7173]])\n",
      "tensor([[0.5774, 0.4226]])\n",
      "tensor([[0.3851, 0.6149]])\n",
      "tensor([[0.5820, 0.4180]])\n",
      "tensor([[0.2448, 0.7552]])\n",
      "tensor([[0.4941, 0.5059]])\n",
      "tensor([[0.2352, 0.7648]])\n",
      "tensor([[0.5227, 0.4773]])\n",
      "tensor([[0.5876, 0.4124]])\n",
      "tensor([[0.3945, 0.6055]])\n",
      "tensor([[0.1158, 0.8842]])\n",
      "tensor([[0.2774, 0.7226]])\n",
      "tensor([[0.6167, 0.3833]])\n",
      "tensor([[0.3419, 0.6581]])\n",
      "tensor([[0.3771, 0.6229]])\n",
      "tensor([[0.2708, 0.7292]])\n",
      "tensor([[0.4139, 0.5861]])\n",
      "tensor([[0.5600, 0.4400]])\n",
      "tensor([[0.3399, 0.6601]])\n",
      "tensor([[0.4502, 0.5498]])\n",
      "tensor([[0.4758, 0.5242]])\n",
      "tensor([[0.3424, 0.6576]])\n",
      "tensor([[0.3133, 0.6867]])\n",
      "tensor([[0.4712, 0.5288]])\n",
      "tensor([[0.2964, 0.7036]])\n",
      "tensor([[0.3011, 0.6989]])\n",
      "tensor([[0.3605, 0.6395]])\n",
      "tensor([[0.4350, 0.5650]])\n",
      "tensor([[0.4262, 0.5738]])\n",
      "tensor([[0.2757, 0.7243]])\n",
      "tensor([[0.3861, 0.6139]])\n",
      "tensor([[0.3025, 0.6975]])\n",
      "tensor([[0.4820, 0.5180]])\n",
      "tensor([[0.5421, 0.4579]])\n",
      "tensor([[0.2104, 0.7896]])\n",
      "tensor([[0.3454, 0.6546]])\n",
      "tensor([[0.4727, 0.5273]])\n",
      "tensor([[0.5461, 0.4539]])\n",
      "tensor([[0.2117, 0.7883]])\n",
      "tensor([[0.4057, 0.5943]])\n",
      "tensor([[0.4259, 0.5741]])\n",
      "tensor([[0.2239, 0.7761]])\n",
      "tensor([[0.2334, 0.7666]])\n",
      "tensor([[0.6039, 0.3961]])\n",
      "tensor([[0.2380, 0.7620]])\n",
      "tensor([[0.5600, 0.4400]])\n",
      "tensor([[0.4125, 0.5875]])\n",
      "tensor([[0.2831, 0.7169]])\n",
      "tensor([[0.3143, 0.6857]])\n",
      "tensor([[0.2541, 0.7459]])\n",
      "tensor([[0.4924, 0.5076]])\n",
      "tensor([[0.4394, 0.5606]])\n",
      "tensor([[0.5920, 0.4080]])\n",
      "tensor([[0.6008, 0.3992]])\n",
      "tensor([[0.4463, 0.5537]])\n",
      "tensor([[0.2674, 0.7326]])\n",
      "tensor([[0.4123, 0.5877]])\n",
      "tensor([[0.7388, 0.2612]])\n",
      "tensor([[0.3985, 0.6015]])\n",
      "tensor([[0.6061, 0.3939]])\n",
      "tensor([[0.2176, 0.7824]])\n",
      "tensor([[0.5492, 0.4508]])\n",
      "tensor([[0.4363, 0.5637]])\n",
      "tensor([[0.5011, 0.4989]])\n",
      "tensor([[0.6778, 0.3222]])\n",
      "tensor([[0.2812, 0.7188]])\n",
      "tensor([[0.3500, 0.6500]])\n",
      "tensor([[0.2847, 0.7153]])\n",
      "tensor([[0.4007, 0.5993]])\n",
      "tensor([[0.3011, 0.6989]])\n",
      "tensor([[0.2881, 0.7119]])\n",
      "tensor([[0.3765, 0.6235]])\n",
      "tensor([[0.4003, 0.5997]])\n",
      "tensor([[0.2658, 0.7342]])\n",
      "tensor([[0.4142, 0.5858]])\n",
      "tensor([[0.3238, 0.6762]])\n",
      "tensor([[0.7072, 0.2928]])\n",
      "tensor([[0.6515, 0.3485]])\n",
      "tensor([[0.3233, 0.6767]])\n",
      "tensor([[0.2728, 0.7272]])\n",
      "tensor([[0.5101, 0.4899]])\n",
      "tensor([[0.3589, 0.6411]])\n",
      "tensor([[0.3936, 0.6064]])\n",
      "tensor([[0.4968, 0.5032]])\n",
      "tensor([[0.3046, 0.6954]])\n",
      "tensor([[0.3299, 0.6701]])\n",
      "tensor([[0.4128, 0.5872]])\n",
      "tensor([[0.4073, 0.5927]])\n",
      "tensor([[0.4501, 0.5499]])\n",
      "tensor([[0.2506, 0.7494]])\n",
      "tensor([[0.2286, 0.7714]])\n",
      "tensor([[0.9258, 0.0742]])\n",
      "tensor([[0.2478, 0.7522]])\n",
      "tensor([[0.2877, 0.7123]])\n",
      "tensor([[0.3851, 0.6149]])\n",
      "tensor([[0.2120, 0.7880]])\n",
      "tensor([[0.4215, 0.5785]])\n",
      "tensor([[0.7170, 0.2830]])\n"
     ]
    },
    {
     "name": "stdout",
     "output_type": "stream",
     "text": [
      "tensor([[0.4884, 0.5116]])\n",
      "tensor([[0.8013, 0.1987]])\n",
      "tensor([[0.2363, 0.7637]])\n",
      "tensor([[0.4046, 0.5954]])\n",
      "tensor([[0.3521, 0.6479]])\n",
      "tensor([[0.7006, 0.2994]])\n",
      "tensor([[0.4670, 0.5330]])\n",
      "tensor([[0.3722, 0.6278]])\n",
      "tensor([[0.2596, 0.7404]])\n",
      "tensor([[0.4499, 0.5501]])\n",
      "tensor([[0.3493, 0.6507]])\n",
      "tensor([[0.5687, 0.4313]])\n",
      "tensor([[0.3068, 0.6932]])\n",
      "tensor([[0.2544, 0.7456]])\n",
      "tensor([[0.4507, 0.5493]])\n",
      "tensor([[0.6093, 0.3907]])\n",
      "tensor([[0.5710, 0.4290]])\n",
      "tensor([[0.5124, 0.4876]])\n",
      "tensor([[0.5197, 0.4803]])\n",
      "tensor([[0.5774, 0.4226]])\n",
      "tensor([[0.6751, 0.3249]])\n",
      "tensor([[0.2648, 0.7352]])\n",
      "tensor([[0.4236, 0.5764]])\n",
      "tensor([[0.5510, 0.4490]])\n",
      "tensor([[0.5391, 0.4609]])\n",
      "tensor([[0.2614, 0.7386]])\n",
      "tensor([[0.6700, 0.3300]])\n",
      "tensor([[0.3707, 0.6293]])\n",
      "tensor([[0.5872, 0.4128]])\n",
      "tensor([[0.4258, 0.5742]])\n",
      "tensor([[0.2667, 0.7333]])\n",
      "tensor([[0.6927, 0.3073]])\n",
      "tensor([[0.3910, 0.6090]])\n",
      "tensor([[0.3276, 0.6724]])\n",
      "tensor([[0.4624, 0.5376]])\n",
      "tensor([[0.4106, 0.5894]])\n",
      "tensor([[0.4558, 0.5442]])\n",
      "tensor([[0.2139, 0.7861]])\n",
      "tensor([[0.2451, 0.7549]])\n",
      "tensor([[0.2277, 0.7723]])\n",
      "tensor([[0.4756, 0.5244]])\n",
      "tensor([[0.5448, 0.4552]])\n",
      "tensor([[0.2759, 0.7241]])\n",
      "tensor([[0.2899, 0.7101]])\n",
      "tensor([[0.2998, 0.7002]])\n",
      "tensor([[0.6382, 0.3618]])\n",
      "tensor([[0.2636, 0.7364]])\n",
      "tensor([[0.2440, 0.7560]])\n",
      "tensor([[0.2165, 0.7835]])\n",
      "tensor([[0.4975, 0.5025]])\n",
      "tensor([[0.3806, 0.6194]])\n",
      "tensor([[0.2519, 0.7481]])\n",
      "tensor([[0.4548, 0.5452]])\n",
      "tensor([[0.4695, 0.5305]])\n",
      "tensor([[0.5010, 0.4990]])\n",
      "tensor([[0.6896, 0.3104]])\n",
      "tensor([[0.2330, 0.7670]])\n",
      "tensor([[0.2937, 0.7063]])\n",
      "tensor([[0.2154, 0.7846]])\n",
      "tensor([[0.2051, 0.7949]])\n",
      "tensor([[0.5216, 0.4784]])\n",
      "tensor([[0.3341, 0.6659]])\n",
      "tensor([[0.5253, 0.4747]])\n",
      "tensor([[0.5831, 0.4169]])\n",
      "tensor([[0.3579, 0.6421]])\n",
      "tensor([[0.5574, 0.4426]])\n",
      "tensor([[0.3862, 0.6138]])\n",
      "tensor([[0.3516, 0.6484]])\n",
      "tensor([[0.2653, 0.7347]])\n",
      "tensor([[0.3279, 0.6721]])\n",
      "tensor([[0.2930, 0.7070]])\n",
      "tensor([[0.8761, 0.1239]])\n",
      "tensor([[0.6269, 0.3731]])\n",
      "tensor([[0.7203, 0.2797]])\n",
      "tensor([[0.2128, 0.7872]])\n",
      "tensor([[0.2143, 0.7857]])\n",
      "tensor([[0.6165, 0.3835]])\n",
      "tensor([[0.4148, 0.5852]])\n",
      "tensor([[0.3606, 0.6394]])\n",
      "tensor([[0.5179, 0.4821]])\n",
      "tensor([[0.3003, 0.6997]])\n",
      "tensor([[0.2552, 0.7448]])\n",
      "tensor([[0.2697, 0.7303]])\n",
      "tensor([[0.2459, 0.7541]])\n",
      "tensor([[0.3078, 0.6922]])\n",
      "tensor([[0.7460, 0.2540]])\n",
      "tensor([[0.2775, 0.7225]])\n",
      "tensor([[0.3853, 0.6147]])\n",
      "tensor([[0.3155, 0.6845]])\n",
      "tensor([[0.3703, 0.6297]])\n",
      "tensor([[0.5807, 0.4193]])\n",
      "tensor([[0.4243, 0.5757]])\n",
      "tensor([[0.4902, 0.5098]])\n",
      "tensor([[0.4801, 0.5199]])\n",
      "tensor([[0.2839, 0.7161]])\n",
      "tensor([[0.4919, 0.5081]])\n",
      "tensor([[0.3355, 0.6645]])\n",
      "tensor([[0.4419, 0.5581]])\n",
      "tensor([[0.4851, 0.5149]])\n",
      "tensor([[0.5467, 0.4533]])\n",
      "tensor([[0.4707, 0.5293]])\n",
      "tensor([[0.5214, 0.4786]])\n",
      "tensor([[0.2914, 0.7086]])\n",
      "tensor([[0.5405, 0.4595]])\n",
      "tensor([[0.3974, 0.6026]])\n",
      "tensor([[0.4789, 0.5211]])\n",
      "tensor([[0.4084, 0.5916]])\n",
      "tensor([[0.2870, 0.7130]])\n",
      "tensor([[0.3016, 0.6984]])\n",
      "tensor([[0.3815, 0.6185]])\n",
      "tensor([[0.4547, 0.5453]])\n",
      "tensor([[0.6938, 0.3062]])\n",
      "tensor([[0.2449, 0.7551]])\n",
      "tensor([[0.5327, 0.4673]])\n",
      "tensor([[0.5622, 0.4378]])\n",
      "tensor([[0.2842, 0.7158]])\n",
      "tensor([[0.3031, 0.6969]])\n",
      "tensor([[0.5400, 0.4600]])\n",
      "tensor([[0.2336, 0.7664]])\n",
      "tensor([[0.4504, 0.5496]])\n",
      "tensor([[0.4230, 0.5770]])\n",
      "tensor([[0.3168, 0.6832]])\n",
      "tensor([[0.3154, 0.6846]])\n",
      "tensor([[0.4256, 0.5744]])\n",
      "tensor([[0.4614, 0.5386]])\n",
      "tensor([[0.4459, 0.5541]])\n",
      "tensor([[0.4449, 0.5551]])\n",
      "tensor([[0.3745, 0.6255]])\n",
      "tensor([[0.6331, 0.3669]])\n",
      "tensor([[0.2230, 0.7770]])\n",
      "tensor([[0.5312, 0.4688]])\n",
      "tensor([[0.4877, 0.5123]])\n",
      "tensor([[0.3107, 0.6893]])\n",
      "tensor([[0.2296, 0.7704]])\n",
      "tensor([[0.5523, 0.4477]])\n",
      "tensor([[0.2593, 0.7407]])\n",
      "tensor([[0.2512, 0.7488]])\n",
      "tensor([[0.3775, 0.6225]])\n",
      "tensor([[0.3848, 0.6152]])\n",
      "tensor([[0.2027, 0.7973]])\n",
      "tensor([[0.4881, 0.5119]])\n",
      "tensor([[0.3179, 0.6821]])\n",
      "tensor([[0.3647, 0.6353]])\n",
      "tensor([[0.2852, 0.7148]])\n",
      "tensor([[0.2796, 0.7204]])\n",
      "tensor([[0.6327, 0.3673]])\n",
      "tensor([[0.4601, 0.5399]])\n",
      "tensor([[0.3784, 0.6216]])\n",
      "tensor([[0.4136, 0.5864]])\n",
      "tensor([[0.4666, 0.5334]])\n",
      "tensor([[0.7536, 0.2464]])\n",
      "tensor([[0.3270, 0.6730]])\n",
      "tensor([[0.6411, 0.3589]])\n",
      "tensor([[0.3867, 0.6133]])\n",
      "tensor([[0.6399, 0.3601]])\n",
      "tensor([[0.6194, 0.3806]])\n",
      "tensor([[0.3033, 0.6967]])\n",
      "tensor([[0.6638, 0.3362]])\n",
      "tensor([[0.2192, 0.7808]])\n",
      "tensor([[0.3991, 0.6009]])\n",
      "tensor([[0.1981, 0.8019]])\n",
      "tensor([[0.2720, 0.7280]])\n",
      "tensor([[0.2641, 0.7359]])\n",
      "tensor([[0.2772, 0.7228]])\n",
      "tensor([[0.2686, 0.7314]])\n",
      "tensor([[0.3212, 0.6788]])\n",
      "tensor([[0.3021, 0.6979]])\n",
      "tensor([[0.4648, 0.5352]])\n",
      "tensor([[0.5260, 0.4740]])\n",
      "tensor([[0.3466, 0.6534]])\n",
      "tensor([[0.3482, 0.6518]])\n",
      "tensor([[0.2707, 0.7293]])\n",
      "tensor([[0.1730, 0.8270]])\n",
      "tensor([[0.2650, 0.7350]])\n",
      "tensor([[0.2643, 0.7357]])\n",
      "tensor([[0.4897, 0.5103]])\n",
      "tensor([[0.2873, 0.7127]])\n",
      "tensor([[0.3432, 0.6568]])\n",
      "tensor([[0.6020, 0.3980]])\n",
      "tensor([[0.6980, 0.3020]])\n",
      "tensor([[0.1888, 0.8112]])\n",
      "tensor([[0.4549, 0.5451]])\n",
      "tensor([[0.4046, 0.5954]])\n",
      "tensor([[0.3388, 0.6612]])\n",
      "tensor([[0.3147, 0.6853]])\n",
      "tensor([[0.4110, 0.5890]])\n",
      "tensor([[0.3624, 0.6376]])\n",
      "tensor([[0.2343, 0.7657]])\n",
      "tensor([[0.6000, 0.4000]])\n",
      "tensor([[0.4652, 0.5348]])\n",
      "tensor([[0.2421, 0.7579]])\n",
      "tensor([[0.2734, 0.7266]])\n",
      "tensor([[0.2641, 0.7359]])\n",
      "tensor([[0.3328, 0.6672]])\n",
      "tensor([[0.3037, 0.6963]])\n",
      "tensor([[0.4605, 0.5395]])\n",
      "tensor([[0.6771, 0.3229]])\n",
      "tensor([[0.2292, 0.7708]])\n",
      "tensor([[0.5819, 0.4181]])\n",
      "tensor([[0.4206, 0.5794]])\n",
      "tensor([[0.3876, 0.6124]])\n",
      "tensor([[0.3111, 0.6889]])\n",
      "tensor([[0.4130, 0.5870]])\n",
      "tensor([[0.2517, 0.7483]])\n",
      "tensor([[0.3091, 0.6909]])\n",
      "tensor([[0.3036, 0.6964]])\n",
      "tensor([[0.5288, 0.4712]])\n",
      "tensor([[0.4755, 0.5245]])\n",
      "tensor([[0.6326, 0.3674]])\n",
      "tensor([[0.3083, 0.6917]])\n",
      "tensor([[0.2786, 0.7214]])\n",
      "tensor([[0.2769, 0.7231]])\n",
      "tensor([[0.3432, 0.6568]])\n",
      "tensor([[0.1922, 0.8078]])\n",
      "tensor([[0.3744, 0.6256]])\n",
      "tensor([[0.3945, 0.6055]])\n",
      "tensor([[0.2708, 0.7292]])\n",
      "tensor([[0.5652, 0.4348]])\n",
      "tensor([[0.6818, 0.3182]])\n",
      "tensor([[0.5505, 0.4495]])\n",
      "tensor([[0.2803, 0.7197]])\n",
      "tensor([[0.7507, 0.2493]])\n",
      "tensor([[0.5194, 0.4806]])\n",
      "tensor([[0.3013, 0.6987]])\n",
      "tensor([[0.6189, 0.3811]])\n",
      "tensor([[0.2893, 0.7107]])\n",
      "tensor([[0.6993, 0.3007]])\n",
      "tensor([[0.5858, 0.4142]])\n",
      "tensor([[0.3831, 0.6169]])\n",
      "tensor([[0.7368, 0.2632]])\n",
      "tensor([[0.6485, 0.3515]])\n",
      "tensor([[0.3522, 0.6478]])\n",
      "tensor([[0.2623, 0.7377]])\n",
      "tensor([[0.2768, 0.7232]])\n",
      "tensor([[0.6340, 0.3660]])\n",
      "tensor([[0.4571, 0.5429]])\n",
      "tensor([[0.6630, 0.3370]])\n",
      "tensor([[0.3641, 0.6359]])\n",
      "tensor([[0.5244, 0.4756]])\n",
      "tensor([[0.3121, 0.6879]])\n",
      "tensor([[0.5098, 0.4902]])\n",
      "tensor([[0.2775, 0.7225]])\n",
      "tensor([[0.3117, 0.6883]])\n",
      "tensor([[0.4239, 0.5761]])\n",
      "tensor([[0.2773, 0.7227]])\n",
      "tensor([[0.4004, 0.5996]])\n",
      "tensor([[0.3696, 0.6304]])\n",
      "tensor([[0.4371, 0.5629]])\n",
      "tensor([[0.4281, 0.5719]])\n",
      "tensor([[0.4138, 0.5862]])\n",
      "tensor([[0.6541, 0.3459]])\n",
      "tensor([[0.6490, 0.3510]])\n",
      "tensor([[0.7163, 0.2837]])\n",
      "tensor([[0.2436, 0.7564]])\n",
      "tensor([[0.4603, 0.5397]])\n",
      "tensor([[0.4986, 0.5014]])\n",
      "tensor([[0.5537, 0.4463]])\n",
      "tensor([[0.6439, 0.3561]])\n",
      "tensor([[0.2238, 0.7762]])\n",
      "tensor([[0.3653, 0.6347]])\n",
      "tensor([[0.5579, 0.4421]])\n",
      "tensor([[0.6010, 0.3990]])\n",
      "tensor([[0.3972, 0.6028]])\n",
      "tensor([[0.2348, 0.7652]])\n",
      "tensor([[0.3920, 0.6080]])\n",
      "tensor([[0.3834, 0.6166]])\n",
      "tensor([[0.4423, 0.5577]])\n",
      "tensor([[0.6083, 0.3917]])\n",
      "tensor([[0.3281, 0.6719]])\n",
      "tensor([[0.4570, 0.5430]])\n",
      "tensor([[0.6234, 0.3766]])\n",
      "tensor([[0.6040, 0.3960]])\n",
      "tensor([[0.6063, 0.3937]])\n",
      "tensor([[0.2394, 0.7606]])\n",
      "tensor([[0.3147, 0.6853]])\n",
      "tensor([[0.2325, 0.7675]])\n",
      "tensor([[0.5855, 0.4145]])\n",
      "tensor([[0.3459, 0.6541]])\n",
      "tensor([[0.6112, 0.3888]])\n",
      "tensor([[0.2568, 0.7432]])\n",
      "tensor([[0.6058, 0.3942]])\n",
      "tensor([[0.1999, 0.8001]])\n",
      "tensor([[0.3575, 0.6425]])\n",
      "tensor([[0.7762, 0.2238]])\n",
      "tensor([[0.5621, 0.4379]])\n",
      "tensor([[0.4893, 0.5107]])\n",
      "tensor([[0.2856, 0.7144]])\n",
      "tensor([[0.4598, 0.5402]])\n",
      "tensor([[0.4550, 0.5450]])\n",
      "tensor([[0.2884, 0.7116]])\n",
      "tensor([[0.3719, 0.6281]])\n",
      "tensor([[0.6072, 0.3928]])\n",
      "tensor([[0.5436, 0.4564]])\n",
      "tensor([[0.2483, 0.7517]])\n",
      "tensor([[0.4960, 0.5040]])\n",
      "tensor([[0.5480, 0.4520]])\n",
      "tensor([[0.2949, 0.7051]])\n",
      "tensor([[0.3331, 0.6669]])\n",
      "tensor([[0.6265, 0.3735]])\n",
      "tensor([[0.3240, 0.6760]])\n",
      "tensor([[0.3551, 0.6449]])\n",
      "tensor([[0.3685, 0.6315]])\n",
      "tensor([[0.4952, 0.5048]])\n",
      "tensor([[0.7098, 0.2902]])\n",
      "tensor([[0.5180, 0.4820]])\n",
      "tensor([[0.4900, 0.5100]])\n",
      "tensor([[0.5495, 0.4505]])\n",
      "tensor([[0.3705, 0.6295]])\n",
      "tensor([[0.2416, 0.7584]])\n",
      "tensor([[0.2994, 0.7006]])\n"
     ]
    },
    {
     "name": "stdout",
     "output_type": "stream",
     "text": [
      "tensor([[0.4085, 0.5915]])\n",
      "tensor([[0.3026, 0.6974]])\n",
      "tensor([[0.2608, 0.7392]])\n",
      "tensor([[0.2651, 0.7349]])\n",
      "tensor([[0.3646, 0.6354]])\n",
      "tensor([[0.4114, 0.5886]])\n",
      "tensor([[0.6435, 0.3565]])\n",
      "tensor([[0.4293, 0.5707]])\n",
      "tensor([[0.2396, 0.7604]])\n",
      "tensor([[0.4025, 0.5975]])\n",
      "tensor([[0.2819, 0.7181]])\n",
      "tensor([[0.2981, 0.7019]])\n",
      "tensor([[0.2047, 0.7953]])\n",
      "tensor([[0.4446, 0.5554]])\n",
      "tensor([[0.5993, 0.4007]])\n",
      "tensor([[0.3437, 0.6563]])\n",
      "tensor([[0.3956, 0.6044]])\n",
      "tensor([[0.2329, 0.7671]])\n",
      "tensor([[0.3895, 0.6105]])\n",
      "tensor([[0.4853, 0.5147]])\n",
      "tensor([[0.6773, 0.3227]])\n",
      "tensor([[0.4963, 0.5037]])\n",
      "tensor([[0.3066, 0.6934]])\n",
      "tensor([[0.4568, 0.5432]])\n",
      "tensor([[0.6490, 0.3510]])\n",
      "tensor([[0.3027, 0.6973]])\n",
      "tensor([[0.2468, 0.7532]])\n",
      "tensor([[0.2921, 0.7079]])\n",
      "tensor([[0.6550, 0.3450]])\n",
      "tensor([[0.2810, 0.7190]])\n",
      "tensor([[0.3535, 0.6465]])\n",
      "tensor([[0.3578, 0.6422]])\n",
      "tensor([[0.3566, 0.6434]])\n",
      "tensor([[0.4346, 0.5654]])\n",
      "tensor([[0.2619, 0.7381]])\n",
      "tensor([[0.2598, 0.7402]])\n",
      "tensor([[0.3700, 0.6300]])\n",
      "tensor([[0.8467, 0.1533]])\n",
      "tensor([[0.3596, 0.6404]])\n",
      "tensor([[0.4431, 0.5569]])\n",
      "tensor([[0.6146, 0.3854]])\n",
      "tensor([[0.3998, 0.6002]])\n",
      "tensor([[0.4265, 0.5735]])\n",
      "tensor([[0.4441, 0.5559]])\n",
      "tensor([[0.2209, 0.7791]])\n",
      "tensor([[0.3361, 0.6639]])\n",
      "tensor([[0.4725, 0.5275]])\n",
      "tensor([[0.2852, 0.7148]])\n",
      "tensor([[0.5704, 0.4296]])\n",
      "tensor([[0.2337, 0.7663]])\n",
      "tensor([[0.2776, 0.7224]])\n",
      "tensor([[0.4425, 0.5575]])\n",
      "tensor([[0.4505, 0.5495]])\n",
      "tensor([[0.2502, 0.7498]])\n",
      "tensor([[0.3622, 0.6378]])\n",
      "tensor([[0.4558, 0.5442]])\n",
      "tensor([[0.4757, 0.5243]])\n",
      "tensor([[0.4273, 0.5727]])\n",
      "tensor([[0.4573, 0.5427]])\n",
      "tensor([[0.4673, 0.5327]])\n",
      "tensor([[0.4759, 0.5241]])\n",
      "tensor([[0.5781, 0.4219]])\n",
      "tensor([[0.2777, 0.7223]])\n",
      "tensor([[0.4992, 0.5008]])\n",
      "tensor([[0.6103, 0.3897]])\n",
      "tensor([[0.4559, 0.5441]])\n",
      "tensor([[0.2294, 0.7706]])\n",
      "tensor([[0.3071, 0.6929]])\n",
      "tensor([[0.4815, 0.5185]])\n",
      "tensor([[0.4236, 0.5764]])\n",
      "tensor([[0.3661, 0.6339]])\n",
      "tensor([[0.4983, 0.5017]])\n",
      "tensor([[0.3653, 0.6347]])\n",
      "tensor([[0.4523, 0.5477]])\n",
      "tensor([[0.3598, 0.6402]])\n",
      "tensor([[0.3481, 0.6519]])\n",
      "tensor([[0.3482, 0.6518]])\n",
      "tensor([[0.5957, 0.4043]])\n",
      "tensor([[0.4604, 0.5396]])\n",
      "tensor([[0.3892, 0.6108]])\n",
      "tensor([[0.3340, 0.6660]])\n",
      "tensor([[0.3422, 0.6578]])\n",
      "tensor([[0.3719, 0.6281]])\n",
      "tensor([[0.3817, 0.6183]])\n",
      "tensor([[0.5127, 0.4873]])\n",
      "tensor([[0.4382, 0.5618]])\n",
      "tensor([[0.2509, 0.7491]])\n",
      "tensor([[0.6567, 0.3433]])\n",
      "tensor([[0.2008, 0.7992]])\n",
      "tensor([[0.3868, 0.6132]])\n",
      "tensor([[0.2078, 0.7922]])\n",
      "tensor([[0.3293, 0.6707]])\n",
      "tensor([[0.2562, 0.7438]])\n",
      "tensor([[0.2833, 0.7167]])\n",
      "tensor([[0.2554, 0.7446]])\n",
      "tensor([[0.3405, 0.6595]])\n",
      "tensor([[0.2316, 0.7684]])\n",
      "tensor([[0.5040, 0.4960]])\n",
      "tensor([[0.6399, 0.3601]])\n",
      "tensor([[0.3391, 0.6609]])\n",
      "tensor([[0.5080, 0.4920]])\n",
      "tensor([[0.4676, 0.5324]])\n",
      "tensor([[0.2282, 0.7718]])\n",
      "tensor([[0.2181, 0.7819]])\n",
      "tensor([[0.3295, 0.6705]])\n",
      "tensor([[0.3221, 0.6779]])\n",
      "tensor([[0.4481, 0.5519]])\n",
      "tensor([[0.6673, 0.3327]])\n",
      "tensor([[0.3192, 0.6808]])\n",
      "tensor([[0.2376, 0.7624]])\n",
      "tensor([[0.3527, 0.6473]])\n",
      "tensor([[0.7653, 0.2347]])\n",
      "tensor([[0.3843, 0.6157]])\n",
      "tensor([[0.5622, 0.4378]])\n",
      "tensor([[0.2083, 0.7917]])\n",
      "tensor([[0.4549, 0.5451]])\n",
      "tensor([[0.4402, 0.5598]])\n",
      "tensor([[0.4850, 0.5150]])\n",
      "tensor([[0.5876, 0.4124]])\n",
      "tensor([[0.2514, 0.7486]])\n",
      "tensor([[0.2695, 0.7305]])\n",
      "tensor([[0.6321, 0.3679]])\n",
      "tensor([[0.5342, 0.4658]])\n",
      "tensor([[0.2986, 0.7014]])\n",
      "tensor([[0.2960, 0.7040]])\n",
      "tensor([[0.3229, 0.6771]])\n",
      "tensor([[0.4332, 0.5668]])\n",
      "tensor([[0.4393, 0.5607]])\n",
      "tensor([[0.3767, 0.6233]])\n",
      "tensor([[0.1753, 0.8247]])\n",
      "tensor([[0.2941, 0.7059]])\n",
      "tensor([[0.3493, 0.6507]])\n",
      "tensor([[0.3738, 0.6262]])\n",
      "tensor([[0.5112, 0.4888]])\n",
      "tensor([[0.6787, 0.3213]])\n",
      "tensor([[0.4710, 0.5290]])\n",
      "tensor([[0.5072, 0.4928]])\n",
      "tensor([[0.4171, 0.5829]])\n",
      "tensor([[0.4833, 0.5167]])\n",
      "tensor([[0.3052, 0.6948]])\n",
      "tensor([[0.3035, 0.6965]])\n",
      "tensor([[0.4230, 0.5770]])\n",
      "tensor([[0.3576, 0.6424]])\n",
      "tensor([[0.4308, 0.5692]])\n",
      "tensor([[0.5288, 0.4712]])\n",
      "tensor([[0.5320, 0.4680]])\n",
      "tensor([[0.9385, 0.0615]])\n",
      "tensor([[0.3142, 0.6858]])\n",
      "tensor([[0.3004, 0.6996]])\n",
      "tensor([[0.6222, 0.3778]])\n",
      "tensor([[0.7420, 0.2580]])\n",
      "tensor([[0.5295, 0.4705]])\n",
      "tensor([[0.2328, 0.7672]])\n",
      "tensor([[0.2172, 0.7828]])\n",
      "tensor([[0.3065, 0.6935]])\n",
      "tensor([[0.3222, 0.6778]])\n",
      "tensor([[0.3456, 0.6544]])\n",
      "tensor([[0.3631, 0.6369]])\n",
      "tensor([[0.3564, 0.6436]])\n",
      "tensor([[0.5204, 0.4796]])\n",
      "tensor([[0.3255, 0.6745]])\n",
      "tensor([[0.3841, 0.6159]])\n",
      "tensor([[0.5427, 0.4573]])\n",
      "tensor([[0.5792, 0.4208]])\n",
      "tensor([[0.4179, 0.5821]])\n",
      "tensor([[0.3533, 0.6467]])\n",
      "tensor([[0.2700, 0.7300]])\n",
      "tensor([[0.5113, 0.4887]])\n",
      "tensor([[0.2198, 0.7802]])\n",
      "tensor([[0.6983, 0.3017]])\n",
      "tensor([[0.5443, 0.4557]])\n",
      "tensor([[0.2589, 0.7411]])\n",
      "tensor([[0.4835, 0.5165]])\n",
      "tensor([[0.3553, 0.6447]])\n",
      "tensor([[0.4303, 0.5697]])\n",
      "tensor([[0.2399, 0.7601]])\n",
      "tensor([[0.5950, 0.4050]])\n",
      "tensor([[0.1779, 0.8221]])\n",
      "tensor([[0.3414, 0.6586]])\n",
      "tensor([[0.1964, 0.8036]])\n",
      "tensor([[0.5194, 0.4806]])\n",
      "tensor([[0.3486, 0.6514]])\n",
      "tensor([[0.4038, 0.5962]])\n",
      "tensor([[0.6176, 0.3824]])\n",
      "tensor([[0.2443, 0.7557]])\n",
      "tensor([[0.4292, 0.5708]])\n",
      "tensor([[0.4115, 0.5885]])\n",
      "tensor([[0.2931, 0.7069]])\n",
      "tensor([[0.2941, 0.7059]])\n",
      "tensor([[0.3406, 0.6594]])\n",
      "tensor([[0.4931, 0.5069]])\n",
      "tensor([[0.3060, 0.6940]])\n",
      "tensor([[0.3278, 0.6722]])\n",
      "tensor([[0.2465, 0.7535]])\n",
      "tensor([[0.3154, 0.6846]])\n",
      "tensor([[0.5189, 0.4811]])\n",
      "tensor([[0.6822, 0.3178]])\n",
      "tensor([[0.2340, 0.7660]])\n",
      "tensor([[0.2650, 0.7350]])\n",
      "tensor([[0.2825, 0.7175]])\n",
      "tensor([[0.3085, 0.6915]])\n",
      "tensor([[0.2806, 0.7194]])\n",
      "tensor([[0.2555, 0.7445]])\n",
      "tensor([[0.2069, 0.7931]])\n",
      "tensor([[0.7280, 0.2720]])\n",
      "tensor([[0.2892, 0.7108]])\n",
      "tensor([[0.5322, 0.4678]])\n",
      "tensor([[0.4614, 0.5386]])\n",
      "tensor([[0.3807, 0.6193]])\n",
      "tensor([[0.3390, 0.6610]])\n",
      "tensor([[0.3393, 0.6607]])\n",
      "tensor([[0.3914, 0.6086]])\n",
      "tensor([[0.3116, 0.6884]])\n",
      "tensor([[0.5036, 0.4964]])\n",
      "tensor([[0.2886, 0.7114]])\n",
      "tensor([[0.2818, 0.7182]])\n",
      "tensor([[0.1972, 0.8028]])\n",
      "tensor([[0.2198, 0.7802]])\n",
      "tensor([[0.5876, 0.4124]])\n",
      "tensor([[0.2262, 0.7738]])\n",
      "tensor([[0.4664, 0.5336]])\n",
      "tensor([[0.6842, 0.3158]])\n",
      "tensor([[0.4138, 0.5862]])\n",
      "tensor([[0.2300, 0.7700]])\n",
      "tensor([[0.5447, 0.4553]])\n",
      "tensor([[0.6094, 0.3906]])\n",
      "tensor([[0.4029, 0.5971]])\n",
      "tensor([[0.3744, 0.6256]])\n",
      "tensor([[0.1978, 0.8022]])\n",
      "tensor([[0.4034, 0.5966]])\n",
      "tensor([[0.3529, 0.6471]])\n",
      "tensor([[0.3454, 0.6546]])\n",
      "tensor([[0.4389, 0.5611]])\n",
      "tensor([[0.3424, 0.6576]])\n",
      "tensor([[0.4473, 0.5527]])\n",
      "tensor([[0.4827, 0.5173]])\n",
      "tensor([[0.3577, 0.6423]])\n",
      "tensor([[0.3333, 0.6667]])\n",
      "tensor([[0.7114, 0.2886]])\n",
      "tensor([[0.4206, 0.5794]])\n",
      "tensor([[0.3084, 0.6916]])\n",
      "tensor([[0.7686, 0.2314]])\n",
      "tensor([[0.6969, 0.3031]])\n",
      "tensor([[0.3673, 0.6327]])\n",
      "tensor([[0.4563, 0.5437]])\n",
      "tensor([[0.7087, 0.2913]])\n",
      "tensor([[0.1434, 0.8566]])\n",
      "tensor([[0.6804, 0.3196]])\n",
      "tensor([[0.2171, 0.7829]])\n",
      "tensor([[0.3003, 0.6997]])\n",
      "tensor([[0.5591, 0.4409]])\n",
      "tensor([[0.2579, 0.7421]])\n",
      "tensor([[0.3617, 0.6383]])\n",
      "tensor([[0.2457, 0.7543]])\n",
      "tensor([[0.7534, 0.2466]])\n",
      "tensor([[0.3997, 0.6003]])\n",
      "tensor([[0.2401, 0.7599]])\n",
      "tensor([[0.3256, 0.6744]])\n",
      "tensor([[0.2913, 0.7087]])\n",
      "tensor([[0.5556, 0.4444]])\n",
      "tensor([[0.2896, 0.7104]])\n",
      "tensor([[0.4336, 0.5664]])\n",
      "tensor([[0.2934, 0.7066]])\n",
      "tensor([[0.3780, 0.6220]])\n",
      "tensor([[0.3248, 0.6752]])\n",
      "tensor([[0.5676, 0.4324]])\n",
      "tensor([[0.3953, 0.6047]])\n",
      "tensor([[0.4845, 0.5155]])\n",
      "tensor([[0.3440, 0.6560]])\n",
      "tensor([[0.3069, 0.6931]])\n",
      "tensor([[0.3746, 0.6254]])\n",
      "tensor([[0.2190, 0.7810]])\n",
      "tensor([[0.5273, 0.4727]])\n",
      "tensor([[0.4843, 0.5157]])\n",
      "tensor([[0.2519, 0.7481]])\n",
      "tensor([[0.4174, 0.5826]])\n",
      "tensor([[0.3474, 0.6526]])\n",
      "tensor([[0.6165, 0.3835]])\n",
      "tensor([[0.2419, 0.7581]])\n",
      "tensor([[0.2876, 0.7124]])\n",
      "tensor([[0.3735, 0.6265]])\n",
      "tensor([[0.2879, 0.7121]])\n",
      "tensor([[0.5093, 0.4907]])\n",
      "tensor([[0.5783, 0.4217]])\n",
      "tensor([[0.2848, 0.7152]])\n",
      "tensor([[0.2433, 0.7567]])\n",
      "tensor([[0.2799, 0.7201]])\n",
      "tensor([[0.5081, 0.4919]])\n",
      "tensor([[0.2948, 0.7052]])\n",
      "tensor([[0.4325, 0.5675]])\n",
      "tensor([[0.4068, 0.5932]])\n",
      "tensor([[0.5977, 0.4023]])\n",
      "tensor([[0.3907, 0.6093]])\n",
      "tensor([[0.3749, 0.6251]])\n",
      "tensor([[0.4842, 0.5158]])\n",
      "tensor([[0.3370, 0.6630]])\n",
      "tensor([[0.2737, 0.7263]])\n",
      "tensor([[0.5263, 0.4737]])\n",
      "tensor([[0.2631, 0.7369]])\n",
      "tensor([[0.2662, 0.7338]])\n",
      "tensor([[0.4303, 0.5697]])\n",
      "tensor([[0.5056, 0.4944]])\n",
      "tensor([[0.5476, 0.4524]])\n",
      "tensor([[0.2526, 0.7474]])\n",
      "tensor([[0.3243, 0.6757]])\n",
      "tensor([[0.4647, 0.5353]])\n",
      "tensor([[0.3747, 0.6253]])\n",
      "tensor([[0.2534, 0.7466]])\n",
      "tensor([[0.3696, 0.6304]])\n",
      "tensor([[0.3799, 0.6201]])\n"
     ]
    },
    {
     "name": "stdout",
     "output_type": "stream",
     "text": [
      "tensor([[0.3250, 0.6750]])\n",
      "tensor([[0.2740, 0.7260]])\n",
      "tensor([[0.3937, 0.6063]])\n",
      "tensor([[0.4543, 0.5457]])\n",
      "tensor([[0.4539, 0.5461]])\n",
      "tensor([[0.6244, 0.3756]])\n",
      "tensor([[0.5343, 0.4657]])\n",
      "tensor([[0.5320, 0.4680]])\n",
      "tensor([[0.4982, 0.5018]])\n",
      "tensor([[0.1922, 0.8078]])\n",
      "tensor([[0.3785, 0.6215]])\n",
      "tensor([[0.3101, 0.6899]])\n",
      "tensor([[0.2541, 0.7459]])\n",
      "tensor([[0.3779, 0.6221]])\n",
      "tensor([[0.2350, 0.7650]])\n",
      "tensor([[0.2968, 0.7032]])\n",
      "tensor([[0.4118, 0.5882]])\n",
      "tensor([[0.2016, 0.7984]])\n",
      "tensor([[0.6680, 0.3320]])\n",
      "tensor([[0.3429, 0.6571]])\n",
      "tensor([[0.3171, 0.6829]])\n",
      "tensor([[0.2457, 0.7543]])\n",
      "tensor([[0.4965, 0.5035]])\n",
      "tensor([[0.4496, 0.5504]])\n",
      "tensor([[0.7075, 0.2925]])\n",
      "tensor([[0.3112, 0.6888]])\n",
      "tensor([[0.2950, 0.7050]])\n",
      "tensor([[0.3549, 0.6451]])\n",
      "tensor([[0.4243, 0.5757]])\n",
      "tensor([[0.1852, 0.8148]])\n",
      "tensor([[0.2185, 0.7815]])\n",
      "tensor([[0.2496, 0.7504]])\n",
      "tensor([[0.1827, 0.8173]])\n",
      "tensor([[0.6646, 0.3354]])\n",
      "tensor([[0.5685, 0.4315]])\n",
      "tensor([[0.3297, 0.6703]])\n",
      "tensor([[0.3855, 0.6145]])\n",
      "tensor([[0.2455, 0.7545]])\n",
      "tensor([[0.1387, 0.8613]])\n",
      "tensor([[0.4552, 0.5448]])\n",
      "tensor([[0.3840, 0.6160]])\n",
      "tensor([[0.2186, 0.7814]])\n",
      "tensor([[0.4078, 0.5922]])\n",
      "tensor([[0.2760, 0.7240]])\n",
      "tensor([[0.3030, 0.6970]])\n",
      "tensor([[0.3662, 0.6338]])\n",
      "tensor([[0.3692, 0.6308]])\n",
      "tensor([[0.4303, 0.5697]])\n",
      "tensor([[0.3068, 0.6932]])\n",
      "tensor([[0.2926, 0.7074]])\n",
      "tensor([[0.4556, 0.5444]])\n",
      "tensor([[0.3910, 0.6090]])\n",
      "tensor([[0.2902, 0.7098]])\n",
      "tensor([[0.3258, 0.6742]])\n",
      "tensor([[0.2438, 0.7562]])\n",
      "tensor([[0.4110, 0.5890]])\n",
      "tensor([[0.2498, 0.7502]])\n",
      "tensor([[0.6166, 0.3834]])\n",
      "tensor([[0.4556, 0.5444]])\n",
      "tensor([[0.5476, 0.4524]])\n",
      "tensor([[0.2351, 0.7649]])\n",
      "tensor([[0.4056, 0.5944]])\n",
      "tensor([[0.4070, 0.5930]])\n",
      "tensor([[0.4117, 0.5883]])\n",
      "tensor([[0.2340, 0.7660]])\n",
      "tensor([[0.3283, 0.6717]])\n",
      "tensor([[0.5986, 0.4014]])\n",
      "tensor([[0.5767, 0.4233]])\n",
      "tensor([[0.5746, 0.4254]])\n",
      "tensor([[0.6357, 0.3643]])\n",
      "tensor([[0.4281, 0.5719]])\n",
      "tensor([[0.3334, 0.6666]])\n",
      "tensor([[0.4773, 0.5227]])\n",
      "tensor([[0.4047, 0.5953]])\n",
      "tensor([[0.1416, 0.8584]])\n",
      "tensor([[0.4823, 0.5177]])\n",
      "tensor([[0.4008, 0.5992]])\n",
      "tensor([[0.2870, 0.7130]])\n",
      "tensor([[0.5546, 0.4454]])\n",
      "tensor([[0.7367, 0.2634]])\n",
      "tensor([[0.4537, 0.5463]])\n",
      "tensor([[0.1907, 0.8093]])\n",
      "tensor([[0.3217, 0.6783]])\n",
      "tensor([[0.5140, 0.4860]])\n",
      "tensor([[0.5506, 0.4494]])\n",
      "tensor([[0.2963, 0.7037]])\n",
      "tensor([[0.5076, 0.4924]])\n",
      "tensor([[0.6207, 0.3793]])\n",
      "tensor([[0.2355, 0.7645]])\n",
      "tensor([[0.5813, 0.4187]])\n",
      "tensor([[0.4477, 0.5523]])\n",
      "tensor([[0.4695, 0.5305]])\n",
      "tensor([[0.3231, 0.6769]])\n",
      "tensor([[0.2342, 0.7658]])\n",
      "tensor([[0.4726, 0.5274]])\n",
      "tensor([[0.3786, 0.6214]])\n",
      "tensor([[0.3838, 0.6162]])\n",
      "tensor([[0.2664, 0.7336]])\n",
      "tensor([[0.4447, 0.5553]])\n",
      "tensor([[0.5990, 0.4010]])\n",
      "tensor([[0.6019, 0.3981]])\n",
      "tensor([[0.5936, 0.4064]])\n",
      "tensor([[0.3828, 0.6172]])\n",
      "tensor([[0.3585, 0.6415]])\n",
      "tensor([[0.2153, 0.7847]])\n",
      "tensor([[0.6264, 0.3736]])\n",
      "tensor([[0.2772, 0.7228]])\n",
      "tensor([[0.6458, 0.3542]])\n",
      "tensor([[0.3388, 0.6612]])\n",
      "tensor([[0.3562, 0.6438]])\n",
      "tensor([[0.4274, 0.5726]])\n",
      "tensor([[0.4870, 0.5130]])\n",
      "tensor([[0.6168, 0.3832]])\n",
      "tensor([[0.3404, 0.6596]])\n",
      "tensor([[0.4242, 0.5758]])\n",
      "tensor([[0.6802, 0.3198]])\n",
      "tensor([[0.4929, 0.5071]])\n",
      "tensor([[0.2585, 0.7415]])\n",
      "tensor([[0.4233, 0.5767]])\n",
      "tensor([[0.5138, 0.4862]])\n",
      "tensor([[0.3674, 0.6326]])\n",
      "tensor([[0.2641, 0.7359]])\n",
      "tensor([[0.3847, 0.6153]])\n",
      "tensor([[0.5995, 0.4005]])\n",
      "tensor([[0.5250, 0.4750]])\n",
      "tensor([[0.3066, 0.6934]])\n",
      "tensor([[0.5087, 0.4913]])\n",
      "tensor([[0.4180, 0.5820]])\n",
      "tensor([[0.4489, 0.5511]])\n",
      "tensor([[0.4705, 0.5295]])\n",
      "tensor([[0.3506, 0.6494]])\n",
      "tensor([[0.3154, 0.6846]])\n",
      "tensor([[0.4236, 0.5764]])\n",
      "tensor([[0.3129, 0.6871]])\n",
      "tensor([[0.4940, 0.5060]])\n",
      "tensor([[0.4193, 0.5807]])\n",
      "tensor([[0.2051, 0.7949]])\n",
      "tensor([[0.5354, 0.4646]])\n",
      "tensor([[0.6639, 0.3361]])\n",
      "tensor([[0.4631, 0.5369]])\n",
      "tensor([[0.2686, 0.7314]])\n",
      "tensor([[0.4083, 0.5917]])\n",
      "tensor([[0.2521, 0.7479]])\n",
      "tensor([[0.4297, 0.5703]])\n",
      "tensor([[0.3370, 0.6630]])\n",
      "tensor([[0.5189, 0.4811]])\n",
      "tensor([[0.7221, 0.2779]])\n",
      "tensor([[0.2891, 0.7109]])\n",
      "tensor([[0.4940, 0.5060]])\n",
      "tensor([[0.3922, 0.6078]])\n",
      "tensor([[0.4172, 0.5828]])\n",
      "tensor([[0.3801, 0.6199]])\n",
      "tensor([[0.4213, 0.5787]])\n",
      "tensor([[0.5026, 0.4974]])\n",
      "tensor([[0.4477, 0.5523]])\n",
      "tensor([[0.2268, 0.7732]])\n",
      "tensor([[0.2933, 0.7067]])\n",
      "tensor([[0.5280, 0.4720]])\n",
      "tensor([[0.2598, 0.7402]])\n",
      "tensor([[0.6360, 0.3640]])\n",
      "tensor([[0.5900, 0.4100]])\n",
      "tensor([[0.5814, 0.4186]])\n",
      "tensor([[0.3685, 0.6315]])\n",
      "tensor([[0.4946, 0.5054]])\n",
      "tensor([[0.4616, 0.5384]])\n",
      "tensor([[0.2379, 0.7621]])\n",
      "tensor([[0.3828, 0.6172]])\n",
      "tensor([[0.6016, 0.3984]])\n",
      "tensor([[0.2602, 0.7398]])\n",
      "tensor([[0.4793, 0.5207]])\n",
      "tensor([[0.2364, 0.7636]])\n",
      "tensor([[0.6084, 0.3916]])\n",
      "tensor([[0.4257, 0.5743]])\n",
      "tensor([[0.5187, 0.4813]])\n",
      "tensor([[0.5335, 0.4665]])\n",
      "tensor([[0.4352, 0.5648]])\n",
      "tensor([[0.3966, 0.6034]])\n",
      "tensor([[0.3246, 0.6754]])\n",
      "tensor([[0.5808, 0.4192]])\n",
      "tensor([[0.5368, 0.4632]])\n",
      "tensor([[0.5513, 0.4487]])\n",
      "tensor([[0.3472, 0.6528]])\n",
      "tensor([[0.2404, 0.7596]])\n",
      "tensor([[0.5958, 0.4042]])\n",
      "tensor([[0.5156, 0.4844]])\n",
      "tensor([[0.4771, 0.5229]])\n",
      "tensor([[0.4310, 0.5690]])\n",
      "tensor([[0.3279, 0.6721]])\n",
      "tensor([[0.4791, 0.5209]])\n",
      "tensor([[0.2486, 0.7514]])\n",
      "tensor([[0.4621, 0.5379]])\n",
      "tensor([[0.4416, 0.5584]])\n",
      "tensor([[0.5182, 0.4818]])\n",
      "tensor([[0.2042, 0.7958]])\n",
      "tensor([[0.4461, 0.5539]])\n",
      "tensor([[0.4254, 0.5746]])\n",
      "tensor([[0.4311, 0.5689]])\n",
      "tensor([[0.3791, 0.6209]])\n",
      "tensor([[0.6337, 0.3663]])\n",
      "tensor([[0.5466, 0.4534]])\n",
      "tensor([[0.2592, 0.7408]])\n",
      "tensor([[0.4087, 0.5913]])\n",
      "tensor([[0.2751, 0.7249]])\n",
      "tensor([[0.2674, 0.7326]])\n",
      "tensor([[0.3025, 0.6975]])\n",
      "tensor([[0.4710, 0.5290]])\n",
      "tensor([[0.3058, 0.6942]])\n",
      "tensor([[0.3064, 0.6936]])\n",
      "tensor([[0.5315, 0.4685]])\n",
      "tensor([[0.2059, 0.7941]])\n",
      "tensor([[0.4759, 0.5241]])\n",
      "tensor([[0.4886, 0.5114]])\n",
      "tensor([[0.5311, 0.4689]])\n",
      "tensor([[0.2891, 0.7109]])\n",
      "tensor([[0.4325, 0.5675]])\n",
      "tensor([[0.5257, 0.4743]])\n",
      "tensor([[0.6017, 0.3983]])\n",
      "tensor([[0.3844, 0.6156]])\n",
      "tensor([[0.2380, 0.7620]])\n",
      "tensor([[0.5054, 0.4946]])\n",
      "tensor([[0.2083, 0.7917]])\n",
      "tensor([[0.2529, 0.7471]])\n",
      "tensor([[0.3188, 0.6812]])\n",
      "tensor([[0.3179, 0.6821]])\n",
      "tensor([[0.3848, 0.6152]])\n",
      "tensor([[0.3792, 0.6208]])\n",
      "tensor([[0.3524, 0.6476]])\n",
      "tensor([[0.4397, 0.5603]])\n",
      "tensor([[0.3051, 0.6949]])\n",
      "tensor([[0.3735, 0.6265]])\n",
      "tensor([[0.3370, 0.6630]])\n",
      "tensor([[0.2982, 0.7018]])\n",
      "tensor([[0.4641, 0.5359]])\n",
      "tensor([[0.2808, 0.7192]])\n",
      "tensor([[0.3678, 0.6322]])\n",
      "tensor([[0.3703, 0.6297]])\n",
      "tensor([[0.5294, 0.4706]])\n",
      "tensor([[0.4215, 0.5785]])\n",
      "tensor([[0.3009, 0.6991]])\n",
      "tensor([[0.5552, 0.4448]])\n",
      "tensor([[0.6761, 0.3239]])\n",
      "tensor([[0.4661, 0.5339]])\n",
      "tensor([[0.3514, 0.6486]])\n",
      "tensor([[0.4488, 0.5512]])\n",
      "tensor([[0.4655, 0.5345]])\n",
      "tensor([[0.2311, 0.7689]])\n",
      "tensor([[0.3831, 0.6169]])\n",
      "tensor([[0.2879, 0.7121]])\n",
      "tensor([[0.6633, 0.3367]])\n",
      "tensor([[0.3046, 0.6954]])\n",
      "tensor([[0.3760, 0.6240]])\n",
      "tensor([[0.3462, 0.6538]])\n",
      "tensor([[0.3524, 0.6476]])\n",
      "tensor([[0.2760, 0.7240]])\n",
      "tensor([[0.2468, 0.7532]])\n",
      "tensor([[0.5155, 0.4845]])\n",
      "tensor([[0.3588, 0.6412]])\n",
      "tensor([[0.3480, 0.6520]])\n",
      "tensor([[0.3973, 0.6027]])\n",
      "tensor([[0.3912, 0.6088]])\n",
      "tensor([[0.6950, 0.3050]])\n",
      "tensor([[0.4126, 0.5874]])\n",
      "tensor([[0.3507, 0.6493]])\n",
      "tensor([[0.5287, 0.4713]])\n",
      "tensor([[0.4659, 0.5341]])\n",
      "tensor([[0.3497, 0.6503]])\n",
      "tensor([[0.5252, 0.4748]])\n",
      "tensor([[0.6871, 0.3129]])\n",
      "tensor([[0.1962, 0.8038]])\n",
      "tensor([[0.5200, 0.4800]])\n",
      "tensor([[0.4739, 0.5261]])\n",
      "tensor([[0.3192, 0.6808]])\n",
      "tensor([[0.3516, 0.6484]])\n",
      "tensor([[0.4936, 0.5064]])\n",
      "tensor([[0.6396, 0.3604]])\n",
      "tensor([[0.4288, 0.5712]])\n",
      "tensor([[0.3270, 0.6730]])\n",
      "tensor([[0.5042, 0.4958]])\n",
      "tensor([[0.7688, 0.2312]])\n",
      "tensor([[0.3700, 0.6300]])\n",
      "tensor([[0.5785, 0.4215]])\n",
      "tensor([[0.5494, 0.4506]])\n",
      "tensor([[0.5228, 0.4772]])\n",
      "tensor([[0.3717, 0.6283]])\n",
      "tensor([[0.3827, 0.6173]])\n",
      "tensor([[0.3872, 0.6128]])\n",
      "tensor([[0.3581, 0.6419]])\n",
      "tensor([[0.5169, 0.4831]])\n",
      "tensor([[0.3531, 0.6469]])\n",
      "tensor([[0.5052, 0.4948]])\n",
      "tensor([[0.6189, 0.3811]])\n",
      "tensor([[0.2177, 0.7823]])\n",
      "tensor([[0.4650, 0.5350]])\n",
      "tensor([[0.4293, 0.5707]])\n",
      "tensor([[0.2855, 0.7145]])\n",
      "tensor([[0.3385, 0.6615]])\n",
      "tensor([[0.5596, 0.4404]])\n",
      "tensor([[0.3154, 0.6846]])\n",
      "tensor([[0.5143, 0.4857]])\n",
      "tensor([[0.4090, 0.5910]])\n",
      "tensor([[0.1883, 0.8117]])\n",
      "tensor([[0.3679, 0.6321]])\n",
      "tensor([[0.5008, 0.4992]])\n",
      "tensor([[0.5339, 0.4661]])\n"
     ]
    },
    {
     "name": "stdout",
     "output_type": "stream",
     "text": [
      "tensor([[0.5763, 0.4237]])\n",
      "tensor([[0.2674, 0.7326]])\n",
      "tensor([[0.2262, 0.7738]])\n",
      "tensor([[0.4911, 0.5089]])\n",
      "tensor([[0.5361, 0.4639]])\n",
      "tensor([[0.3630, 0.6370]])\n",
      "tensor([[0.2357, 0.7643]])\n",
      "tensor([[0.6276, 0.3724]])\n",
      "tensor([[0.3438, 0.6562]])\n",
      "tensor([[0.2347, 0.7653]])\n",
      "tensor([[0.2994, 0.7006]])\n",
      "tensor([[0.3876, 0.6124]])\n",
      "tensor([[0.4356, 0.5644]])\n",
      "tensor([[0.4220, 0.5780]])\n",
      "tensor([[0.7578, 0.2422]])\n",
      "tensor([[0.4568, 0.5432]])\n",
      "tensor([[0.5884, 0.4116]])\n",
      "tensor([[0.6636, 0.3364]])\n",
      "tensor([[0.3604, 0.6396]])\n",
      "tensor([[0.3104, 0.6896]])\n",
      "tensor([[0.3468, 0.6532]])\n",
      "tensor([[0.4778, 0.5222]])\n",
      "tensor([[0.4764, 0.5236]])\n",
      "tensor([[0.3787, 0.6213]])\n",
      "tensor([[0.6165, 0.3835]])\n",
      "tensor([[0.4572, 0.5428]])\n",
      "tensor([[0.5493, 0.4507]])\n",
      "tensor([[0.3748, 0.6252]])\n",
      "tensor([[0.4546, 0.5454]])\n",
      "tensor([[0.3260, 0.6740]])\n",
      "tensor([[0.5753, 0.4247]])\n",
      "tensor([[0.3895, 0.6105]])\n",
      "tensor([[0.3991, 0.6009]])\n",
      "tensor([[0.5477, 0.4523]])\n",
      "tensor([[0.4522, 0.5478]])\n",
      "tensor([[0.3895, 0.6105]])\n",
      "tensor([[0.4124, 0.5876]])\n",
      "tensor([[0.4344, 0.5656]])\n",
      "tensor([[0.6606, 0.3394]])\n",
      "tensor([[0.3386, 0.6614]])\n",
      "tensor([[0.6891, 0.3109]])\n",
      "tensor([[0.6064, 0.3936]])\n",
      "tensor([[0.2408, 0.7592]])\n",
      "tensor([[0.4450, 0.5550]])\n",
      "tensor([[0.3969, 0.6031]])\n",
      "tensor([[0.6185, 0.3815]])\n",
      "tensor([[0.5336, 0.4664]])\n",
      "tensor([[0.3188, 0.6812]])\n",
      "tensor([[0.7243, 0.2757]])\n",
      "tensor([[0.3670, 0.6330]])\n",
      "tensor([[0.7280, 0.2720]])\n",
      "tensor([[0.5859, 0.4141]])\n",
      "tensor([[0.2903, 0.7097]])\n",
      "tensor([[0.3203, 0.6797]])\n",
      "tensor([[0.3459, 0.6541]])\n",
      "tensor([[0.3776, 0.6224]])\n",
      "tensor([[0.3609, 0.6391]])\n",
      "tensor([[0.3718, 0.6282]])\n",
      "tensor([[0.7713, 0.2287]])\n",
      "tensor([[0.5409, 0.4591]])\n",
      "tensor([[0.4201, 0.5799]])\n",
      "tensor([[0.5937, 0.4063]])\n",
      "tensor([[0.3929, 0.6071]])\n",
      "tensor([[0.4626, 0.5374]])\n",
      "tensor([[0.3843, 0.6157]])\n",
      "tensor([[0.3368, 0.6632]])\n",
      "tensor([[0.3956, 0.6044]])\n",
      "tensor([[0.2893, 0.7107]])\n",
      "tensor([[0.4198, 0.5802]])\n",
      "tensor([[0.5659, 0.4341]])\n",
      "tensor([[0.3376, 0.6624]])\n",
      "tensor([[0.5017, 0.4983]])\n",
      "tensor([[0.3379, 0.6621]])\n",
      "tensor([[0.5053, 0.4947]])\n",
      "tensor([[0.2304, 0.7696]])\n",
      "tensor([[0.5159, 0.4841]])\n",
      "tensor([[0.3778, 0.6222]])\n",
      "tensor([[0.5854, 0.4146]])\n",
      "tensor([[0.2973, 0.7027]])\n",
      "tensor([[0.3649, 0.6351]])\n",
      "tensor([[0.3550, 0.6450]])\n",
      "tensor([[0.5715, 0.4285]])\n",
      "tensor([[0.5816, 0.4184]])\n",
      "tensor([[0.2309, 0.7691]])\n",
      "tensor([[0.3758, 0.6242]])\n",
      "tensor([[0.5397, 0.4603]])\n",
      "tensor([[0.3327, 0.6673]])\n",
      "tensor([[0.4961, 0.5039]])\n",
      "tensor([[0.2224, 0.7776]])\n",
      "tensor([[0.4287, 0.5713]])\n",
      "tensor([[0.5597, 0.4403]])\n",
      "tensor([[0.3009, 0.6991]])\n",
      "tensor([[0.2945, 0.7055]])\n",
      "tensor([[0.5351, 0.4649]])\n",
      "tensor([[0.3284, 0.6716]])\n",
      "tensor([[0.6607, 0.3393]])\n",
      "tensor([[0.3316, 0.6684]])\n",
      "tensor([[0.3831, 0.6169]])\n",
      "tensor([[0.4266, 0.5734]])\n",
      "tensor([[0.4760, 0.5240]])\n",
      "tensor([[0.6618, 0.3382]])\n",
      "tensor([[0.2243, 0.7757]])\n",
      "tensor([[0.2430, 0.7570]])\n",
      "tensor([[0.2008, 0.7992]])\n",
      "tensor([[0.3610, 0.6390]])\n",
      "tensor([[0.5214, 0.4786]])\n",
      "tensor([[0.3077, 0.6923]])\n",
      "tensor([[0.5457, 0.4543]])\n",
      "tensor([[0.3809, 0.6191]])\n",
      "tensor([[0.3740, 0.6260]])\n",
      "tensor([[0.4560, 0.5440]])\n",
      "tensor([[0.4493, 0.5507]])\n",
      "tensor([[0.4949, 0.5051]])\n",
      "tensor([[0.5288, 0.4712]])\n",
      "tensor([[0.2051, 0.7949]])\n",
      "tensor([[0.2736, 0.7264]])\n",
      "tensor([[0.3420, 0.6580]])\n",
      "tensor([[0.5139, 0.4861]])\n",
      "tensor([[0.3941, 0.6059]])\n",
      "tensor([[0.4286, 0.5714]])\n",
      "tensor([[0.2695, 0.7305]])\n",
      "tensor([[0.4946, 0.5054]])\n",
      "tensor([[0.2956, 0.7044]])\n",
      "tensor([[0.3365, 0.6635]])\n",
      "tensor([[0.2692, 0.7308]])\n",
      "tensor([[0.5435, 0.4565]])\n",
      "tensor([[0.5136, 0.4864]])\n",
      "tensor([[0.3946, 0.6054]])\n",
      "tensor([[0.5056, 0.4944]])\n",
      "tensor([[0.3701, 0.6299]])\n",
      "tensor([[0.5492, 0.4508]])\n",
      "tensor([[0.2892, 0.7108]])\n",
      "tensor([[0.2307, 0.7693]])\n",
      "tensor([[0.3781, 0.6219]])\n",
      "tensor([[0.4151, 0.5849]])\n",
      "tensor([[0.4416, 0.5584]])\n",
      "tensor([[0.3175, 0.6825]])\n",
      "tensor([[0.3812, 0.6188]])\n",
      "tensor([[0.3479, 0.6521]])\n",
      "tensor([[0.3059, 0.6941]])\n",
      "tensor([[0.6064, 0.3936]])\n",
      "tensor([[0.3343, 0.6657]])\n",
      "tensor([[0.3201, 0.6799]])\n",
      "tensor([[0.4428, 0.5572]])\n",
      "tensor([[0.3469, 0.6531]])\n",
      "tensor([[0.2331, 0.7669]])\n",
      "tensor([[0.4139, 0.5861]])\n",
      "tensor([[0.3245, 0.6755]])\n",
      "tensor([[0.5050, 0.4950]])\n",
      "tensor([[0.3630, 0.6370]])\n",
      "tensor([[0.4757, 0.5243]])\n",
      "tensor([[0.4024, 0.5976]])\n",
      "tensor([[0.2842, 0.7158]])\n",
      "tensor([[0.2909, 0.7091]])\n",
      "tensor([[0.2898, 0.7102]])\n",
      "tensor([[0.4993, 0.5007]])\n",
      "tensor([[0.3245, 0.6755]])\n",
      "tensor([[0.5356, 0.4644]])\n",
      "tensor([[0.5100, 0.4900]])\n",
      "tensor([[0.4739, 0.5261]])\n",
      "tensor([[0.3968, 0.6032]])\n",
      "tensor([[0.2675, 0.7325]])\n",
      "tensor([[0.5977, 0.4023]])\n",
      "tensor([[0.4422, 0.5578]])\n",
      "tensor([[0.3765, 0.6235]])\n",
      "tensor([[0.3556, 0.6444]])\n",
      "tensor([[0.4336, 0.5664]])\n",
      "tensor([[0.2221, 0.7779]])\n",
      "tensor([[0.4539, 0.5461]])\n",
      "tensor([[0.5700, 0.4300]])\n",
      "tensor([[0.2937, 0.7063]])\n",
      "tensor([[0.4725, 0.5275]])\n",
      "tensor([[0.4554, 0.5446]])\n",
      "tensor([[0.3828, 0.6172]])\n",
      "tensor([[0.3930, 0.6070]])\n",
      "tensor([[0.2681, 0.7319]])\n",
      "tensor([[0.2736, 0.7264]])\n",
      "tensor([[0.5534, 0.4466]])\n",
      "tensor([[0.5828, 0.4172]])\n",
      "tensor([[0.2104, 0.7896]])\n",
      "tensor([[0.2806, 0.7194]])\n",
      "tensor([[0.5922, 0.4078]])\n",
      "tensor([[0.4233, 0.5767]])\n",
      "tensor([[0.2203, 0.7797]])\n",
      "tensor([[0.2791, 0.7209]])\n",
      "tensor([[0.2913, 0.7087]])\n",
      "tensor([[0.2675, 0.7325]])\n",
      "tensor([[0.3223, 0.6777]])\n",
      "tensor([[0.3675, 0.6325]])\n",
      "tensor([[0.5281, 0.4719]])\n",
      "tensor([[0.5551, 0.4449]])\n",
      "tensor([[0.2153, 0.7847]])\n",
      "tensor([[0.5667, 0.4333]])\n",
      "tensor([[0.3642, 0.6358]])\n",
      "tensor([[0.5011, 0.4989]])\n",
      "tensor([[0.3245, 0.6755]])\n",
      "tensor([[0.4312, 0.5688]])\n",
      "tensor([[0.3513, 0.6487]])\n",
      "tensor([[0.5481, 0.4519]])\n",
      "tensor([[0.3407, 0.6593]])\n",
      "tensor([[0.2631, 0.7369]])\n",
      "tensor([[0.2452, 0.7548]])\n",
      "tensor([[0.2459, 0.7541]])\n",
      "tensor([[0.4138, 0.5862]])\n",
      "tensor([[0.2408, 0.7592]])\n",
      "tensor([[0.4135, 0.5865]])\n",
      "tensor([[0.2908, 0.7092]])\n",
      "tensor([[0.3445, 0.6555]])\n",
      "tensor([[0.7523, 0.2477]])\n",
      "tensor([[0.4977, 0.5023]])\n",
      "tensor([[0.5864, 0.4136]])\n",
      "tensor([[0.5679, 0.4321]])\n",
      "tensor([[0.2456, 0.7544]])\n",
      "tensor([[0.3017, 0.6983]])\n",
      "tensor([[0.3706, 0.6294]])\n",
      "tensor([[0.2911, 0.7089]])\n",
      "tensor([[0.3018, 0.6982]])\n",
      "tensor([[0.3953, 0.6047]])\n",
      "tensor([[0.3910, 0.6090]])\n",
      "tensor([[0.5882, 0.4118]])\n",
      "tensor([[0.2638, 0.7362]])\n",
      "tensor([[0.5142, 0.4858]])\n",
      "tensor([[0.2369, 0.7631]])\n",
      "tensor([[0.5361, 0.4639]])\n",
      "tensor([[0.4505, 0.5495]])\n",
      "tensor([[0.5632, 0.4368]])\n",
      "tensor([[0.3747, 0.6253]])\n",
      "tensor([[0.5265, 0.4735]])\n",
      "tensor([[0.3020, 0.6980]])\n",
      "tensor([[0.2555, 0.7445]])\n",
      "tensor([[0.5110, 0.4890]])\n",
      "tensor([[0.4668, 0.5332]])\n",
      "tensor([[0.7955, 0.2045]])\n",
      "tensor([[0.3812, 0.6188]])\n",
      "tensor([[0.4008, 0.5992]])\n",
      "tensor([[0.5339, 0.4661]])\n",
      "tensor([[0.4779, 0.5221]])\n",
      "tensor([[0.2242, 0.7758]])\n",
      "tensor([[0.2913, 0.7087]])\n",
      "tensor([[0.3150, 0.6850]])\n",
      "tensor([[0.5202, 0.4798]])\n",
      "tensor([[0.2753, 0.7247]])\n",
      "tensor([[0.3705, 0.6295]])\n",
      "tensor([[0.2225, 0.7775]])\n",
      "tensor([[0.4098, 0.5902]])\n",
      "tensor([[0.3505, 0.6495]])\n",
      "tensor([[0.2792, 0.7208]])\n",
      "tensor([[0.6282, 0.3718]])\n",
      "tensor([[0.3133, 0.6867]])\n",
      "tensor([[0.4045, 0.5955]])\n",
      "tensor([[0.4741, 0.5259]])\n",
      "tensor([[0.4560, 0.5440]])\n",
      "tensor([[0.5257, 0.4743]])\n",
      "tensor([[0.2929, 0.7071]])\n",
      "tensor([[0.4088, 0.5912]])\n",
      "tensor([[0.2628, 0.7372]])\n",
      "tensor([[0.2513, 0.7487]])\n",
      "tensor([[0.4215, 0.5785]])\n",
      "tensor([[0.5458, 0.4542]])\n",
      "tensor([[0.3028, 0.6972]])\n",
      "tensor([[0.4959, 0.5041]])\n",
      "tensor([[0.3197, 0.6803]])\n",
      "tensor([[0.4637, 0.5363]])\n",
      "tensor([[0.4094, 0.5906]])\n",
      "tensor([[0.3661, 0.6339]])\n",
      "tensor([[0.2704, 0.7296]])\n",
      "tensor([[0.3733, 0.6267]])\n",
      "tensor([[0.2691, 0.7309]])\n",
      "tensor([[0.2786, 0.7214]])\n",
      "tensor([[0.5705, 0.4295]])\n",
      "tensor([[0.5533, 0.4467]])\n",
      "tensor([[0.3543, 0.6457]])\n",
      "tensor([[0.4078, 0.5922]])\n",
      "tensor([[0.4607, 0.5393]])\n",
      "tensor([[0.3509, 0.6491]])\n",
      "tensor([[0.3176, 0.6824]])\n",
      "tensor([[0.2308, 0.7692]])\n",
      "tensor([[0.2485, 0.7515]])\n",
      "tensor([[0.4419, 0.5581]])\n",
      "tensor([[0.3007, 0.6993]])\n",
      "tensor([[0.3235, 0.6765]])\n",
      "tensor([[0.2921, 0.7079]])\n",
      "tensor([[0.2357, 0.7643]])\n",
      "tensor([[0.3643, 0.6357]])\n",
      "tensor([[0.2998, 0.7002]])\n",
      "tensor([[0.2887, 0.7113]])\n",
      "tensor([[0.3596, 0.6404]])\n",
      "tensor([[0.5980, 0.4020]])\n",
      "tensor([[0.2753, 0.7247]])\n",
      "tensor([[0.2586, 0.7414]])\n",
      "tensor([[0.3236, 0.6764]])\n",
      "tensor([[0.6859, 0.3141]])\n",
      "tensor([[0.3751, 0.6249]])\n",
      "tensor([[0.2989, 0.7011]])\n",
      "tensor([[0.3118, 0.6882]])\n",
      "tensor([[0.2907, 0.7093]])\n",
      "tensor([[0.4846, 0.5154]])\n",
      "tensor([[0.4596, 0.5404]])\n",
      "tensor([[0.2285, 0.7715]])\n",
      "tensor([[0.3331, 0.6669]])\n",
      "tensor([[0.5611, 0.4389]])\n",
      "tensor([[0.3640, 0.6360]])\n",
      "tensor([[0.3115, 0.6885]])\n",
      "tensor([[0.3034, 0.6966]])\n"
     ]
    },
    {
     "name": "stdout",
     "output_type": "stream",
     "text": [
      "tensor([[0.5396, 0.4604]])\n",
      "tensor([[0.3966, 0.6034]])\n",
      "tensor([[0.2686, 0.7314]])\n",
      "tensor([[0.4769, 0.5231]])\n",
      "tensor([[0.4214, 0.5786]])\n",
      "tensor([[0.3226, 0.6774]])\n",
      "tensor([[0.4107, 0.5893]])\n",
      "tensor([[0.2639, 0.7361]])\n",
      "tensor([[0.4267, 0.5733]])\n",
      "tensor([[0.2467, 0.7533]])\n",
      "tensor([[0.3752, 0.6248]])\n",
      "tensor([[0.2875, 0.7125]])\n",
      "tensor([[0.7233, 0.2767]])\n",
      "tensor([[0.5614, 0.4386]])\n",
      "tensor([[0.2668, 0.7332]])\n",
      "tensor([[0.3960, 0.6040]])\n",
      "tensor([[0.3228, 0.6772]])\n",
      "tensor([[0.2786, 0.7214]])\n",
      "tensor([[0.2546, 0.7454]])\n",
      "tensor([[0.4372, 0.5628]])\n",
      "tensor([[0.3893, 0.6107]])\n",
      "tensor([[0.5344, 0.4656]])\n",
      "tensor([[0.6520, 0.3480]])\n",
      "tensor([[0.2883, 0.7117]])\n",
      "tensor([[0.2216, 0.7784]])\n",
      "tensor([[0.4550, 0.5450]])\n",
      "tensor([[0.4211, 0.5789]])\n",
      "tensor([[0.3182, 0.6818]])\n",
      "tensor([[0.4124, 0.5876]])\n",
      "tensor([[0.3021, 0.6979]])\n",
      "tensor([[0.5313, 0.4687]])\n",
      "tensor([[0.1810, 0.8190]])\n",
      "tensor([[0.3314, 0.6686]])\n",
      "tensor([[0.4294, 0.5706]])\n",
      "tensor([[0.3852, 0.6148]])\n",
      "tensor([[0.6606, 0.3394]])\n",
      "tensor([[0.5421, 0.4579]])\n",
      "tensor([[0.3793, 0.6207]])\n",
      "tensor([[0.3274, 0.6726]])\n",
      "tensor([[0.6333, 0.3667]])\n",
      "tensor([[0.6876, 0.3124]])\n",
      "tensor([[0.3503, 0.6497]])\n",
      "tensor([[0.5597, 0.4403]])\n",
      "tensor([[0.3729, 0.6271]])\n",
      "tensor([[0.3641, 0.6359]])\n",
      "tensor([[0.4352, 0.5648]])\n",
      "tensor([[0.3552, 0.6448]])\n",
      "tensor([[0.3499, 0.6501]])\n",
      "tensor([[0.3444, 0.6556]])\n",
      "tensor([[0.3879, 0.6121]])\n",
      "tensor([[0.2722, 0.7278]])\n",
      "tensor([[0.3834, 0.6166]])\n",
      "tensor([[0.4084, 0.5916]])\n",
      "tensor([[0.2715, 0.7285]])\n",
      "tensor([[0.2740, 0.7260]])\n",
      "tensor([[0.3344, 0.6656]])\n",
      "tensor([[0.2538, 0.7462]])\n",
      "tensor([[0.4419, 0.5581]])\n",
      "tensor([[0.3278, 0.6722]])\n",
      "tensor([[0.5517, 0.4483]])\n",
      "tensor([[0.4847, 0.5153]])\n",
      "tensor([[0.5585, 0.4415]])\n",
      "tensor([[0.2332, 0.7668]])\n",
      "tensor([[0.3642, 0.6358]])\n",
      "tensor([[0.3472, 0.6528]])\n",
      "tensor([[0.4094, 0.5906]])\n",
      "tensor([[0.2167, 0.7833]])\n",
      "tensor([[0.3860, 0.6140]])\n",
      "tensor([[0.2582, 0.7418]])\n",
      "tensor([[0.5892, 0.4108]])\n",
      "tensor([[0.3536, 0.6464]])\n",
      "tensor([[0.3689, 0.6311]])\n",
      "tensor([[0.3655, 0.6345]])\n",
      "tensor([[0.2667, 0.7333]])\n",
      "tensor([[0.3204, 0.6796]])\n",
      "tensor([[0.2573, 0.7427]])\n",
      "tensor([[0.6710, 0.3290]])\n",
      "tensor([[0.4015, 0.5985]])\n",
      "tensor([[0.4559, 0.5441]])\n",
      "tensor([[0.4861, 0.5139]])\n",
      "tensor([[0.6444, 0.3556]])\n",
      "tensor([[0.5628, 0.4372]])\n",
      "tensor([[0.4670, 0.5330]])\n",
      "tensor([[0.2435, 0.7565]])\n",
      "tensor([[0.3581, 0.6419]])\n",
      "tensor([[0.2950, 0.7050]])\n",
      "tensor([[0.2533, 0.7467]])\n",
      "tensor([[0.4674, 0.5326]])\n",
      "tensor([[0.4852, 0.5148]])\n",
      "tensor([[0.3109, 0.6891]])\n",
      "tensor([[0.3810, 0.6190]])\n",
      "tensor([[0.2032, 0.7968]])\n",
      "tensor([[0.2263, 0.7737]])\n",
      "tensor([[0.2789, 0.7211]])\n",
      "tensor([[0.2380, 0.7620]])\n",
      "tensor([[0.2999, 0.7001]])\n",
      "tensor([[0.4462, 0.5538]])\n",
      "tensor([[0.2186, 0.7814]])\n",
      "tensor([[0.3102, 0.6898]])\n",
      "tensor([[0.3827, 0.6173]])\n",
      "tensor([[0.6043, 0.3957]])\n",
      "tensor([[0.4641, 0.5359]])\n",
      "tensor([[0.3095, 0.6905]])\n",
      "tensor([[0.2471, 0.7529]])\n",
      "tensor([[0.4492, 0.5508]])\n",
      "tensor([[0.5453, 0.4547]])\n",
      "tensor([[0.2032, 0.7968]])\n",
      "tensor([[0.3360, 0.6640]])\n",
      "tensor([[0.2601, 0.7399]])\n",
      "tensor([[0.4016, 0.5984]])\n",
      "tensor([[0.4596, 0.5404]])\n",
      "tensor([[0.5064, 0.4936]])\n",
      "tensor([[0.5765, 0.4235]])\n",
      "tensor([[0.2707, 0.7293]])\n",
      "tensor([[0.5449, 0.4551]])\n",
      "tensor([[0.5106, 0.4894]])\n",
      "tensor([[0.3900, 0.6100]])\n",
      "tensor([[0.3162, 0.6838]])\n",
      "tensor([[0.6572, 0.3428]])\n",
      "tensor([[0.5402, 0.4598]])\n",
      "tensor([[0.2066, 0.7934]])\n",
      "tensor([[0.4709, 0.5291]])\n",
      "tensor([[0.2500, 0.7500]])\n",
      "tensor([[0.5701, 0.4299]])\n",
      "tensor([[0.2649, 0.7351]])\n",
      "tensor([[0.2981, 0.7019]])\n",
      "tensor([[0.2383, 0.7617]])\n",
      "tensor([[0.3582, 0.6418]])\n",
      "tensor([[0.9165, 0.0835]])\n",
      "tensor([[0.3525, 0.6475]])\n",
      "tensor([[0.4154, 0.5846]])\n",
      "tensor([[0.3908, 0.6092]])\n",
      "tensor([[0.5317, 0.4683]])\n",
      "tensor([[0.6134, 0.3866]])\n",
      "tensor([[0.2744, 0.7256]])\n",
      "tensor([[0.3155, 0.6845]])\n",
      "tensor([[0.4794, 0.5206]])\n",
      "tensor([[0.1860, 0.8140]])\n",
      "tensor([[0.2672, 0.7328]])\n",
      "tensor([[0.3048, 0.6952]])\n",
      "tensor([[0.6115, 0.3885]])\n",
      "tensor([[0.6312, 0.3688]])\n",
      "tensor([[0.4622, 0.5378]])\n",
      "tensor([[0.4756, 0.5244]])\n",
      "tensor([[0.6288, 0.3712]])\n",
      "tensor([[0.2634, 0.7366]])\n",
      "tensor([[0.4831, 0.5169]])\n",
      "tensor([[0.3425, 0.6575]])\n",
      "tensor([[0.4429, 0.5571]])\n",
      "tensor([[0.4588, 0.5412]])\n",
      "tensor([[0.2083, 0.7917]])\n",
      "tensor([[0.6955, 0.3045]])\n",
      "tensor([[0.5139, 0.4861]])\n",
      "tensor([[0.3861, 0.6139]])\n",
      "tensor([[0.4768, 0.5232]])\n",
      "tensor([[0.2219, 0.7781]])\n",
      "tensor([[0.4033, 0.5967]])\n",
      "tensor([[0.6136, 0.3864]])\n",
      "tensor([[0.4087, 0.5913]])\n",
      "tensor([[0.5572, 0.4428]])\n",
      "tensor([[0.5410, 0.4590]])\n",
      "tensor([[0.4776, 0.5224]])\n",
      "tensor([[0.2565, 0.7435]])\n",
      "tensor([[0.3586, 0.6414]])\n",
      "tensor([[0.3037, 0.6963]])\n",
      "tensor([[0.2875, 0.7125]])\n",
      "tensor([[0.6214, 0.3786]])\n",
      "tensor([[0.4462, 0.5538]])\n",
      "tensor([[0.4688, 0.5312]])\n",
      "tensor([[0.4316, 0.5684]])\n",
      "tensor([[0.4073, 0.5927]])\n",
      "tensor([[0.4181, 0.5819]])\n",
      "tensor([[0.3310, 0.6690]])\n",
      "tensor([[0.6256, 0.3744]])\n",
      "tensor([[0.2950, 0.7050]])\n",
      "tensor([[0.7888, 0.2112]])\n",
      "tensor([[0.3461, 0.6539]])\n",
      "tensor([[0.2007, 0.7993]])\n",
      "tensor([[0.3180, 0.6820]])\n",
      "tensor([[0.2710, 0.7290]])\n",
      "tensor([[0.4661, 0.5339]])\n",
      "tensor([[0.6445, 0.3555]])\n",
      "tensor([[0.5422, 0.4578]])\n",
      "tensor([[0.6624, 0.3376]])\n",
      "tensor([[0.3585, 0.6415]])\n",
      "tensor([[0.3454, 0.6546]])\n",
      "tensor([[0.5675, 0.4325]])\n",
      "tensor([[0.3999, 0.6001]])\n",
      "tensor([[0.3392, 0.6608]])\n",
      "tensor([[0.5726, 0.4274]])\n",
      "tensor([[0.4312, 0.5688]])\n",
      "tensor([[0.5205, 0.4795]])\n",
      "tensor([[0.6443, 0.3557]])\n",
      "tensor([[0.2831, 0.7169]])\n",
      "tensor([[0.3391, 0.6609]])\n",
      "tensor([[0.5664, 0.4336]])\n",
      "tensor([[0.4461, 0.5539]])\n",
      "tensor([[0.2420, 0.7580]])\n",
      "tensor([[0.3844, 0.6156]])\n",
      "tensor([[0.3702, 0.6298]])\n",
      "tensor([[0.2913, 0.7087]])\n",
      "tensor([[0.5187, 0.4813]])\n",
      "tensor([[0.2706, 0.7294]])\n",
      "tensor([[0.4013, 0.5987]])\n",
      "tensor([[0.3099, 0.6901]])\n",
      "tensor([[0.5787, 0.4213]])\n",
      "tensor([[0.4253, 0.5747]])\n",
      "tensor([[0.6543, 0.3457]])\n",
      "tensor([[0.2525, 0.7475]])\n",
      "tensor([[0.2979, 0.7021]])\n",
      "tensor([[0.4348, 0.5652]])\n",
      "tensor([[0.2270, 0.7730]])\n",
      "tensor([[0.6242, 0.3758]])\n",
      "tensor([[0.2497, 0.7503]])\n",
      "tensor([[0.5875, 0.4125]])\n",
      "tensor([[0.7504, 0.2496]])\n",
      "tensor([[0.3108, 0.6892]])\n",
      "tensor([[0.2855, 0.7145]])\n",
      "tensor([[0.6033, 0.3967]])\n",
      "tensor([[0.6028, 0.3972]])\n",
      "tensor([[0.3604, 0.6396]])\n",
      "tensor([[0.3579, 0.6421]])\n",
      "tensor([[0.2857, 0.7143]])\n",
      "tensor([[0.4187, 0.5813]])\n",
      "tensor([[0.4867, 0.5133]])\n",
      "tensor([[0.3831, 0.6169]])\n",
      "tensor([[0.5994, 0.4006]])\n",
      "tensor([[0.3349, 0.6651]])\n",
      "tensor([[0.5666, 0.4334]])\n",
      "tensor([[0.3145, 0.6855]])\n",
      "tensor([[0.3602, 0.6398]])\n",
      "tensor([[0.4521, 0.5479]])\n",
      "tensor([[0.2679, 0.7321]])\n",
      "tensor([[0.5838, 0.4162]])\n",
      "tensor([[0.2760, 0.7240]])\n",
      "tensor([[0.3960, 0.6040]])\n",
      "tensor([[0.3834, 0.6166]])\n",
      "tensor([[0.3266, 0.6734]])\n",
      "tensor([[0.4932, 0.5068]])\n",
      "tensor([[0.3191, 0.6809]])\n",
      "tensor([[0.4294, 0.5706]])\n",
      "tensor([[0.4921, 0.5079]])\n",
      "tensor([[0.1966, 0.8034]])\n",
      "tensor([[0.4616, 0.5384]])\n",
      "tensor([[0.3348, 0.6652]])\n",
      "tensor([[0.2698, 0.7302]])\n",
      "tensor([[0.3045, 0.6955]])\n",
      "tensor([[0.2974, 0.7026]])\n",
      "tensor([[0.4690, 0.5310]])\n",
      "tensor([[0.3814, 0.6186]])\n",
      "tensor([[0.4734, 0.5266]])\n",
      "tensor([[0.2093, 0.7907]])\n",
      "tensor([[0.2185, 0.7815]])\n",
      "tensor([[0.1893, 0.8107]])\n",
      "tensor([[0.8564, 0.1436]])\n",
      "tensor([[0.4148, 0.5852]])\n",
      "tensor([[0.6157, 0.3843]])\n",
      "tensor([[0.2049, 0.7951]])\n",
      "tensor([[0.2585, 0.7415]])\n",
      "tensor([[0.4092, 0.5908]])\n",
      "tensor([[0.2949, 0.7051]])\n",
      "tensor([[0.2261, 0.7739]])\n",
      "tensor([[0.2069, 0.7931]])\n",
      "tensor([[0.3990, 0.6010]])\n",
      "tensor([[0.4599, 0.5401]])\n",
      "tensor([[0.3871, 0.6129]])\n",
      "tensor([[0.2283, 0.7717]])\n",
      "tensor([[0.3526, 0.6474]])\n",
      "tensor([[0.4258, 0.5742]])\n",
      "tensor([[0.2832, 0.7168]])\n",
      "tensor([[0.2941, 0.7059]])\n",
      "tensor([[0.3777, 0.6223]])\n",
      "tensor([[0.4576, 0.5424]])\n",
      "tensor([[0.5019, 0.4981]])\n",
      "tensor([[0.5371, 0.4629]])\n",
      "tensor([[0.3948, 0.6052]])\n",
      "tensor([[0.4241, 0.5759]])\n",
      "tensor([[0.5339, 0.4661]])\n",
      "tensor([[0.2147, 0.7853]])\n",
      "tensor([[0.6197, 0.3803]])\n",
      "tensor([[0.4096, 0.5904]])\n",
      "tensor([[0.3195, 0.6805]])\n",
      "tensor([[0.5660, 0.4340]])\n",
      "tensor([[0.5292, 0.4708]])\n",
      "tensor([[0.5112, 0.4888]])\n",
      "tensor([[0.2876, 0.7124]])\n",
      "tensor([[0.3282, 0.6718]])\n",
      "tensor([[0.2543, 0.7457]])\n",
      "tensor([[0.5826, 0.4174]])\n",
      "tensor([[0.5699, 0.4301]])\n",
      "tensor([[0.5429, 0.4571]])\n",
      "tensor([[0.6809, 0.3191]])\n",
      "tensor([[0.3246, 0.6754]])\n",
      "tensor([[0.4137, 0.5863]])\n",
      "tensor([[0.5216, 0.4784]])\n",
      "tensor([[0.2626, 0.7374]])\n",
      "tensor([[0.2307, 0.7693]])\n",
      "tensor([[0.2693, 0.7307]])\n",
      "tensor([[0.4422, 0.5578]])\n",
      "tensor([[0.3137, 0.6863]])\n",
      "tensor([[0.3345, 0.6655]])\n",
      "tensor([[0.4175, 0.5825]])\n",
      "tensor([[0.3469, 0.6531]])\n",
      "tensor([[0.3267, 0.6733]])\n",
      "tensor([[0.4045, 0.5955]])\n",
      "tensor([[0.3188, 0.6812]])\n",
      "tensor([[0.7202, 0.2798]])\n",
      "tensor([[0.2627, 0.7373]])\n",
      "tensor([[0.2386, 0.7614]])\n",
      "tensor([[0.3170, 0.6830]])\n",
      "tensor([[0.2774, 0.7226]])\n",
      "tensor([[0.2668, 0.7332]])\n",
      "tensor([[0.2924, 0.7076]])\n",
      "tensor([[0.5659, 0.4341]])\n",
      "tensor([[0.6197, 0.3803]])\n",
      "tensor([[0.2244, 0.7756]])\n",
      "tensor([[0.2550, 0.7450]])\n",
      "tensor([[0.3692, 0.6308]])\n",
      "tensor([[0.5172, 0.4828]])\n",
      "tensor([[0.2921, 0.7079]])\n",
      "tensor([[0.2883, 0.7117]])\n",
      "tensor([[0.3721, 0.6279]])\n",
      "tensor([[0.2442, 0.7558]])\n",
      "tensor([[0.4408, 0.5592]])\n",
      "tensor([[0.2694, 0.7306]])\n",
      "tensor([[0.2472, 0.7528]])\n",
      "tensor([[0.4522, 0.5478]])\n",
      "tensor([[0.3907, 0.6093]])\n",
      "tensor([[0.3073, 0.6927]])\n"
     ]
    },
    {
     "name": "stdout",
     "output_type": "stream",
     "text": [
      "tensor([[0.3980, 0.6020]])\n",
      "tensor([[0.3215, 0.6785]])\n",
      "tensor([[0.4871, 0.5129]])\n",
      "tensor([[0.2997, 0.7003]])\n",
      "tensor([[0.4291, 0.5709]])\n",
      "tensor([[0.4736, 0.5264]])\n",
      "tensor([[0.3864, 0.6136]])\n",
      "tensor([[0.4647, 0.5353]])\n",
      "tensor([[0.2217, 0.7783]])\n",
      "tensor([[0.4550, 0.5450]])\n",
      "tensor([[0.5519, 0.4481]])\n",
      "tensor([[0.5137, 0.4863]])\n",
      "tensor([[0.4515, 0.5485]])\n",
      "tensor([[0.2930, 0.7070]])\n",
      "tensor([[0.3715, 0.6285]])\n",
      "tensor([[0.2252, 0.7748]])\n",
      "tensor([[0.4171, 0.5829]])\n",
      "tensor([[0.3044, 0.6956]])\n",
      "tensor([[0.6493, 0.3507]])\n",
      "tensor([[0.4049, 0.5951]])\n",
      "tensor([[0.3599, 0.6401]])\n",
      "tensor([[0.3463, 0.6537]])\n",
      "tensor([[0.4268, 0.5732]])\n",
      "tensor([[0.5335, 0.4665]])\n",
      "tensor([[0.3480, 0.6520]])\n",
      "tensor([[0.3316, 0.6684]])\n",
      "tensor([[0.2346, 0.7654]])\n",
      "tensor([[0.4181, 0.5819]])\n",
      "tensor([[0.6945, 0.3055]])\n",
      "tensor([[0.6135, 0.3865]])\n",
      "tensor([[0.2724, 0.7276]])\n",
      "tensor([[0.3635, 0.6365]])\n",
      "tensor([[0.2831, 0.7169]])\n",
      "tensor([[0.4037, 0.5963]])\n",
      "tensor([[0.4763, 0.5237]])\n",
      "tensor([[0.2968, 0.7032]])\n",
      "tensor([[0.5208, 0.4792]])\n",
      "tensor([[0.4179, 0.5821]])\n",
      "tensor([[0.4046, 0.5954]])\n",
      "tensor([[0.3232, 0.6768]])\n",
      "tensor([[0.3553, 0.6447]])\n",
      "tensor([[0.2021, 0.7979]])\n",
      "tensor([[0.6660, 0.3340]])\n",
      "tensor([[0.3451, 0.6549]])\n",
      "tensor([[0.4146, 0.5854]])\n",
      "tensor([[0.4110, 0.5890]])\n",
      "tensor([[0.3874, 0.6126]])\n",
      "tensor([[0.6017, 0.3983]])\n",
      "tensor([[0.4409, 0.5591]])\n",
      "tensor([[0.4967, 0.5033]])\n",
      "tensor([[0.2830, 0.7170]])\n",
      "tensor([[0.2437, 0.7563]])\n",
      "tensor([[0.3299, 0.6701]])\n",
      "tensor([[0.3211, 0.6789]])\n",
      "tensor([[0.3466, 0.6534]])\n",
      "tensor([[0.4260, 0.5740]])\n",
      "tensor([[0.3841, 0.6159]])\n",
      "tensor([[0.4952, 0.5048]])\n",
      "tensor([[0.1969, 0.8031]])\n",
      "tensor([[0.7070, 0.2930]])\n",
      "tensor([[0.4578, 0.5422]])\n",
      "tensor([[0.3105, 0.6895]])\n",
      "tensor([[0.2703, 0.7297]])\n",
      "tensor([[0.1941, 0.8059]])\n",
      "tensor([[0.2628, 0.7372]])\n",
      "tensor([[0.2802, 0.7198]])\n",
      "tensor([[0.2415, 0.7585]])\n",
      "tensor([[0.3722, 0.6278]])\n",
      "tensor([[0.2724, 0.7276]])\n",
      "tensor([[0.6873, 0.3127]])\n",
      "tensor([[0.4753, 0.5247]])\n",
      "tensor([[0.4585, 0.5415]])\n",
      "tensor([[0.5885, 0.4115]])\n",
      "tensor([[0.2274, 0.7726]])\n",
      "tensor([[0.6315, 0.3685]])\n",
      "tensor([[0.7070, 0.2930]])\n",
      "tensor([[0.4064, 0.5936]])\n",
      "tensor([[0.3226, 0.6774]])\n",
      "tensor([[0.4319, 0.5681]])\n",
      "tensor([[0.4420, 0.5580]])\n",
      "tensor([[0.3942, 0.6058]])\n",
      "tensor([[0.3720, 0.6280]])\n",
      "tensor([[0.4151, 0.5849]])\n",
      "tensor([[0.2518, 0.7482]])\n",
      "tensor([[0.5110, 0.4890]])\n",
      "tensor([[0.3512, 0.6488]])\n",
      "tensor([[0.1910, 0.8090]])\n",
      "tensor([[0.3984, 0.6016]])\n",
      "tensor([[0.4087, 0.5913]])\n",
      "tensor([[0.6047, 0.3953]])\n",
      "tensor([[0.2802, 0.7198]])\n",
      "tensor([[0.7620, 0.2380]])\n",
      "tensor([[0.2464, 0.7536]])\n",
      "tensor([[0.4055, 0.5945]])\n",
      "tensor([[0.2963, 0.7037]])\n",
      "tensor([[0.2784, 0.7216]])\n",
      "tensor([[0.3907, 0.6093]])\n",
      "tensor([[0.3350, 0.6650]])\n",
      "tensor([[0.6096, 0.3904]])\n",
      "tensor([[0.3866, 0.6134]])\n",
      "tensor([[0.3247, 0.6753]])\n",
      "tensor([[0.3942, 0.6058]])\n",
      "tensor([[0.3608, 0.6392]])\n",
      "tensor([[0.5193, 0.4807]])\n",
      "tensor([[0.2221, 0.7779]])\n",
      "tensor([[0.3799, 0.6201]])\n",
      "tensor([[0.6164, 0.3836]])\n",
      "tensor([[0.5463, 0.4537]])\n",
      "tensor([[0.4502, 0.5498]])\n",
      "tensor([[0.4793, 0.5207]])\n",
      "tensor([[0.2089, 0.7911]])\n",
      "tensor([[0.1047, 0.8953]])\n",
      "tensor([[0.4363, 0.5637]])\n",
      "tensor([[0.4113, 0.5887]])\n",
      "tensor([[0.2453, 0.7547]])\n",
      "tensor([[0.3366, 0.6634]])\n",
      "tensor([[0.2890, 0.7110]])\n",
      "tensor([[0.2466, 0.7534]])\n",
      "tensor([[0.3194, 0.6806]])\n",
      "tensor([[0.3474, 0.6526]])\n",
      "tensor([[0.3818, 0.6182]])\n",
      "tensor([[0.3256, 0.6744]])\n",
      "tensor([[0.4546, 0.5454]])\n",
      "tensor([[0.2585, 0.7415]])\n",
      "tensor([[0.4249, 0.5751]])\n",
      "tensor([[0.2526, 0.7474]])\n",
      "tensor([[0.2121, 0.7879]])\n",
      "tensor([[0.4390, 0.5610]])\n",
      "tensor([[0.4797, 0.5203]])\n",
      "tensor([[0.4598, 0.5402]])\n",
      "tensor([[0.3869, 0.6131]])\n",
      "tensor([[0.6999, 0.3001]])\n",
      "tensor([[0.6180, 0.3820]])\n",
      "tensor([[0.3760, 0.6240]])\n",
      "tensor([[0.6435, 0.3565]])\n",
      "tensor([[0.5357, 0.4643]])\n",
      "tensor([[0.2810, 0.7190]])\n",
      "tensor([[0.4742, 0.5258]])\n",
      "tensor([[0.5222, 0.4778]])\n",
      "tensor([[0.7386, 0.2614]])\n",
      "tensor([[0.3513, 0.6487]])\n",
      "tensor([[0.3019, 0.6981]])\n",
      "tensor([[0.2083, 0.7917]])\n",
      "tensor([[0.2854, 0.7146]])\n",
      "tensor([[0.4968, 0.5032]])\n",
      "tensor([[0.4154, 0.5846]])\n",
      "tensor([[0.2197, 0.7803]])\n",
      "tensor([[0.3614, 0.6386]])\n",
      "tensor([[0.3404, 0.6596]])\n",
      "tensor([[0.2583, 0.7417]])\n",
      "tensor([[0.5118, 0.4882]])\n",
      "tensor([[0.5426, 0.4574]])\n",
      "tensor([[0.4144, 0.5856]])\n",
      "tensor([[0.4377, 0.5623]])\n",
      "tensor([[0.2468, 0.7532]])\n",
      "tensor([[0.3252, 0.6748]])\n",
      "tensor([[0.2788, 0.7212]])\n",
      "tensor([[0.3499, 0.6501]])\n",
      "tensor([[0.4612, 0.5388]])\n",
      "tensor([[0.2183, 0.7817]])\n",
      "tensor([[0.3389, 0.6611]])\n",
      "tensor([[0.2717, 0.7283]])\n",
      "tensor([[0.4430, 0.5570]])\n",
      "tensor([[0.2771, 0.7229]])\n",
      "tensor([[0.4607, 0.5393]])\n",
      "tensor([[0.4417, 0.5583]])\n",
      "tensor([[0.6762, 0.3238]])\n",
      "tensor([[0.2414, 0.7586]])\n",
      "tensor([[0.4598, 0.5402]])\n",
      "tensor([[0.5491, 0.4509]])\n",
      "tensor([[0.6634, 0.3366]])\n",
      "tensor([[0.2981, 0.7019]])\n",
      "tensor([[0.4378, 0.5622]])\n",
      "tensor([[0.2065, 0.7935]])\n",
      "tensor([[0.4572, 0.5428]])\n",
      "tensor([[0.4708, 0.5292]])\n",
      "tensor([[0.4043, 0.5957]])\n",
      "tensor([[0.3123, 0.6877]])\n",
      "tensor([[0.4273, 0.5727]])\n",
      "tensor([[0.2799, 0.7201]])\n",
      "tensor([[0.4094, 0.5906]])\n",
      "tensor([[0.3670, 0.6330]])\n",
      "tensor([[0.3204, 0.6796]])\n",
      "tensor([[0.4757, 0.5243]])\n",
      "tensor([[0.5701, 0.4299]])\n",
      "tensor([[0.4452, 0.5548]])\n",
      "tensor([[0.3421, 0.6579]])\n",
      "tensor([[0.3456, 0.6544]])\n",
      "tensor([[0.2948, 0.7052]])\n",
      "tensor([[0.3355, 0.6645]])\n",
      "tensor([[0.3163, 0.6837]])\n",
      "tensor([[0.2254, 0.7746]])\n",
      "tensor([[0.3846, 0.6154]])\n",
      "tensor([[0.3015, 0.6985]])\n",
      "tensor([[0.5475, 0.4525]])\n",
      "tensor([[0.4223, 0.5777]])\n",
      "tensor([[0.5858, 0.4142]])\n",
      "tensor([[0.2516, 0.7484]])\n",
      "tensor([[0.2232, 0.7768]])\n",
      "tensor([[0.4913, 0.5087]])\n",
      "tensor([[0.3237, 0.6763]])\n",
      "tensor([[0.3477, 0.6523]])\n",
      "tensor([[0.4024, 0.5976]])\n",
      "tensor([[0.4644, 0.5356]])\n",
      "tensor([[0.5471, 0.4529]])\n",
      "tensor([[0.6290, 0.3710]])\n",
      "tensor([[0.6232, 0.3768]])\n",
      "tensor([[0.4167, 0.5833]])\n",
      "tensor([[0.2558, 0.7442]])\n",
      "tensor([[0.2592, 0.7408]])\n",
      "tensor([[0.3078, 0.6922]])\n",
      "tensor([[0.5210, 0.4790]])\n",
      "tensor([[0.2189, 0.7811]])\n",
      "tensor([[0.3276, 0.6724]])\n",
      "tensor([[0.2580, 0.7420]])\n",
      "tensor([[0.4447, 0.5553]])\n",
      "tensor([[0.2793, 0.7207]])\n",
      "tensor([[0.3359, 0.6641]])\n",
      "tensor([[0.6439, 0.3561]])\n",
      "tensor([[0.2772, 0.7228]])\n",
      "tensor([[0.2437, 0.7563]])\n",
      "tensor([[0.2744, 0.7256]])\n",
      "tensor([[0.3259, 0.6741]])\n",
      "tensor([[0.4141, 0.5859]])\n",
      "tensor([[0.3751, 0.6249]])\n",
      "tensor([[0.3643, 0.6357]])\n",
      "tensor([[0.2777, 0.7223]])\n",
      "tensor([[0.4850, 0.5150]])\n",
      "tensor([[0.2960, 0.7040]])\n",
      "tensor([[0.7402, 0.2598]])\n",
      "tensor([[0.4036, 0.5964]])\n",
      "tensor([[0.2557, 0.7443]])\n",
      "tensor([[0.3610, 0.6390]])\n",
      "tensor([[0.4376, 0.5624]])\n",
      "tensor([[0.2932, 0.7068]])\n",
      "tensor([[0.2405, 0.7595]])\n",
      "tensor([[0.4638, 0.5362]])\n",
      "tensor([[0.5172, 0.4828]])\n",
      "tensor([[0.6509, 0.3491]])\n",
      "tensor([[0.4441, 0.5559]])\n",
      "tensor([[0.2179, 0.7821]])\n",
      "tensor([[0.3179, 0.6821]])\n",
      "tensor([[0.6700, 0.3300]])\n",
      "tensor([[0.3785, 0.6215]])\n",
      "tensor([[0.5460, 0.4540]])\n",
      "tensor([[0.4156, 0.5844]])\n",
      "tensor([[0.2559, 0.7441]])\n",
      "tensor([[0.3810, 0.6190]])\n",
      "tensor([[0.5317, 0.4683]])\n",
      "tensor([[0.4494, 0.5506]])\n",
      "tensor([[0.3836, 0.6164]])\n",
      "tensor([[0.2608, 0.7392]])\n",
      "tensor([[0.4730, 0.5270]])\n",
      "tensor([[0.4396, 0.5604]])\n",
      "tensor([[0.2370, 0.7630]])\n",
      "tensor([[0.4648, 0.5352]])\n",
      "tensor([[0.3323, 0.6677]])\n",
      "tensor([[0.3698, 0.6302]])\n",
      "tensor([[0.2440, 0.7560]])\n",
      "tensor([[0.3133, 0.6867]])\n",
      "tensor([[0.5216, 0.4784]])\n",
      "tensor([[0.3547, 0.6453]])\n",
      "tensor([[0.3354, 0.6646]])\n",
      "tensor([[0.3225, 0.6775]])\n",
      "tensor([[0.3951, 0.6049]])\n",
      "tensor([[0.3517, 0.6483]])\n",
      "tensor([[0.2328, 0.7672]])\n",
      "tensor([[0.2392, 0.7608]])\n",
      "tensor([[0.3399, 0.6601]])\n",
      "tensor([[0.3697, 0.6303]])\n",
      "tensor([[0.4583, 0.5417]])\n",
      "tensor([[0.3007, 0.6993]])\n",
      "tensor([[0.2283, 0.7717]])\n",
      "tensor([[0.5010, 0.4990]])\n",
      "tensor([[0.2971, 0.7029]])\n",
      "tensor([[0.4754, 0.5246]])\n",
      "tensor([[0.2762, 0.7238]])\n",
      "tensor([[0.2975, 0.7025]])\n",
      "tensor([[0.3537, 0.6463]])\n",
      "tensor([[0.2965, 0.7035]])\n",
      "tensor([[0.5888, 0.4112]])\n",
      "tensor([[0.4403, 0.5597]])\n",
      "tensor([[0.3820, 0.6180]])\n",
      "tensor([[0.2746, 0.7254]])\n",
      "tensor([[0.2766, 0.7234]])\n",
      "tensor([[0.2235, 0.7765]])\n",
      "tensor([[0.6804, 0.3196]])\n",
      "tensor([[0.3940, 0.6060]])\n",
      "tensor([[0.3706, 0.6294]])\n",
      "tensor([[0.3947, 0.6053]])\n",
      "tensor([[0.5178, 0.4822]])\n",
      "tensor([[0.5846, 0.4154]])\n",
      "tensor([[0.4523, 0.5477]])\n",
      "tensor([[0.5722, 0.4278]])\n",
      "tensor([[0.4586, 0.5414]])\n",
      "tensor([[0.3776, 0.6224]])\n",
      "tensor([[0.6236, 0.3764]])\n",
      "tensor([[0.4584, 0.5416]])\n",
      "tensor([[0.2660, 0.7340]])\n",
      "tensor([[0.2896, 0.7104]])\n",
      "tensor([[0.4460, 0.5540]])\n",
      "tensor([[0.6845, 0.3155]])\n",
      "tensor([[0.3983, 0.6017]])\n",
      "tensor([[0.4364, 0.5636]])\n",
      "tensor([[0.4207, 0.5793]])\n",
      "tensor([[0.3847, 0.6153]])\n",
      "tensor([[0.3732, 0.6268]])\n",
      "tensor([[0.4528, 0.5472]])\n"
     ]
    },
    {
     "name": "stdout",
     "output_type": "stream",
     "text": [
      "tensor([[0.4966, 0.5034]])\n",
      "tensor([[0.3908, 0.6092]])\n",
      "tensor([[0.5978, 0.4022]])\n",
      "tensor([[0.6547, 0.3453]])\n",
      "tensor([[0.4371, 0.5629]])\n",
      "tensor([[0.5026, 0.4974]])\n",
      "tensor([[0.1881, 0.8119]])\n",
      "tensor([[0.2109, 0.7891]])\n",
      "tensor([[0.2823, 0.7177]])\n",
      "tensor([[0.5587, 0.4413]])\n",
      "tensor([[0.2858, 0.7142]])\n",
      "tensor([[0.2953, 0.7047]])\n",
      "tensor([[0.2631, 0.7369]])\n",
      "tensor([[0.6266, 0.3734]])\n",
      "tensor([[0.3746, 0.6254]])\n",
      "tensor([[0.3043, 0.6957]])\n",
      "tensor([[0.4169, 0.5831]])\n",
      "tensor([[0.5662, 0.4338]])\n",
      "tensor([[0.2985, 0.7015]])\n",
      "accurcy :  0.648\n"
     ]
    }
   ],
   "source": [
    "correct = 0\n",
    "total = 0\n",
    "with torch.no_grad():\n",
    "    for i in range(len(test_x)):\n",
    "        real_class = torch.argmax(test_y[i])\n",
    "        prediction = net(test_x[i].view(-1, 1, 48, 48))\n",
    "        print(prediction)\n",
    "        predicted_class = torch.argmax(prediction)\n",
    "        if predicted_class == real_class:\n",
    "            correct += 1\n",
    "        total += 1\n",
    "print(\"accurcy : \", round(correct/total, 3))"
   ]
  },
  {
   "cell_type": "code",
   "execution_count": 14,
   "metadata": {},
   "outputs": [
    {
     "name": "stdout",
     "output_type": "stream",
     "text": [
      "cpu\n"
     ]
    }
   ],
   "source": [
    "if torch.cuda.is_available():\n",
    "    device = torch.device(\"cuda\")\n",
    "else:\n",
    "    device = torch.device(\"cpu\")\n",
    "print(device)"
   ]
  },
  {
   "cell_type": "code",
   "execution_count": null,
   "metadata": {},
   "outputs": [],
   "source": []
  }
 ],
 "metadata": {
  "kernelspec": {
   "display_name": "Python 3",
   "language": "python",
   "name": "python3"
  },
  "language_info": {
   "codemirror_mode": {
    "name": "ipython",
    "version": 3
   },
   "file_extension": ".py",
   "mimetype": "text/x-python",
   "name": "python",
   "nbconvert_exporter": "python",
   "pygments_lexer": "ipython3",
   "version": "3.7.5"
  }
 },
 "nbformat": 4,
 "nbformat_minor": 2
}
